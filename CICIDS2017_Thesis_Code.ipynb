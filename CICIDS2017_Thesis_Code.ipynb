{
  "nbformat": 4,
  "nbformat_minor": 0,
  "metadata": {
    "colab": {
      "provenance": [],
      "mount_file_id": "16tRQ8JA4eiwqVBij8oo8PuqpwQNp5H0I",
      "authorship_tag": "ABX9TyPpCqkOnPY0B52fEqUjr0e0",
      "include_colab_link": true
    },
    "kernelspec": {
      "name": "python3",
      "display_name": "Python 3"
    },
    "language_info": {
      "name": "python"
    }
  },
  "cells": [
    {
      "cell_type": "markdown",
      "metadata": {
        "id": "view-in-github",
        "colab_type": "text"
      },
      "source": [
        "<a href=\"https://colab.research.google.com/github/Ashahroz/k201220ThesisCode/blob/main/CICIDS2017_Thesis_Code.ipynb\" target=\"_parent\"><img src=\"https://colab.research.google.com/assets/colab-badge.svg\" alt=\"Open In Colab\"/></a>"
      ]
    },
    {
      "cell_type": "code",
      "execution_count": 1,
      "metadata": {
        "id": "6Aid9mwPf8BC"
      },
      "outputs": [],
      "source": [
        "import pandas as pd\n",
        "\n",
        "# Read the CSV file into a DataFrame\n",
        "data = pd.read_csv('/content/drive/MyDrive/CICIDS_2017.csv')\n"
      ]
    },
    {
      "cell_type": "code",
      "source": [
        "print(data.columns)\n"
      ],
      "metadata": {
        "colab": {
          "base_uri": "https://localhost:8080/"
        },
        "id": "AaSgWvjl5e-w",
        "outputId": "70a49f98-5045-49ad-b848-5304b75d319b"
      },
      "execution_count": 4,
      "outputs": [
        {
          "output_type": "stream",
          "name": "stdout",
          "text": [
            "Index([' Destination Port', ' Flow Duration', ' Total Fwd Packets',\n",
            "       ' Total Backward Packets', 'Total Length of Fwd Packets',\n",
            "       ' Total Length of Bwd Packets', ' Fwd Packet Length Max',\n",
            "       ' Fwd Packet Length Min', ' Fwd Packet Length Mean',\n",
            "       ' Fwd Packet Length Std', 'Bwd Packet Length Max',\n",
            "       ' Bwd Packet Length Min', ' Bwd Packet Length Mean',\n",
            "       ' Bwd Packet Length Std', 'Flow Bytes/s', ' Flow Packets/s',\n",
            "       ' Flow IAT Mean', ' Flow IAT Std', ' Flow IAT Max', ' Flow IAT Min',\n",
            "       'Fwd IAT Total', ' Fwd IAT Mean', ' Fwd IAT Std', ' Fwd IAT Max',\n",
            "       ' Fwd IAT Min', 'Bwd IAT Total', ' Bwd IAT Mean', ' Bwd IAT Std',\n",
            "       ' Bwd IAT Max', ' Bwd IAT Min', 'Fwd PSH Flags', ' Bwd PSH Flags',\n",
            "       ' Fwd URG Flags', ' Bwd URG Flags', ' Fwd Header Length',\n",
            "       ' Bwd Header Length', 'Fwd Packets/s', ' Bwd Packets/s',\n",
            "       ' Min Packet Length', ' Max Packet Length', ' Packet Length Mean',\n",
            "       ' Packet Length Std', ' Packet Length Variance', 'FIN Flag Count',\n",
            "       ' SYN Flag Count', ' RST Flag Count', ' PSH Flag Count',\n",
            "       ' ACK Flag Count', ' URG Flag Count', ' CWE Flag Count',\n",
            "       ' ECE Flag Count', ' Down/Up Ratio', ' Average Packet Size',\n",
            "       ' Avg Fwd Segment Size', ' Avg Bwd Segment Size',\n",
            "       ' Fwd Header Length.1', 'Fwd Avg Bytes/Bulk', ' Fwd Avg Packets/Bulk',\n",
            "       ' Fwd Avg Bulk Rate', ' Bwd Avg Bytes/Bulk', ' Bwd Avg Packets/Bulk',\n",
            "       'Bwd Avg Bulk Rate', 'Subflow Fwd Packets', ' Subflow Fwd Bytes',\n",
            "       ' Subflow Bwd Packets', ' Subflow Bwd Bytes', 'Init_Win_bytes_forward',\n",
            "       ' Init_Win_bytes_backward', ' act_data_pkt_fwd',\n",
            "       ' min_seg_size_forward', 'Active Mean', ' Active Std', ' Active Max',\n",
            "       ' Active Min', 'Idle Mean', ' Idle Std', ' Idle Max', ' Idle Min',\n",
            "       ' Label'],\n",
            "      dtype='object')\n"
          ]
        }
      ]
    },
    {
      "cell_type": "code",
      "source": [
        "from sklearn.model_selection import train_test_split\n",
        "\n",
        "# Split the data into features (X) and labels (y)\n",
        "X = data.drop(' Label', axis=1)  # Features\n",
        "y = data[' Label']  # Labels\n",
        "\n",
        "# Identify categorical columns\n",
        "categorical_cols = X.select_dtypes(include=['object']).columns.tolist()\n",
        "\n",
        "# One-hot encode categorical columns\n",
        "X_encoded = pd.get_dummies(X, columns=categorical_cols)\n",
        "\n",
        "# Split the encoded data into training and testing sets\n",
        "X_train_enc, X_test_enc, y_train, y_test = train_test_split(X_encoded, y, test_size=0.4, random_state=42)\n"
      ],
      "metadata": {
        "id": "zdDcZwz4gYe5"
      },
      "execution_count": 5,
      "outputs": []
    },
    {
      "cell_type": "code",
      "source": [
        "import numpy as np\n",
        "\n",
        "# Check for infinite values\n",
        "print(np.any(np.isinf(X_train_enc)))\n",
        "print(np.any(np.isinf(X_test_enc)))\n",
        "\n",
        "# Check for NaN values\n",
        "print(np.any(np.isnan(X_train_enc)))\n",
        "print(np.any(np.isnan(X_test_enc)))\n"
      ],
      "metadata": {
        "colab": {
          "base_uri": "https://localhost:8080/"
        },
        "id": "nd_2QwK35y6h",
        "outputId": "d266ce65-5f41-44d6-e32c-48ed125abb01"
      },
      "execution_count": 9,
      "outputs": [
        {
          "output_type": "stream",
          "name": "stdout",
          "text": [
            "True\n",
            "True\n",
            "True\n",
            "True\n"
          ]
        }
      ]
    },
    {
      "cell_type": "code",
      "source": [
        "X_train_enc.replace([np.inf, -np.inf], np.nan, inplace=True)\n",
        "X_test_enc.replace([np.inf, -np.inf], np.nan, inplace=True)\n",
        "\n",
        "# Replace NaN with mean or median\n",
        "X_train_enc.fillna(X_train_enc.mean(), inplace=True)\n",
        "X_test_enc.fillna(X_test_enc.mean(), inplace=True)\n"
      ],
      "metadata": {
        "id": "ep8JPy_h59FY"
      },
      "execution_count": 10,
      "outputs": []
    },
    {
      "cell_type": "code",
      "source": [
        "from sklearn.linear_model import RidgeClassifier\n",
        "\n",
        "# Create the Ridge Classifier model\n",
        "ridge_clf = RidgeClassifier()\n",
        "\n",
        "# Fit the model on the training data\n",
        "ridge_clf.fit(X_train_enc, y_train)\n",
        "\n",
        "# Make predictions\n",
        "predictions = ridge_clf.predict(X_test_enc)\n",
        "\n",
        "# Evaluate the model\n",
        "accuracy = accuracy_score(y_test, predictions)\n",
        "print(f\"Accuracy of Ridge Classifier with encoded data: {accuracy}\")\n"
      ],
      "metadata": {
        "colab": {
          "base_uri": "https://localhost:8080/"
        },
        "id": "YFw611qNganh",
        "outputId": "88b8ea47-ce0f-4cde-851e-f13297b152ca"
      },
      "execution_count": 13,
      "outputs": [
        {
          "output_type": "stream",
          "name": "stderr",
          "text": [
            "/usr/local/lib/python3.10/dist-packages/sklearn/linear_model/_ridge.py:216: LinAlgWarning: Ill-conditioned matrix (rcond=5.11973e-21): result may not be accurate.\n",
            "  return linalg.solve(A, Xy, assume_a=\"pos\", overwrite_a=True).T\n"
          ]
        },
        {
          "output_type": "stream",
          "name": "stdout",
          "text": [
            "Accuracy of Ridge Classifier with encoded data: 0.9743333333333334\n"
          ]
        }
      ]
    },
    {
      "cell_type": "code",
      "source": [
        "\n",
        "from sklearn.metrics import accuracy_score, precision_score, recall_score, f1_score, confusion_matrix\n",
        "import matplotlib.pyplot as plt\n",
        "import seaborn as sns\n",
        "\n",
        "# Calculate accuracy\n",
        "accuracy = accuracy_score(y_test, predictions)\n",
        "\n",
        "# Calculate precision\n",
        "precision = precision_score(y_test, predictions, average='weighted')\n",
        "\n",
        "# Calculate recall\n",
        "recall = recall_score(y_test, predictions, average='weighted')\n",
        "\n",
        "# Calculate F1 score\n",
        "f1 = f1_score(y_test, predictions, average='weighted')\n",
        "\n",
        "print(f\"Accuracy: {accuracy:.4f}\")\n",
        "print(f\"Precision: {precision:.4f}\")\n",
        "print(f\"Recall: {recall:.4f}\")\n",
        "print(f\"F1 Score: {f1:.4f}\")\n",
        "\n",
        "# Plot confusion matrix\n",
        "cm = confusion_matrix(y_test, predictions)\n",
        "plt.figure(figsize=(8, 6))\n",
        "sns.heatmap(cm, annot=True, fmt=\"d\", cmap=\"Blues\", cbar=False)\n",
        "plt.xlabel('Predicted Labels')\n",
        "plt.ylabel('True Labels')\n",
        "plt.title('Confusion Matrix')\n",
        "plt.show()\n"
      ],
      "metadata": {
        "colab": {
          "base_uri": "https://localhost:8080/",
          "height": 633
        },
        "id": "ny9eFyr3gcWk",
        "outputId": "70d24f82-dad2-4f87-87ba-0d8eb45898e1"
      },
      "execution_count": 15,
      "outputs": [
        {
          "output_type": "stream",
          "name": "stdout",
          "text": [
            "Accuracy: 0.9743\n",
            "Precision: 0.9755\n",
            "Recall: 0.9743\n",
            "F1 Score: 0.9743\n"
          ]
        },
        {
          "output_type": "display_data",
          "data": {
            "text/plain": [
              "<Figure size 800x600 with 1 Axes>"
            ],
            "image/png": "[encoded data removed]"
          },
          "metadata": {}
        }
      ]
    },
    {
      "cell_type": "code",
      "source": [
        "from sklearn.linear_model import LogisticRegression\n",
        "\n",
        "# Create the Logistic Regression model\n",
        "logistic_reg = LogisticRegression(max_iter=1000)\n",
        "\n",
        "# Fit the model on the training data\n",
        "logistic_reg.fit(X_train_enc, y_train)\n",
        "\n",
        "# Make predictions\n",
        "logistic_predictions = logistic_reg.predict(X_test_enc)\n",
        "\n",
        "# Calculate accuracy\n",
        "accuracy_logistic = accuracy_score(y_test, logistic_predictions)\n",
        "\n",
        "# Calculate precision\n",
        "precision_logistic = precision_score(y_test, logistic_predictions, average='weighted')\n",
        "\n",
        "# Calculate recall\n",
        "recall_logistic = recall_score(y_test, logistic_predictions, average='weighted')\n",
        "\n",
        "# Calculate F1 score\n",
        "f1_logistic = f1_score(y_test, logistic_predictions, average='weighted')\n",
        "\n",
        "print(f\"Accuracy (Logistic Regression): {accuracy_logistic:.4f}\")\n",
        "print(f\"Precision (Logistic Regression): {precision_logistic:.4f}\")\n",
        "print(f\"Recall (Logistic Regression): {recall_logistic:.4f}\")\n",
        "print(f\"F1 Score (Logistic Regression): {f1_logistic:.4f}\")\n",
        "\n",
        "# Plot confusion matrix for Logistic Regression\n",
        "cm_logistic = confusion_matrix(y_test, logistic_predictions)\n",
        "plt.figure(figsize=(8, 6))\n",
        "sns.heatmap(cm_logistic, annot=True, fmt=\"d\", cmap=\"Blues\", cbar=False)\n",
        "plt.xlabel('Predicted Labels')\n",
        "plt.ylabel('True Labels')\n",
        "plt.title('Confusion Matrix (Logistic Regression)')\n",
        "plt.show()\n"
      ],
      "metadata": {
        "colab": {
          "base_uri": "https://localhost:8080/",
          "height": 772
        },
        "id": "D-I8eewEgwIF",
        "outputId": "c0b1ba38-f34a-456f-9875-3fb002572813"
      },
      "execution_count": 17,
      "outputs": [
        {
          "output_type": "stream",
          "name": "stderr",
          "text": [
            "/usr/local/lib/python3.10/dist-packages/sklearn/linear_model/_logistic.py:458: ConvergenceWarning: lbfgs failed to converge (status=1):\n",
            "STOP: TOTAL NO. of ITERATIONS REACHED LIMIT.\n",
            "\n",
            "Increase the number of iterations (max_iter) or scale the data as shown in:\n",
            "    https://scikit-learn.org/stable/modules/preprocessing.html\n",
            "Please also refer to the documentation for alternative solver options:\n",
            "    https://scikit-learn.org/stable/modules/linear_model.html#logistic-regression\n",
            "  n_iter_i = _check_optimize_result(\n"
          ]
        },
        {
          "output_type": "stream",
          "name": "stdout",
          "text": [
            "Accuracy (Logistic Regression): 0.9901\n",
            "Precision (Logistic Regression): 0.9902\n",
            "Recall (Logistic Regression): 0.9901\n",
            "F1 Score (Logistic Regression): 0.9901\n"
          ]
        },
        {
          "output_type": "display_data",
          "data": {
            "text/plain": [
              "<Figure size 800x600 with 1 Axes>"
            ],
            "image/png": "[encoded data removed]"
          },
          "metadata": {}
        }
      ]
    },
    {
      "cell_type": "code",
      "source": [
        "from sklearn.svm import LinearSVC\n",
        "\n",
        "# Create the LinearSVC model\n",
        "linear_svc = LinearSVC(max_iter=10000)\n",
        "\n",
        "# Fit the model on the training data\n",
        "linear_svc.fit(X_train_enc, y_train)\n",
        "\n",
        "# Make predictions\n",
        "linear_svc_predictions = linear_svc.predict(X_test_enc)\n",
        "\n",
        "# Calculate accuracy\n",
        "accuracy_linear_svc = accuracy_score(y_test, linear_svc_predictions)\n",
        "\n",
        "# Calculate precision\n",
        "precision_linear_svc = precision_score(y_test, linear_svc_predictions, average='weighted')\n",
        "\n",
        "# Calculate recall\n",
        "recall_linear_svc = recall_score(y_test, linear_svc_predictions, average='weighted')\n",
        "\n",
        "# Calculate F1 score\n",
        "f1_linear_svc = f1_score(y_test, linear_svc_predictions, average='weighted')\n",
        "\n",
        "print(f\"Accuracy (LinearSVC): {accuracy_linear_svc:.4f}\")\n",
        "print(f\"Precision (LinearSVC): {precision_linear_svc:.4f}\")\n",
        "print(f\"Recall (LinearSVC): {recall_linear_svc:.4f}\")\n",
        "print(f\"F1 Score (LinearSVC): {f1_linear_svc:.4f}\")\n",
        "\n",
        "# Plot confusion matrix for LinearSVC\n",
        "cm_linear_svc = confusion_matrix(y_test, linear_svc_predictions)\n",
        "plt.figure(figsize=(8, 6))\n",
        "sns.heatmap(cm_linear_svc, annot=True, fmt=\"d\", cmap=\"Blues\", cbar=False)\n",
        "plt.xlabel('Predicted Labels')\n",
        "plt.ylabel('True Labels')\n",
        "plt.title('Confusion Matrix (LinearSVC)')\n",
        "plt.show()\n"
      ],
      "metadata": {
        "colab": {
          "base_uri": "https://localhost:8080/",
          "height": 668
        },
        "id": "BZ9NgsjphRd7",
        "outputId": "12579977-3325-4949-beb0-a7efb3838c11"
      },
      "execution_count": 18,
      "outputs": [
        {
          "output_type": "stream",
          "name": "stderr",
          "text": [
            "/usr/local/lib/python3.10/dist-packages/sklearn/svm/_base.py:1244: ConvergenceWarning: Liblinear failed to converge, increase the number of iterations.\n",
            "  warnings.warn(\n"
          ]
        },
        {
          "output_type": "stream",
          "name": "stdout",
          "text": [
            "Accuracy (LinearSVC): 0.9462\n",
            "Precision (LinearSVC): 0.9474\n",
            "Recall (LinearSVC): 0.9462\n",
            "F1 Score (LinearSVC): 0.9462\n"
          ]
        },
        {
          "output_type": "display_data",
          "data": {
            "text/plain": [
              "<Figure size 800x600 with 1 Axes>"
            ],
            "image/png": "[encoded data removed]"
          },
          "metadata": {}
        }
      ]
    },
    {
      "cell_type": "code",
      "source": [
        "from sklearn.svm import SVC\n",
        "\n",
        "# Create the SVC model\n",
        "svc = SVC()\n",
        "\n",
        "# Fit the model on the training data\n",
        "svc.fit(X_train_enc, y_train)\n",
        "\n",
        "# Make predictions\n",
        "svc_predictions = svc.predict(X_test_enc)\n",
        "\n",
        "# Calculate accuracy\n",
        "accuracy_svc = accuracy_score(y_test, svc_predictions)\n",
        "\n",
        "# Calculate precision\n",
        "precision_svc = precision_score(y_test, svc_predictions, average='weighted')\n",
        "\n",
        "# Calculate recall\n",
        "recall_svc = recall_score(y_test, svc_predictions, average='weighted')\n",
        "\n",
        "# Calculate F1 score\n",
        "f1_svc = f1_score(y_test, svc_predictions, average='weighted')\n",
        "\n",
        "print(f\"Accuracy (SVC): {accuracy_svc:.4f}\")\n",
        "print(f\"Precision (SVC): {precision_svc:.4f}\")\n",
        "print(f\"Recall (SVC): {recall_svc:.4f}\")\n",
        "print(f\"F1 Score (SVC): {f1_svc:.4f}\")\n",
        "\n",
        "# Plot confusion matrix for SVC\n",
        "cm_svc = confusion_matrix(y_test, svc_predictions)\n",
        "plt.figure(figsize=(8, 6))\n",
        "sns.heatmap(cm_svc, annot=True, fmt=\"d\", cmap=\"Blues\", cbar=False)\n",
        "plt.xlabel('Predicted Labels')\n",
        "plt.ylabel('True Labels')\n",
        "plt.title('Confusion Matrix (SVC)')\n",
        "plt.show()\n"
      ],
      "metadata": {
        "colab": {
          "base_uri": "https://localhost:8080/",
          "height": 633
        },
        "id": "wdT4fC4GiOcZ",
        "outputId": "634789fe-d74e-4924-f82e-bcf0ea5606a7"
      },
      "execution_count": 19,
      "outputs": [
        {
          "output_type": "stream",
          "name": "stdout",
          "text": [
            "Accuracy (SVC): 0.9486\n",
            "Precision (SVC): 0.9486\n",
            "Recall (SVC): 0.9486\n",
            "F1 Score (SVC): 0.9486\n"
          ]
        },
        {
          "output_type": "display_data",
          "data": {
            "text/plain": [
              "<Figure size 800x600 with 1 Axes>"
            ],
            "image/png": "[encoded data removed]"
          },
          "metadata": {}
        }
      ]
    },
    {
      "cell_type": "code",
      "source": [
        "from sklearn.naive_bayes import GaussianNB\n",
        "\n",
        "# Create the Gaussian Naive Bayes model\n",
        "gnb = GaussianNB()\n",
        "\n",
        "# Fit the model on the training data\n",
        "gnb.fit(X_train_enc, y_train)\n",
        "\n",
        "# Make predictions\n",
        "gnb_predictions = gnb.predict(X_test_enc)\n",
        "\n",
        "# Calculate accuracy\n",
        "accuracy_gnb = accuracy_score(y_test, gnb_predictions)\n",
        "\n",
        "# Calculate precision\n",
        "precision_gnb = precision_score(y_test, gnb_predictions, average='weighted')\n",
        "\n",
        "# Calculate recall\n",
        "recall_gnb = recall_score(y_test, gnb_predictions, average='weighted')\n",
        "\n",
        "# Calculate F1 score\n",
        "f1_gnb = f1_score(y_test, gnb_predictions, average='weighted')\n",
        "\n",
        "print(f\"Accuracy (GaussianNB): {accuracy_gnb:.4f}\")\n",
        "print(f\"Precision (GaussianNB): {precision_gnb:.4f}\")\n",
        "print(f\"Recall (GaussianNB): {recall_gnb:.4f}\")\n",
        "print(f\"F1 Score (GaussianNB): {f1_gnb:.4f}\")\n",
        "\n",
        "# Plot confusion matrix for GaussianNB\n",
        "cm_gnb = confusion_matrix(y_test, gnb_predictions)\n",
        "plt.figure(figsize=(8, 6))\n",
        "sns.heatmap(cm_gnb, annot=True, fmt=\"d\", cmap=\"Blues\", cbar=False)\n",
        "plt.xlabel('Predicted Labels')\n",
        "plt.ylabel('True Labels')\n",
        "plt.title('Confusion Matrix (GaussianNB)')\n",
        "plt.show()\n"
      ],
      "metadata": {
        "colab": {
          "base_uri": "https://localhost:8080/",
          "height": 633
        },
        "id": "TDsb0n9JjkPM",
        "outputId": "87a8218e-aed0-478b-d6b6-5643657ce806"
      },
      "execution_count": 20,
      "outputs": [
        {
          "output_type": "stream",
          "name": "stdout",
          "text": [
            "Accuracy (GaussianNB): 0.7237\n",
            "Precision (GaussianNB): 0.8195\n",
            "Recall (GaussianNB): 0.7237\n",
            "F1 Score (GaussianNB): 0.6999\n"
          ]
        },
        {
          "output_type": "display_data",
          "data": {
            "text/plain": [
              "<Figure size 800x600 with 1 Axes>"
            ],
            "image/png": "[encoded data removed]"
          },
          "metadata": {}
        }
      ]
    },
    {
      "cell_type": "code",
      "source": [
        "from sklearn.naive_bayes import BernoulliNB\n",
        "\n",
        "# Create the Bernoulli Naive Bayes model\n",
        "bnb = BernoulliNB()\n",
        "\n",
        "# Fit the model on the training data\n",
        "bnb.fit(X_train_enc, y_train)\n",
        "\n",
        "# Make predictions\n",
        "bnb_predictions = bnb.predict(X_test_enc)\n",
        "\n",
        "# Calculate accuracy\n",
        "accuracy_bnb = accuracy_score(y_test, bnb_predictions)\n",
        "\n",
        "# Calculate precision\n",
        "precision_bnb = precision_score(y_test, bnb_predictions, average='weighted')\n",
        "\n",
        "# Calculate recall\n",
        "recall_bnb = recall_score(y_test, bnb_predictions, average='weighted')\n",
        "\n",
        "# Calculate F1 score\n",
        "f1_bnb = f1_score(y_test, bnb_predictions, average='weighted')\n",
        "\n",
        "print(f\"Accuracy (BernoulliNB): {accuracy_bnb:.4f}\")\n",
        "print(f\"Precision (BernoulliNB): {precision_bnb:.4f}\")\n",
        "print(f\"Recall (BernoulliNB): {recall_bnb:.4f}\")\n",
        "print(f\"F1 Score (BernoulliNB): {f1_bnb:.4f}\")\n",
        "\n",
        "# Plot confusion matrix for BernoulliNB\n",
        "cm_bnb = confusion_matrix(y_test, bnb_predictions)\n",
        "plt.figure(figsize=(8, 6))\n",
        "sns.heatmap(cm_bnb, annot=True, fmt=\"d\", cmap=\"Blues\", cbar=False)\n",
        "plt.xlabel('Predicted Labels')\n",
        "plt.ylabel('True Labels')\n",
        "plt.title('Confusion Matrix (BernoulliNB)')\n",
        "plt.show()\n"
      ],
      "metadata": {
        "colab": {
          "base_uri": "https://localhost:8080/",
          "height": 633
        },
        "id": "kgCUHn4Ij_wE",
        "outputId": "4f03d184-acda-475a-8411-52b7c09cce7e"
      },
      "execution_count": 21,
      "outputs": [
        {
          "output_type": "stream",
          "name": "stdout",
          "text": [
            "Accuracy (BernoulliNB): 0.8727\n",
            "Precision (BernoulliNB): 0.8976\n",
            "Recall (BernoulliNB): 0.8727\n",
            "F1 Score (BernoulliNB): 0.8704\n"
          ]
        },
        {
          "output_type": "display_data",
          "data": {
            "text/plain": [
              "<Figure size 800x600 with 1 Axes>"
            ],
            "image/png": "[encoded data removed]"
          },
          "metadata": {}
        }
      ]
    },
    {
      "cell_type": "code",
      "source": [
        "from sklearn.linear_model import SGDClassifier\n",
        "\n",
        "# Create the SGD Classifier model\n",
        "sgd = SGDClassifier()\n",
        "\n",
        "# Fit the model on the training data\n",
        "sgd.fit(X_train_enc, y_train)\n",
        "\n",
        "# Make predictions\n",
        "sgd_predictions = sgd.predict(X_test_enc)\n",
        "\n",
        "# Calculate accuracy\n",
        "accuracy_sgd = accuracy_score(y_test, sgd_predictions)\n",
        "\n",
        "# Calculate precision\n",
        "precision_sgd = precision_score(y_test, sgd_predictions, average='weighted')\n",
        "\n",
        "# Calculate recall\n",
        "recall_sgd = recall_score(y_test, sgd_predictions, average='weighted')\n",
        "\n",
        "# Calculate F1 score\n",
        "f1_sgd = f1_score(y_test, sgd_predictions, average='weighted')\n",
        "\n",
        "print(f\"Accuracy (SGD Classifier): {accuracy_sgd:.4f}\")\n",
        "print(f\"Precision (SGD Classifier): {precision_sgd:.4f}\")\n",
        "print(f\"Recall (SGD Classifier): {recall_sgd:.4f}\")\n",
        "print(f\"F1 Score (SGD Classifier): {f1_sgd:.4f}\")\n",
        "\n",
        "# Plot confusion matrix for SGD Classifier\n",
        "cm_sgd = confusion_matrix(y_test, sgd_predictions)\n",
        "plt.figure(figsize=(8, 6))\n",
        "sns.heatmap(cm_sgd, annot=True, fmt=\"d\", cmap=\"Blues\", cbar=False)\n",
        "plt.xlabel('Predicted Labels')\n",
        "plt.ylabel('True Labels')\n",
        "plt.title('Confusion Matrix (SGD Classifier)')\n",
        "plt.show()\n"
      ],
      "metadata": {
        "colab": {
          "base_uri": "https://localhost:8080/",
          "height": 633
        },
        "id": "F8X0sIKGkXKT",
        "outputId": "6bf6e429-83a6-4a35-b37e-213a1e0d178c"
      },
      "execution_count": 22,
      "outputs": [
        {
          "output_type": "stream",
          "name": "stdout",
          "text": [
            "Accuracy (SGD Classifier): 0.9203\n",
            "Precision (SGD Classifier): 0.9253\n",
            "Recall (SGD Classifier): 0.9203\n",
            "F1 Score (SGD Classifier): 0.9200\n"
          ]
        },
        {
          "output_type": "display_data",
          "data": {
            "text/plain": [
              "<Figure size 800x600 with 1 Axes>"
            ],
            "image/png": "[encoded data removed]"
          },
          "metadata": {}
        }
      ]
    },
    {
      "cell_type": "code",
      "source": [
        "from sklearn.ensemble import RandomForestClassifier\n",
        "\n",
        "# Create the RandomForestClassifier model\n",
        "random_forest = RandomForestClassifier()\n",
        "\n",
        "# Fit the model on the training data\n",
        "random_forest.fit(X_train_enc, y_train)\n",
        "\n",
        "# Make predictions\n",
        "rf_predictions = random_forest.predict(X_test_enc)\n",
        "\n",
        "# Calculate accuracy\n",
        "accuracy_rf = accuracy_score(y_test, rf_predictions)\n",
        "\n",
        "# Calculate precision\n",
        "precision_rf = precision_score(y_test, rf_predictions, average='weighted')\n",
        "\n",
        "# Calculate recall\n",
        "recall_rf = recall_score(y_test, rf_predictions, average='weighted')\n",
        "\n",
        "# Calculate F1 score\n",
        "f1_rf = f1_score(y_test, rf_predictions, average='weighted')\n",
        "\n",
        "print(f\"Accuracy (RandomForestClassifier): {accuracy_rf:.4f}\")\n",
        "print(f\"Precision (RandomForestClassifier): {precision_rf:.4f}\")\n",
        "print(f\"Recall (RandomForestClassifier): {recall_rf:.4f}\")\n",
        "print(f\"F1 Score (RandomForestClassifier): {f1_rf:.4f}\")\n",
        "\n",
        "# Plot confusion matrix for RandomForestClassifier\n",
        "cm_rf = confusion_matrix(y_test, rf_predictions)\n",
        "plt.figure(figsize=(8, 6))\n",
        "sns.heatmap(cm_rf, annot=True, fmt=\"d\", cmap=\"Blues\", cbar=False)\n",
        "plt.xlabel('Predicted Labels')\n",
        "plt.ylabel('True Labels')\n",
        "plt.title('Confusion Matrix (RandomForestClassifier)')\n",
        "plt.show()\n"
      ],
      "metadata": {
        "colab": {
          "base_uri": "https://localhost:8080/",
          "height": 633
        },
        "id": "0hj0DS3Aken7",
        "outputId": "db1a1e1a-d203-4dfc-c7f9-4b1c8e983fc9"
      },
      "execution_count": 23,
      "outputs": [
        {
          "output_type": "stream",
          "name": "stdout",
          "text": [
            "Accuracy (RandomForestClassifier): 0.9995\n",
            "Precision (RandomForestClassifier): 0.9995\n",
            "Recall (RandomForestClassifier): 0.9995\n",
            "F1 Score (RandomForestClassifier): 0.9995\n"
          ]
        },
        {
          "output_type": "display_data",
          "data": {
            "text/plain": [
              "<Figure size 800x600 with 1 Axes>"
            ],
            "image/png": "[encoded data removed]"
          },
          "metadata": {}
        }
      ]
    },
    {
      "cell_type": "code",
      "source": [
        "from sklearn.ensemble import ExtraTreesClassifier\n",
        "\n",
        "# Create the ExtraTreesClassifier model\n",
        "extra_trees = ExtraTreesClassifier()\n",
        "\n",
        "# Fit the model on the training data\n",
        "extra_trees.fit(X_train_enc, y_train)\n",
        "\n",
        "# Make predictions\n",
        "et_predictions = extra_trees.predict(X_test_enc)\n",
        "\n",
        "# Calculate accuracy\n",
        "accuracy_et = accuracy_score(y_test, et_predictions)\n",
        "\n",
        "# Calculate precision\n",
        "precision_et = precision_score(y_test, et_predictions, average='weighted')\n",
        "\n",
        "# Calculate recall\n",
        "recall_et = recall_score(y_test, et_predictions, average='weighted')\n",
        "\n",
        "# Calculate F1 score\n",
        "f1_et = f1_score(y_test, et_predictions, average='weighted')\n",
        "\n",
        "print(f\"Accuracy (ExtraTreesClassifier): {accuracy_et:.4f}\")\n",
        "print(f\"Precision (ExtraTreesClassifier): {precision_et:.4f}\")\n",
        "print(f\"Recall (ExtraTreesClassifier): {recall_et:.4f}\")\n",
        "print(f\"F1 Score (ExtraTreesClassifier): {f1_et:.4f}\")\n",
        "\n",
        "# Plot confusion matrix for ExtraTreesClassifier\n",
        "cm_et = confusion_matrix(y_test, et_predictions)\n",
        "plt.figure(figsize=(8, 6))\n",
        "sns.heatmap(cm_et, annot=True, fmt=\"d\", cmap=\"Blues\", cbar=False)\n",
        "plt.xlabel('Predicted Labels')\n",
        "plt.ylabel('True Labels')\n",
        "plt.title('Confusion Matrix (ExtraTreesClassifier)')\n",
        "plt.show()\n"
      ],
      "metadata": {
        "colab": {
          "base_uri": "https://localhost:8080/",
          "height": 633
        },
        "id": "-BVoDQQNkoNu",
        "outputId": "0749fdb4-ac61-4a92-f2b8-e0e3246fa637"
      },
      "execution_count": 24,
      "outputs": [
        {
          "output_type": "stream",
          "name": "stdout",
          "text": [
            "Accuracy (ExtraTreesClassifier): 0.9995\n",
            "Precision (ExtraTreesClassifier): 0.9995\n",
            "Recall (ExtraTreesClassifier): 0.9995\n",
            "F1 Score (ExtraTreesClassifier): 0.9995\n"
          ]
        },
        {
          "output_type": "display_data",
          "data": {
            "text/plain": [
              "<Figure size 800x600 with 1 Axes>"
            ],
            "image/png": "[encoded data removed]"
          },
          "metadata": {}
        }
      ]
    },
    {
      "cell_type": "code",
      "source": [
        "from sklearn.tree import DecisionTreeClassifier\n",
        "\n",
        "# Create the DecisionTreeClassifier model\n",
        "decision_tree = DecisionTreeClassifier()\n",
        "\n",
        "# Fit the model on the training data\n",
        "decision_tree.fit(X_train_enc, y_train)\n",
        "\n",
        "# Make predictions\n",
        "dt_predictions = decision_tree.predict(X_test_enc)\n",
        "\n",
        "# Calculate accuracy\n",
        "accuracy_dt = accuracy_score(y_test, dt_predictions)\n",
        "\n",
        "# Calculate precision\n",
        "precision_dt = precision_score(y_test, dt_predictions, average='weighted')\n",
        "\n",
        "# Calculate recall\n",
        "recall_dt = recall_score(y_test, dt_predictions, average='weighted')\n",
        "\n",
        "# Calculate F1 score\n",
        "f1_dt = f1_score(y_test, dt_predictions, average='weighted')\n",
        "\n",
        "print(f\"Accuracy (DecisionTreeClassifier): {accuracy_dt:.4f}\")\n",
        "print(f\"Precision (DecisionTreeClassifier): {precision_dt:.4f}\")\n",
        "print(f\"Recall (DecisionTreeClassifier): {recall_dt:.4f}\")\n",
        "print(f\"F1 Score (DecisionTreeClassifier): {f1_dt:.4f}\")\n",
        "\n",
        "# Plot confusion matrix for DecisionTreeClassifier\n",
        "cm_dt = confusion_matrix(y_test, dt_predictions)\n",
        "plt.figure(figsize=(8, 6))\n",
        "sns.heatmap(cm_dt, annot=True, fmt=\"d\", cmap=\"Blues\", cbar=False)\n",
        "plt.xlabel('Predicted Labels')\n",
        "plt.ylabel('True Labels')\n",
        "plt.title('Confusion Matrix (DecisionTreeClassifier)')\n",
        "plt.show()\n"
      ],
      "metadata": {
        "colab": {
          "base_uri": "https://localhost:8080/",
          "height": 633
        },
        "id": "13eDN3zUkqLc",
        "outputId": "c1ec0852-53d3-4a1a-f9c3-9b41e114d189"
      },
      "execution_count": 25,
      "outputs": [
        {
          "output_type": "stream",
          "name": "stdout",
          "text": [
            "Accuracy (DecisionTreeClassifier): 0.9992\n",
            "Precision (DecisionTreeClassifier): 0.9992\n",
            "Recall (DecisionTreeClassifier): 0.9992\n",
            "F1 Score (DecisionTreeClassifier): 0.9992\n"
          ]
        },
        {
          "output_type": "display_data",
          "data": {
            "text/plain": [
              "<Figure size 800x600 with 1 Axes>"
            ],
            "image/png": "[encoded data removed]"
          },
          "metadata": {}
        }
      ]
    },
    {
      "cell_type": "code",
      "source": [
        "from sklearn.neighbors import NearestCentroid\n",
        "\n",
        "# Create the NearestCentroid model\n",
        "nearest_centroid = NearestCentroid()\n",
        "\n",
        "# Fit the model on the training data\n",
        "nearest_centroid.fit(X_train_enc, y_train)\n",
        "\n",
        "# Make predictions\n",
        "nc_predictions = nearest_centroid.predict(X_test_enc)\n",
        "\n",
        "# Calculate accuracy\n",
        "accuracy_nc = accuracy_score(y_test, nc_predictions)\n",
        "\n",
        "# Calculate precision\n",
        "precision_nc = precision_score(y_test, nc_predictions, average='weighted')\n",
        "\n",
        "# Calculate recall\n",
        "recall_nc = recall_score(y_test, nc_predictions, average='weighted')\n",
        "\n",
        "# Calculate F1 score\n",
        "f1_nc = f1_score(y_test, nc_predictions, average='weighted')\n",
        "\n",
        "print(f\"Accuracy (NearestCentroid): {accuracy_nc:.4f}\")\n",
        "print(f\"Precision (NearestCentroid): {precision_nc:.4f}\")\n",
        "print(f\"Recall (NearestCentroid): {recall_nc:.4f}\")\n",
        "print(f\"F1 Score (NearestCentroid): {f1_nc:.4f}\")\n",
        "\n",
        "# Plot confusion matrix for NearestCentroid\n",
        "cm_nc = confusion_matrix(y_test, nc_predictions)\n",
        "plt.figure(figsize=(8, 6))\n",
        "sns.heatmap(cm_nc, annot=True, fmt=\"d\", cmap=\"Blues\", cbar=False)\n",
        "plt.xlabel('Predicted Labels')\n",
        "plt.ylabel('True Labels')\n",
        "plt.title('Confusion Matrix (NearestCentroid)')\n",
        "plt.show()\n"
      ],
      "metadata": {
        "colab": {
          "base_uri": "https://localhost:8080/",
          "height": 633
        },
        "id": "IulddNiJlD78",
        "outputId": "8d588c57-e339-4685-b544-607035741a4f"
      },
      "execution_count": 26,
      "outputs": [
        {
          "output_type": "stream",
          "name": "stdout",
          "text": [
            "Accuracy (NearestCentroid): 0.6247\n",
            "Precision (NearestCentroid): 0.7030\n",
            "Recall (NearestCentroid): 0.6247\n",
            "F1 Score (NearestCentroid): 0.5875\n"
          ]
        },
        {
          "output_type": "display_data",
          "data": {
            "text/plain": [
              "<Figure size 800x600 with 1 Axes>"
            ],
            "image/png": "[encoded data removed]"
          },
          "metadata": {}
        }
      ]
    },
    {
      "cell_type": "code",
      "source": [
        "from sklearn.discriminant_analysis import LinearDiscriminantAnalysis\n",
        "\n",
        "# Create the LinearDiscriminantAnalysis model\n",
        "lda = LinearDiscriminantAnalysis()\n",
        "\n",
        "# Fit the model on the training data\n",
        "lda.fit(X_train_enc, y_train)\n",
        "\n",
        "# Make predictions\n",
        "lda_predictions = lda.predict(X_test_enc)\n",
        "\n",
        "# Calculate accuracy\n",
        "accuracy_lda = accuracy_score(y_test, lda_predictions)\n",
        "\n",
        "# Calculate precision\n",
        "precision_lda = precision_score(y_test, lda_predictions, average='weighted')\n",
        "\n",
        "# Calculate recall\n",
        "recall_lda = recall_score(y_test, lda_predictions, average='weighted')\n",
        "\n",
        "# Calculate F1 score\n",
        "f1_lda = f1_score(y_test, lda_predictions, average='weighted')\n",
        "\n",
        "print(f\"Accuracy (LinearDiscriminantAnalysis): {accuracy_lda:.4f}\")\n",
        "print(f\"Precision (LinearDiscriminantAnalysis): {precision_lda:.4f}\")\n",
        "print(f\"Recall (LinearDiscriminantAnalysis): {recall_lda:.4f}\")\n",
        "print(f\"F1 Score (LinearDiscriminantAnalysis): {f1_lda:.4f}\")\n",
        "\n",
        "# Plot confusion matrix for LinearDiscriminantAnalysis\n",
        "cm_lda = confusion_matrix(y_test, lda_predictions)\n",
        "plt.figure(figsize=(8, 6))\n",
        "sns.heatmap(cm_lda, annot=True, fmt=\"d\", cmap=\"Blues\", cbar=False)\n",
        "plt.xlabel('Predicted Labels')\n",
        "plt.ylabel('True Labels')\n",
        "plt.title('Confusion Matrix (LinearDiscriminantAnalysis)')\n",
        "plt.show()\n"
      ],
      "metadata": {
        "colab": {
          "base_uri": "https://localhost:8080/",
          "height": 633
        },
        "id": "uPdHWqsylHGL",
        "outputId": "9d2d0dc2-510d-4cbd-a15d-f1e5d047d663"
      },
      "execution_count": 27,
      "outputs": [
        {
          "output_type": "stream",
          "name": "stdout",
          "text": [
            "Accuracy (LinearDiscriminantAnalysis): 0.9743\n",
            "Precision (LinearDiscriminantAnalysis): 0.9755\n",
            "Recall (LinearDiscriminantAnalysis): 0.9743\n",
            "F1 Score (LinearDiscriminantAnalysis): 0.9743\n"
          ]
        },
        {
          "output_type": "display_data",
          "data": {
            "text/plain": [
              "<Figure size 800x600 with 1 Axes>"
            ],
            "image/png": "[encoded data removed]"
          },
          "metadata": {}
        }
      ]
    },
    {
      "cell_type": "code",
      "source": [],
      "metadata": {
        "id": "kBQCqjy8ohLY"
      },
      "execution_count": null,
      "outputs": []
    },
    {
      "cell_type": "code",
      "source": [],
      "metadata": {
        "id": "vXkqvUM3ohWe"
      },
      "execution_count": null,
      "outputs": []
    },
    {
      "cell_type": "code",
      "source": [
        "import pandas as pd\n",
        "import numpy as np\n",
        "from sklearn.model_selection import train_test_split\n",
        "from sklearn.preprocessing import StandardScaler\n",
        "from sklearn.svm import SVC\n",
        "from sklearn.metrics import confusion_matrix, precision_score, recall_score, f1_score, accuracy_score\n",
        "import matplotlib.pyplot as plt\n",
        "from keras.layers import Dense\n",
        "from keras.models import Sequential\n",
        "from keras.layers import Dense, LSTM, Bidirectional, TimeDistributed\n",
        "from sklearn.ensemble import RandomForestClassifier\n",
        "from sklearn.linear_model import LogisticRegression\n",
        "from sklearn.neighbors import KNeighborsClassifier\n",
        "from sklearn.tree import DecisionTreeClassifier\n",
        "from sklearn.ensemble import GradientBoostingClassifier\n",
        "from sklearn.naive_bayes import GaussianNB\n",
        "#from pycm import ConfusionMatrix\n",
        "from sklearn.metrics import accuracy_score, classification_report, confusion_matrix, roc_curve, auc\n",
        "from sklearn.metrics import accuracy_score, precision_score, recall_score, f1_score\n",
        "from imblearn.over_sampling import RandomOverSampler  # For class imbalance handling\n",
        "import seaborn as sns\n",
        "from sklearn.model_selection import RandomizedSearchCV\n",
        "from scipy.stats import randint as sp_randint\n",
        "import csv"
      ],
      "metadata": {
        "id": "YsdG-OPRohcf"
      },
      "execution_count": 12,
      "outputs": []
    },
    {
      "cell_type": "code",
      "source": [
        "# Split the data into training and testing sets\n",
        "X_train, X_test, y_train, y_test = train_test_split(dataset, label, test_size=0.40, random_state=42)"
      ],
      "metadata": {
        "id": "BD4pGScupWEG"
      },
      "execution_count": null,
      "outputs": []
    },
    {
      "cell_type": "code",
      "source": [
        "import pandas as pd\n",
        "from sklearn.model_selection import train_test_split\n",
        "from keras.preprocessing.text import Tokenizer\n",
        "from keras.preprocessing.sequence import pad_sequences\n",
        "from keras.models import Sequential\n",
        "from keras.layers import Bidirectional, LSTM, Dense, Embedding\n",
        "\n",
        "# Assuming 'data' is your DataFrame containing the dataset\n",
        "\n",
        "# Prepare input data and labels\n",
        "X = data.drop(' Label', axis=1)  # Features\n",
        "y = data[' Label']  # Labels\n",
        "\n",
        "# Convert categorical features to numerical using one-hot encoding or label encoding\n",
        "# Assuming 'protocol_type', 'service', and 'flag' are categorical features\n",
        "X_categorical = X[[' Destination Port', ' Flow Duration', ' Total Fwd Packets', ' Total Backward Packets', 'Total Length of Fwd Packets', ' Total Length of Bwd Packets', ' Fwd Packet Length Max', ' Fwd Packet Length Min', ' Fwd Packet Length Mean', ' Fwd Packet Length Std', 'Bwd Packet Length Max', ' Bwd Packet Length Min', ' Bwd Packet Length Mean', ' Bwd Packet Length Std', 'Flow Bytes/s', ' Flow Packets/s', ' Flow IAT Mean', ' Flow IAT Std', ' Flow IAT Max', ' Flow IAT Min', 'Fwd IAT Total', ' Fwd IAT Mean', ' Fwd IAT Std', ' Fwd IAT Max', ' Fwd IAT Min', 'Bwd IAT Total', ' Bwd IAT Mean', ' Bwd IAT Std', ' Bwd IAT Max', ' Bwd IAT Min', 'Fwd PSH Flags', ' Bwd PSH Flags', ' Fwd URG Flags', ' Bwd URG Flags', ' Fwd Header Length', ' Bwd Header Length', 'Fwd Packets/s', ' Bwd Packets/s', ' Min Packet Length', ' Max Packet Length', ' Packet Length Mean', ' Packet Length Std', ' Packet Length Variance', 'FIN Flag Count', ' SYN Flag Count', ' RST Flag Count', ' PSH Flag Count', ' ACK Flag Count', ' URG Flag Count', ' CWE Flag Count', ' ECE Flag Count', ' Down/Up Ratio', ' Average Packet Size', ' Avg Fwd Segment Size', ' Avg Bwd Segment Size', ' Fwd Header Length.1', 'Fwd Avg Bytes/Bulk', ' Fwd Avg Packets/Bulk', ' Fwd Avg Bulk Rate', ' Bwd Avg Bytes/Bulk', ' Bwd Avg Packets/Bulk', 'Bwd Avg Bulk Rate', 'Subflow Fwd Packets', ' Subflow Fwd Bytes', ' Subflow Bwd Packets', ' Subflow Bwd Bytes','Init_Win_bytes_forward', ' Init_Win_bytes_backward', ' act_data_pkt_fwd', ' min_seg_size_forward','Active Mean', ' Active Std', ' Active Max', ' Active Min','Idle Mean', ' Idle Std', ' Idle Max', ' Idle Min']]  # Selecting all columns except 'Label'\n",
        "X_categorical_encoded = pd.get_dummies(X_categorical)\n",
        "\n",
        "# Convert labels to numerical values if needed\n",
        "\n",
        "# Tokenize the text data\n",
        "tokenizer = Tokenizer()\n",
        "text_data = X_categorical_encoded.astype(str).agg(' '.join, axis=1).values\n",
        "tokenizer.fit_on_texts(text_data)\n",
        "sequences = tokenizer.texts_to_sequences(text_data)\n",
        "\n",
        "# Padding sequences to a fixed length\n",
        "max_sequence_length = 50  # Define your sequence length\n",
        "padded_sequences = pad_sequences(sequences, maxlen=max_sequence_length)\n",
        "\n",
        "# Splitting the data into train and test sets\n",
        "X_train, X_test, y_train, y_test = train_test_split(padded_sequences, y, test_size=0.4, random_state=42)\n"
      ],
      "metadata": {
        "id": "a5LYuVnVlJUt"
      },
      "execution_count": 30,
      "outputs": []
    },
    {
      "cell_type": "code",
      "source": [
        "# Check unique labels in y_train and y_test\n",
        "unique_labels_train = set(y_train)\n",
        "unique_labels_test = set(y_test)\n",
        "\n",
        "# Identify any unseen labels in y_test compared to y_train\n",
        "unseen_labels_test = unique_labels_test - unique_labels_train\n",
        "\n",
        "if unseen_labels_test:\n",
        "    # Handle unseen labels by either removing corresponding samples or mapping them to a common label\n",
        "    print(f\"Unseen labels in y_test: {unseen_labels_test}\")\n",
        "else:\n",
        "    print(\"All labels in y_test are present in y_train.\")\n"
      ],
      "metadata": {
        "colab": {
          "base_uri": "https://localhost:8080/"
        },
        "id": "M5NEpPBmmIeE",
        "outputId": "cbfd4860-ee6f-4568-dfc9-80aa1648b2a2"
      },
      "execution_count": 33,
      "outputs": [
        {
          "output_type": "stream",
          "name": "stdout",
          "text": [
            "All labels in y_test are present in y_train.\n"
          ]
        }
      ]
    },
    {
      "cell_type": "code",
      "source": [
        "from sklearn.preprocessing import LabelEncoder\n",
        "\n",
        "# Fit LabelEncoder on training labels\n",
        "label_encoder = LabelEncoder()\n",
        "y_train_encoded = label_encoder.fit_transform(y_train.values.ravel())\n",
        "\n",
        "# Transform test labels using the same encoder\n",
        "y_test_encoded = label_encoder.transform(y_test.values.ravel())\n"
      ],
      "metadata": {
        "id": "MMarO6Jwrn0K"
      },
      "execution_count": 36,
      "outputs": []
    },
    {
      "cell_type": "code",
      "source": [
        "print(X_train.shape)\n",
        "\n"
      ],
      "metadata": {
        "colab": {
          "base_uri": "https://localhost:8080/"
        },
        "id": "0bG9Lmtbs1zA",
        "outputId": "b82e206a-dc40-4ee9-b498-5d691f24cab2"
      },
      "execution_count": 37,
      "outputs": [
        {
          "output_type": "stream",
          "name": "stdout",
          "text": [
            "(35999, 50, 1)\n"
          ]
        }
      ]
    },
    {
      "cell_type": "code",
      "source": [
        "from sklearn.preprocessing import LabelEncoder\n",
        "\n",
        "# Encode labels in y_train\n",
        "label_encoder = LabelEncoder()\n",
        "y_train_encoded = label_encoder.fit_transform(y_train)\n",
        "\n",
        "# Use the encoded labels for training\n",
        "history = model.fit(X_train, y_train_encoded, epochs=5, batch_size=32, validation_split=0.1)\n"
      ],
      "metadata": {
        "colab": {
          "base_uri": "https://localhost:8080/"
        },
        "id": "NvlBb3aNwD3g",
        "outputId": "cb41fd1e-d9a1-4e06-9840-59c0fda3163e"
      },
      "execution_count": null,
      "outputs": [
        {
          "output_type": "stream",
          "name": "stdout",
          "text": [
            "Epoch 1/5\n",
            "508/508 [==============================] - 46s 74ms/step - loss: 1.0596 - accuracy: 0.7382 - val_loss: 0.6120 - val_accuracy: 0.8376\n",
            "Epoch 2/5\n",
            "508/508 [==============================] - 37s 72ms/step - loss: 0.4498 - accuracy: 0.8713 - val_loss: 0.4223 - val_accuracy: 0.8825\n",
            "Epoch 3/5\n",
            "508/508 [==============================] - 37s 72ms/step - loss: 0.3191 - accuracy: 0.9039 - val_loss: 0.2696 - val_accuracy: 0.9185\n",
            "Epoch 4/5\n",
            "508/508 [==============================] - 36s 71ms/step - loss: 0.2582 - accuracy: 0.9214 - val_loss: 0.2480 - val_accuracy: 0.9285\n",
            "Epoch 5/5\n",
            "508/508 [==============================] - 38s 75ms/step - loss: 0.2227 - accuracy: 0.9324 - val_loss: 0.2119 - val_accuracy: 0.9407\n"
          ]
        }
      ]
    },
    {
      "cell_type": "code",
      "source": [
        "from keras.layers import Bidirectional\n",
        "\n",
        "# Reshape X_train for LSTM input\n",
        "X_train = X_train.reshape(X_train.shape[0], X_train.shape[1], 1)\n",
        "\n",
        "# Check the new shape of X_train\n",
        "print(X_train.shape)\n",
        "\n",
        "# Define your Bidirectional LSTM model\n",
        "model = Sequential()\n",
        "model.add(Bidirectional(LSTM(units=64, return_sequences=True), input_shape=(X_train.shape[1], X_train.shape[2])))\n",
        "model.add(Bidirectional(LSTM(units=32)))\n",
        "model.add(Dense(units=num_classes, activation='softmax'))\n",
        "\n",
        "# Compile the model\n",
        "model.compile(loss='sparse_categorical_crossentropy', optimizer='adam', metrics=['accuracy'])\n",
        "\n",
        "# Train the model\n",
        "history = model.fit(X_train, y_train_encoded, epochs=5, batch_size=32, validation_split=0.1)\n",
        "\n",
        "# Evaluate the model\n",
        "predicted_probs = model.predict(X_test)\n",
        "predicted_labels = predicted_probs.argmax(axis=1)\n",
        "\n",
        "# Calculate evaluation metrics\n",
        "accuracy = accuracy_score(y_test_encoded, predicted_labels)\n",
        "precision = precision_score(y_test_encoded, predicted_labels, average='weighted')\n",
        "recall = recall_score(y_test_encoded, predicted_labels, average='weighted')\n",
        "f1 = f1_score(y_test_encoded, predicted_labels, average='weighted')\n",
        "\n",
        "print(f\"Accuracy: {accuracy}, Precision: {precision}, Recall: {recall}, F1 Score: {f1}\")\n"
      ],
      "metadata": {
        "colab": {
          "base_uri": "https://localhost:8080/"
        },
        "id": "6ofDGpVMlUaq",
        "outputId": "187d455a-8582-4f30-f519-157bb6444bd5"
      },
      "execution_count": 41,
      "outputs": [
        {
          "output_type": "stream",
          "name": "stdout",
          "text": [
            "(35999, 50, 1)\n",
            "Epoch 1/5\n",
            "1013/1013 [==============================] - 127s 116ms/step - loss: 0.0646 - accuracy: 0.9763 - val_loss: 0.0093 - val_accuracy: 0.9986\n",
            "Epoch 2/5\n",
            "1013/1013 [==============================] - 106s 105ms/step - loss: 0.0091 - accuracy: 0.9978 - val_loss: 0.0202 - val_accuracy: 0.9958\n",
            "Epoch 3/5\n",
            "1013/1013 [==============================] - 110s 109ms/step - loss: 0.0069 - accuracy: 0.9985 - val_loss: 0.0101 - val_accuracy: 0.9981\n",
            "Epoch 4/5\n",
            "1013/1013 [==============================] - 118s 116ms/step - loss: 0.0086 - accuracy: 0.9980 - val_loss: 0.0111 - val_accuracy: 0.9992\n",
            "Epoch 5/5\n",
            "1013/1013 [==============================] - 110s 108ms/step - loss: 0.0040 - accuracy: 0.9992 - val_loss: 0.0079 - val_accuracy: 0.9986\n",
            "750/750 [==============================] - 23s 28ms/step\n",
            "Accuracy: 0.9987916666666666, Precision: 0.9987916714235163, Recall: 0.9987916666666666, F1 Score: 0.9987916673107969\n"
          ]
        }
      ]
    },
    {
      "cell_type": "code",
      "source": [],
      "metadata": {
        "id": "PgdLjS1_x3pm"
      },
      "execution_count": null,
      "outputs": []
    },
    {
      "cell_type": "code",
      "source": [
        "num_classes = len(np.unique(y_train))\n"
      ],
      "metadata": {
        "id": "v3_XEgYNx9Bg"
      },
      "execution_count": 39,
      "outputs": []
    },
    {
      "cell_type": "code",
      "source": [
        "# Reshape X_train for LSTM input\n",
        "X_train = X_train.reshape(X_train.shape[0], X_train.shape[1], 1)\n",
        "\n",
        "# Check the new shape of X_train\n",
        "print(X_train.shape)\n",
        "\n",
        "# Define your stacked LSTM model\n",
        "model = Sequential()\n",
        "model.add(LSTM(units=64, return_sequences=True, input_shape=(X_train.shape[1], X_train.shape[2])))\n",
        "model.add(LSTM(units=32))  # Adding the second LSTM layer\n",
        "model.add(Dense(units=num_classes, activation='softmax'))\n",
        "\n",
        "# Compile the model\n",
        "model.compile(loss='sparse_categorical_crossentropy', optimizer='adam', metrics=['accuracy'])\n",
        "\n",
        "# Train the model\n",
        "history = model.fit(X_train, y_train_encoded, epochs=5, batch_size=32, validation_split=0.1)\n",
        "\n",
        "# Evaluate the model\n",
        "predicted_probs = model.predict(X_test)\n",
        "predicted_labels = predicted_probs.argmax(axis=1)\n",
        "\n",
        "# Calculate evaluation metrics\n",
        "accuracy = accuracy_score(y_test_encoded, predicted_labels)\n",
        "precision = precision_score(y_test_encoded, predicted_labels, average='weighted')\n",
        "recall = recall_score(y_test_encoded, predicted_labels, average='weighted')\n",
        "f1 = f1_score(y_test_encoded, predicted_labels, average='weighted')\n",
        "\n",
        "print(f\"Accuracy: {accuracy}, Precision: {precision}, Recall: {recall}, F1 Score: {f1}\")\n"
      ],
      "metadata": {
        "colab": {
          "base_uri": "https://localhost:8080/"
        },
        "id": "ZZk0nHX_x9Gq",
        "outputId": "0d861417-9cab-434f-ddc6-6494c3b8f98d"
      },
      "execution_count": 40,
      "outputs": [
        {
          "output_type": "stream",
          "name": "stdout",
          "text": [
            "(35999, 50, 1)\n",
            "Epoch 1/5\n",
            "1013/1013 [==============================] - 67s 60ms/step - loss: 0.0555 - accuracy: 0.9817 - val_loss: 0.0093 - val_accuracy: 0.9989\n",
            "Epoch 2/5\n",
            "1013/1013 [==============================] - 63s 62ms/step - loss: 0.0126 - accuracy: 0.9969 - val_loss: 0.0079 - val_accuracy: 0.9989\n",
            "Epoch 3/5\n",
            "1013/1013 [==============================] - 60s 60ms/step - loss: 0.0077 - accuracy: 0.9985 - val_loss: 0.0076 - val_accuracy: 0.9989\n",
            "Epoch 4/5\n",
            "1013/1013 [==============================] - 82s 81ms/step - loss: 0.0075 - accuracy: 0.9986 - val_loss: 0.0107 - val_accuracy: 0.9986\n",
            "Epoch 5/5\n",
            "1013/1013 [==============================] - 57s 57ms/step - loss: 0.0065 - accuracy: 0.9988 - val_loss: 0.0078 - val_accuracy: 0.9989\n",
            "750/750 [==============================] - 13s 16ms/step\n",
            "Accuracy: 0.999, Precision: 0.9990000597315554, Recall: 0.999, F1 Score: 0.9990000021114499\n"
          ]
        }
      ]
    },
    {
      "cell_type": "code",
      "source": [
        "# Reshape X_train for LSTM input\n",
        "X_train = X_train.reshape(X_train.shape[0], X_train.shape[1], 1)\n",
        "\n",
        "# Check the new shape of X_train\n",
        "print(X_train.shape)\n",
        "\n",
        "# Define your Vanilla LSTM model\n",
        "model = Sequential()\n",
        "model.add(LSTM(units=64, input_shape=(X_train.shape[1], X_train.shape[2])))\n",
        "model.add(Dense(units=num_classes, activation='softmax'))\n",
        "\n",
        "# Compile the model\n",
        "model.compile(loss='sparse_categorical_crossentropy', optimizer='adam', metrics=['accuracy'])\n",
        "\n",
        "# Train the model\n",
        "history = model.fit(X_train, y_train_encoded, epochs=5, batch_size=32, validation_split=0.1)\n",
        "\n",
        "# Evaluate the model\n",
        "X_test = X_test.reshape(X_test.shape[0], X_test.shape[1], 1)  # Reshape X_test similarly\n",
        "predicted_probs = model.predict(X_test)\n",
        "predicted_labels = predicted_probs.argmax(axis=1)\n",
        "\n",
        "# Calculate evaluation metrics\n",
        "accuracy = accuracy_score(y_test_encoded, predicted_labels)\n",
        "precision = precision_score(y_test_encoded, predicted_labels, average='weighted')\n",
        "recall = recall_score(y_test_encoded, predicted_labels, average='weighted')\n",
        "f1 = f1_score(y_test_encoded, predicted_labels, average='weighted')\n",
        "\n",
        "print(f\"Accuracy: {accuracy}, Precision: {precision}, Recall: {recall}, F1 Score: {f1}\")\n"
      ],
      "metadata": {
        "colab": {
          "base_uri": "https://localhost:8080/"
        },
        "id": "PwvmZz9MyrMU",
        "outputId": "f4408b16-7a9d-4a53-a68c-46d63714d08f"
      },
      "execution_count": 42,
      "outputs": [
        {
          "output_type": "stream",
          "name": "stdout",
          "text": [
            "(35999, 50, 1)\n",
            "Epoch 1/5\n",
            "1013/1013 [==============================] - 34s 31ms/step - loss: 0.1119 - accuracy: 0.9619 - val_loss: 0.0168 - val_accuracy: 0.9981\n",
            "Epoch 2/5\n",
            "1013/1013 [==============================] - 31s 31ms/step - loss: 0.0106 - accuracy: 0.9985 - val_loss: 0.0107 - val_accuracy: 0.9986\n",
            "Epoch 3/5\n",
            "1013/1013 [==============================] - 31s 31ms/step - loss: 0.0083 - accuracy: 0.9981 - val_loss: 0.0181 - val_accuracy: 0.9969\n",
            "Epoch 4/5\n",
            "1013/1013 [==============================] - 31s 31ms/step - loss: 0.0058 - accuracy: 0.9990 - val_loss: 0.0095 - val_accuracy: 0.9986\n",
            "Epoch 5/5\n",
            "1013/1013 [==============================] - 31s 31ms/step - loss: 0.0058 - accuracy: 0.9989 - val_loss: 0.0062 - val_accuracy: 0.9989\n",
            "750/750 [==============================] - 8s 10ms/step\n",
            "Accuracy: 0.999, Precision: 0.9990001311866216, Recall: 0.999, F1 Score: 0.9990000031463314\n"
          ]
        }
      ]
    },
    {
      "cell_type": "code",
      "source": [
        "from keras.layers import GRU\n",
        "\n",
        "# Reshape X_train for GRU input\n",
        "X_train = X_train.reshape(X_train.shape[0], X_train.shape[1], 1)\n",
        "\n",
        "# Check the new shape of X_train\n",
        "print(X_train.shape)\n",
        "\n",
        "# Define your GRU model\n",
        "model = Sequential()\n",
        "model.add(GRU(units=64, input_shape=(X_train.shape[1], X_train.shape[2])))\n",
        "model.add(Dense(units=num_classes, activation='softmax'))\n",
        "\n",
        "# Compile the model\n",
        "model.compile(loss='sparse_categorical_crossentropy', optimizer='adam', metrics=['accuracy'])\n",
        "\n",
        "# Train the model\n",
        "history = model.fit(X_train, y_train_encoded, epochs=5, batch_size=32, validation_split=0.1)\n",
        "\n",
        "# Evaluate the model\n",
        "X_test = X_test.reshape(X_test.shape[0], X_test.shape[1], 1)  # Reshape X_test similarly\n",
        "predicted_probs = model.predict(X_test)\n",
        "predicted_labels = predicted_probs.argmax(axis=1)\n",
        "\n",
        "# Calculate evaluation metrics\n",
        "accuracy = accuracy_score(y_test_encoded, predicted_labels)\n",
        "precision = precision_score(y_test_encoded, predicted_labels, average='weighted')\n",
        "recall = recall_score(y_test_encoded, predicted_labels, average='weighted')\n",
        "f1 = f1_score(y_test_encoded, predicted_labels, average='weighted')\n",
        "\n",
        "print(f\"Accuracy: {accuracy}, Precision: {precision}, Recall: {recall}, F1 Score: {f1}\")\n"
      ],
      "metadata": {
        "colab": {
          "base_uri": "https://localhost:8080/"
        },
        "id": "VTGUo-KH0J7g",
        "outputId": "dc172ca1-aba2-464c-a923-ed8c3bb156ff"
      },
      "execution_count": 43,
      "outputs": [
        {
          "output_type": "stream",
          "name": "stdout",
          "text": [
            "(35999, 50, 1)\n",
            "Epoch 1/5\n",
            "1013/1013 [==============================] - 35s 31ms/step - loss: 0.1076 - accuracy: 0.9496 - val_loss: 0.0111 - val_accuracy: 0.9975\n",
            "Epoch 2/5\n",
            "1013/1013 [==============================] - 30s 30ms/step - loss: 0.0126 - accuracy: 0.9972 - val_loss: 0.0627 - val_accuracy: 0.9892\n",
            "Epoch 3/5\n",
            "1013/1013 [==============================] - 31s 30ms/step - loss: 0.0084 - accuracy: 0.9983 - val_loss: 0.0063 - val_accuracy: 0.9992\n",
            "Epoch 4/5\n",
            "1013/1013 [==============================] - 31s 31ms/step - loss: 0.0058 - accuracy: 0.9988 - val_loss: 0.0068 - val_accuracy: 0.9986\n",
            "Epoch 5/5\n",
            "1013/1013 [==============================] - 32s 31ms/step - loss: 0.0044 - accuracy: 0.9994 - val_loss: 0.0064 - val_accuracy: 0.9989\n",
            "750/750 [==============================] - 8s 9ms/step\n",
            "Accuracy: 0.9988333333333334, Precision: 0.9988333837772634, Recall: 0.9988333333333334, F1 Score: 0.9988333308051283\n"
          ]
        }
      ]
    },
    {
      "cell_type": "code",
      "source": [
        "from keras.layers import LSTM\n",
        "\n",
        "# Reshape X_train for Peephole LSTM input\n",
        "X_train = X_train.reshape(X_train.shape[0], X_train.shape[1], 1)\n",
        "\n",
        "# Check the new shape of X_train\n",
        "print(X_train.shape)\n",
        "\n",
        "# Define your Peephole LSTM model\n",
        "model = Sequential()\n",
        "model.add(LSTM(units=64, input_shape=(X_train.shape[1], X_train.shape[2]), implementation=2))\n",
        "model.add(Dense(units=num_classes, activation='softmax'))\n",
        "\n",
        "# Compile the model\n",
        "model.compile(loss='sparse_categorical_crossentropy', optimizer='adam', metrics=['accuracy'])\n",
        "\n",
        "# Train the model\n",
        "history = model.fit(X_train, y_train_encoded, epochs=5, batch_size=32, validation_split=0.1)\n",
        "\n",
        "# Evaluate the model\n",
        "X_test = X_test.reshape(X_test.shape[0], X_test.shape[1], 1)  # Reshape X_test similarly\n",
        "predicted_probs = model.predict(X_test)\n",
        "predicted_labels = predicted_probs.argmax(axis=1)\n",
        "\n",
        "# Calculate evaluation metrics\n",
        "accuracy = accuracy_score(y_test_encoded, predicted_labels)\n",
        "precision = precision_score(y_test_encoded, predicted_labels, average='weighted')\n",
        "recall = recall_score(y_test_encoded, predicted_labels, average='weighted')\n",
        "f1 = f1_score(y_test_encoded, predicted_labels, average='weighted')\n",
        "\n",
        "print(f\"Accuracy: {accuracy}, Precision: {precision}, Recall: {recall}, F1 Score: {f1}\")\n"
      ],
      "metadata": {
        "colab": {
          "base_uri": "https://localhost:8080/"
        },
        "id": "BkSKeGUR06bI",
        "outputId": "e18d444b-c956-42c0-d971-8bb13563d16c"
      },
      "execution_count": 44,
      "outputs": [
        {
          "output_type": "stream",
          "name": "stdout",
          "text": [
            "(35999, 50, 1)\n",
            "Epoch 1/5\n",
            "1013/1013 [==============================] - 36s 33ms/step - loss: 0.1137 - accuracy: 0.9612 - val_loss: 0.0168 - val_accuracy: 0.9958\n",
            "Epoch 2/5\n",
            "1013/1013 [==============================] - 33s 33ms/step - loss: 0.0123 - accuracy: 0.9974 - val_loss: 0.0100 - val_accuracy: 0.9986\n",
            "Epoch 3/5\n",
            "1013/1013 [==============================] - 33s 32ms/step - loss: 0.0078 - accuracy: 0.9982 - val_loss: 0.0205 - val_accuracy: 0.9961\n",
            "Epoch 4/5\n",
            "1013/1013 [==============================] - 33s 32ms/step - loss: 0.0075 - accuracy: 0.9984 - val_loss: 0.0092 - val_accuracy: 0.9983\n",
            "Epoch 5/5\n",
            "1013/1013 [==============================] - 33s 32ms/step - loss: 0.0045 - accuracy: 0.9991 - val_loss: 0.0086 - val_accuracy: 0.9986\n",
            "750/750 [==============================] - 9s 11ms/step\n",
            "Accuracy: 0.99875, Precision: 0.9987500111824454, Recall: 0.99875, F1 Score: 0.9987499986542894\n"
          ]
        }
      ]
    },
    {
      "cell_type": "code",
      "source": [
        "from keras.models import Sequential\n",
        "from keras.layers import LSTM, Conv1D, MaxPooling1D, Flatten, Dense\n",
        "\n",
        "# Assuming X_train, y_train_encoded, X_test, y_test_encoded are defined\n",
        "\n",
        "# Reshape X_train for LSTM-CNN input\n",
        "X_train = X_train.reshape(X_train.shape[0], X_train.shape[1], 1)\n",
        "\n",
        "# Reshape X_test similarly\n",
        "X_test = X_test.reshape(X_test.shape[0], X_test.shape[1], 1)\n",
        "\n",
        "# Define your LSTM-CNN hybrid model\n",
        "model = Sequential()\n",
        "\n",
        "# Add Convolutional layers\n",
        "model.add(Conv1D(filters=64, kernel_size=3, activation='relu', input_shape=(X_train.shape[1], 1)))\n",
        "model.add(MaxPooling1D(pool_size=2))\n",
        "\n",
        "# Add LSTM layer\n",
        "model.add(LSTM(units=64))\n",
        "\n",
        "# Dense layer for classification\n",
        "model.add(Dense(units=num_classes, activation='softmax'))\n",
        "\n",
        "# Compile the model\n",
        "model.compile(loss='sparse_categorical_crossentropy', optimizer='adam', metrics=['accuracy'])\n",
        "\n",
        "# Train the model\n",
        "history = model.fit(X_train, y_train_encoded, epochs=5, batch_size=32, validation_split=0.1)\n",
        "\n",
        "# Evaluate the model\n",
        "predicted_probs = model.predict(X_test)\n",
        "predicted_labels = predicted_probs.argmax(axis=1)\n",
        "\n",
        "# Calculate evaluation metrics\n",
        "accuracy = accuracy_score(y_test_encoded, predicted_labels)\n",
        "precision = precision_score(y_test_encoded, predicted_labels, average='weighted')\n",
        "recall = recall_score(y_test_encoded, predicted_labels, average='weighted')\n",
        "f1 = f1_score(y_test_encoded, predicted_labels, average='weighted')\n",
        "\n",
        "print(f\"Accuracy: {accuracy}, Precision: {precision}, Recall: {recall}, F1 Score: {f1}\")\n"
      ],
      "metadata": {
        "colab": {
          "base_uri": "https://localhost:8080/"
        },
        "id": "UKZobDKT1YbO",
        "outputId": "c15f128d-d7e0-4fe7-c42f-b621479b18a7"
      },
      "execution_count": 45,
      "outputs": [
        {
          "output_type": "stream",
          "name": "stdout",
          "text": [
            "Epoch 1/5\n",
            "1013/1013 [==============================] - 27s 24ms/step - loss: 0.0504 - accuracy: 0.9842 - val_loss: 0.0099 - val_accuracy: 0.9986\n",
            "Epoch 2/5\n",
            "1013/1013 [==============================] - 26s 25ms/step - loss: 0.0067 - accuracy: 0.9986 - val_loss: 0.0100 - val_accuracy: 0.9983\n",
            "Epoch 3/5\n",
            "1013/1013 [==============================] - 23s 23ms/step - loss: 0.0042 - accuracy: 0.9992 - val_loss: 0.0084 - val_accuracy: 0.9989\n",
            "Epoch 4/5\n",
            "1013/1013 [==============================] - 26s 25ms/step - loss: 0.0034 - accuracy: 0.9993 - val_loss: 0.0080 - val_accuracy: 0.9989\n",
            "Epoch 5/5\n",
            "1013/1013 [==============================] - 23s 23ms/step - loss: 0.0032 - accuracy: 0.9995 - val_loss: 0.0076 - val_accuracy: 0.9989\n",
            "750/750 [==============================] - 6s 7ms/step\n",
            "Accuracy: 0.999125, Precision: 0.9991251764179668, Recall: 0.999125, F1 Score: 0.9991250032012414\n"
          ]
        }
      ]
    },
    {
      "cell_type": "code",
      "source": [
        "import pandas as pd\n",
        "\n",
        "\n",
        "# Display unique classes in the 'labels' column\n",
        "unique_classes = data['labels'].unique()\n",
        "print(\"Unique Classes:\", unique_classes)\n"
      ],
      "metadata": {
        "colab": {
          "base_uri": "https://localhost:8080/"
        },
        "id": "rXDSgro635MG",
        "outputId": "be4cebf5-1b86-4cb7-e743-e0bf79b057d3"
      },
      "execution_count": null,
      "outputs": [
        {
          "output_type": "stream",
          "name": "stdout",
          "text": [
            "Unique Classes: ['normal' 'portsweep' 'neptune' 'smurf' 'satan' 'apache2' 'teardrop'\n",
            " 'guess_passwd' 'ipsweep' 'warezclient' 'nmap' 'warezmaster' 'mscan'\n",
            " 'back' 'pod' 'httptunnel' 'processtable' 'mailbomb' 'snmpguess' 'saint'\n",
            " 'multihop' 'snmpgetattack' 'buffer_overflow' 'xsnoop' 'imap' 'ps'\n",
            " 'rootkit' 'land' 'xterm' 'sendmail' 'phf' 'loadmodule' 'perl' 'xlock'\n",
            " 'ftp_write' 'named']\n"
          ]
        }
      ]
    },
    {
      "cell_type": "code",
      "source": [
        "from keras.layers import Input, LSTM, Conv1D, MaxPooling1D, Flatten, Dense, Add, Concatenate\n",
        "from keras.models import Model\n",
        "\n",
        "# Assuming X_train, y_train_encoded, X_test, y_test_encoded are defined\n",
        "\n",
        "# Reshape X_train for LSTM-CNN input\n",
        "X_train = X_train.reshape(X_train.shape[0], X_train.shape[1], 1)\n",
        "\n",
        "# Reshape X_test similarly\n",
        "X_test = X_test.reshape(X_test.shape[0], X_test.shape[1], 1)\n",
        "\n",
        "# Input layer\n",
        "input_layer = Input(shape=(X_train.shape[1], 1))\n",
        "\n",
        "# Convolutional layers\n",
        "conv1 = Conv1D(filters=64, kernel_size=3, activation='relu')(input_layer)\n",
        "pool1 = MaxPooling1D(pool_size=2)(conv1)\n",
        "\n",
        "# LSTM layer\n",
        "lstm1 = LSTM(units=64, return_sequences=True)(pool1)\n",
        "lstm2 = LSTM(units=64, return_sequences=True)(lstm1)\n",
        "\n",
        "# Padding the Conv1D output to adjust shapes for concatenation\n",
        "conv1_padded = Conv1D(filters=64, kernel_size=3, activation='relu', padding='same')(conv1)\n",
        "\n",
        "# Skip connection by concatenating the output of Conv1D with LSTM output\n",
        "skip_connection = Concatenate(axis=-2)([lstm2, conv1_padded])\n",
        "\n",
        "# Flatten layer\n",
        "flat = Flatten()(skip_connection)\n",
        "\n",
        "# Dense layer for classification\n",
        "output_layer = Dense(units=num_classes, activation='softmax')(flat)\n",
        "\n",
        "# Define the model\n",
        "model = Model(inputs=input_layer, outputs=output_layer)\n",
        "\n",
        "# Compile the model\n",
        "model.compile(loss='sparse_categorical_crossentropy', optimizer='adam', metrics=['accuracy'])\n",
        "\n",
        "# Train the model\n",
        "history = model.fit(X_train, y_train_encoded, epochs=5, batch_size=32, validation_split=0.1)\n",
        "\n",
        "# Evaluate the model\n",
        "predicted_probs = model.predict(X_test)\n",
        "predicted_labels = predicted_probs.argmax(axis=1)\n",
        "\n",
        "# Calculate evaluation metrics\n",
        "accuracy = accuracy_score(y_test_encoded, predicted_labels)\n",
        "precision = precision_score(y_test_encoded, predicted_labels, average='weighted')\n",
        "recall = recall_score(y_test_encoded, predicted_labels, average='weighted')\n",
        "f1 = f1_score(y_test_encoded, predicted_labels, average='weighted')\n",
        "\n",
        "print(f\"Accuracy: {accuracy}, Precision: {precision}, Recall: {recall}, F1 Score: {f1}\")\n"
      ],
      "metadata": {
        "colab": {
          "base_uri": "https://localhost:8080/"
        },
        "id": "hccw1MGJ4cqp",
        "outputId": "2b67d6bd-c285-421c-9239-87bb8e8d5fdf"
      },
      "execution_count": 46,
      "outputs": [
        {
          "output_type": "stream",
          "name": "stdout",
          "text": [
            "Epoch 1/5\n",
            "1013/1013 [==============================] - 57s 50ms/step - loss: 17.7553 - accuracy: 0.9314 - val_loss: 0.7537 - val_accuracy: 0.9964\n",
            "Epoch 2/5\n",
            "1013/1013 [==============================] - 54s 53ms/step - loss: 0.3991 - accuracy: 0.9952 - val_loss: 0.1435 - val_accuracy: 0.9992\n",
            "Epoch 3/5\n",
            "1013/1013 [==============================] - 49s 48ms/step - loss: 0.0634 - accuracy: 0.9980 - val_loss: 0.0263 - val_accuracy: 0.9994\n",
            "Epoch 4/5\n",
            "1013/1013 [==============================] - 50s 50ms/step - loss: 0.0095 - accuracy: 0.9990 - val_loss: 0.0093 - val_accuracy: 0.9994\n",
            "Epoch 5/5\n",
            "1013/1013 [==============================] - 51s 50ms/step - loss: 0.0040 - accuracy: 0.9993 - val_loss: 0.0121 - val_accuracy: 0.9989\n",
            "750/750 [==============================] - 11s 13ms/step\n",
            "Accuracy: 0.9990833333333333, Precision: 0.9990838442520984, Recall: 0.9990833333333333, F1 Score: 0.9990833389869711\n"
          ]
        }
      ]
    },
    {
      "cell_type": "code",
      "source": [
        "from keras.layers import Input, LSTM, Conv1D, MaxPooling1D, Flatten, Dense, Concatenate, Activation, Dot\n",
        "from keras.models import Model\n",
        "\n",
        "# Assuming X_train, y_train_encoded, X_test, y_test_encoded are defined\n",
        "\n",
        "# Reshape X_train for LSTM-CNN input\n",
        "X_train = X_train.reshape(X_train.shape[0], X_train.shape[1], 1)\n",
        "\n",
        "# Reshape X_test similarly\n",
        "X_test = X_test.reshape(X_test.shape[0], X_test.shape[1], 1)\n",
        "\n",
        "# Input layer\n",
        "input_layer = Input(shape=(X_train.shape[1], 1))\n",
        "\n",
        "# Convolutional layers\n",
        "conv1 = Conv1D(filters=64, kernel_size=3, activation='relu')(input_layer)\n",
        "pool1 = MaxPooling1D(pool_size=2)(conv1)\n",
        "\n",
        "# LSTM layer\n",
        "lstm1 = LSTM(units=64, return_sequences=True)(pool1)\n",
        "lstm2 = LSTM(units=64, return_sequences=True)(lstm1)\n",
        "\n",
        "# Attention mechanism\n",
        "attention = Dense(1, activation='tanh')(lstm2)\n",
        "attention = Flatten()(attention)\n",
        "attention = Activation('softmax')(attention)\n",
        "attention = Dot(axes=1)([attention, lstm2])\n",
        "\n",
        "# Flatten layer\n",
        "flat = Flatten()(attention)\n",
        "\n",
        "# Dense layer for classification\n",
        "output_layer = Dense(units=num_classes, activation='softmax')(flat)\n",
        "\n",
        "# Define the model\n",
        "model = Model(inputs=input_layer, outputs=output_layer)\n",
        "\n",
        "# Compile the model\n",
        "model.compile(loss='sparse_categorical_crossentropy', optimizer='adam', metrics=['accuracy'])\n",
        "\n",
        "# Train the model\n",
        "history = model.fit(X_train, y_train_encoded, epochs=5, batch_size=32, validation_split=0.1)\n",
        "\n",
        "# Evaluate the model\n",
        "predicted_probs = model.predict(X_test)\n",
        "predicted_labels = predicted_probs.argmax(axis=1)\n",
        "\n",
        "# Calculate evaluation metrics\n",
        "accuracy = accuracy_score(y_test_encoded, predicted_labels)\n",
        "precision = precision_score(y_test_encoded, predicted_labels, average='weighted')\n",
        "recall = recall_score(y_test_encoded, predicted_labels, average='weighted')\n",
        "f1 = f1_score(y_test_encoded, predicted_labels, average='weighted')\n",
        "\n",
        "print(f\"Accuracy: {accuracy}, Precision: {precision}, Recall: {recall}, F1 Score: {f1}\")\n"
      ],
      "metadata": {
        "colab": {
          "base_uri": "https://localhost:8080/"
        },
        "id": "9mpoOcBP-F5P",
        "outputId": "0ae8aeeb-60fd-48cf-b15c-1e259e52b15d"
      },
      "execution_count": 47,
      "outputs": [
        {
          "output_type": "stream",
          "name": "stdout",
          "text": [
            "Epoch 1/5\n",
            "1013/1013 [==============================] - 53s 46ms/step - loss: 0.0391 - accuracy: 0.9887 - val_loss: 0.0079 - val_accuracy: 0.9986\n",
            "Epoch 2/5\n",
            "1013/1013 [==============================] - 43s 42ms/step - loss: 0.0076 - accuracy: 0.9983 - val_loss: 0.0151 - val_accuracy: 0.9953\n",
            "Epoch 3/5\n",
            "1013/1013 [==============================] - 45s 45ms/step - loss: 0.0065 - accuracy: 0.9985 - val_loss: 0.0112 - val_accuracy: 0.9975\n",
            "Epoch 4/5\n",
            "1013/1013 [==============================] - 45s 44ms/step - loss: 0.0054 - accuracy: 0.9990 - val_loss: 0.0054 - val_accuracy: 0.9992\n",
            "Epoch 5/5\n",
            "1013/1013 [==============================] - 44s 43ms/step - loss: 0.0051 - accuracy: 0.9991 - val_loss: 0.0057 - val_accuracy: 0.9992\n",
            "750/750 [==============================] - 11s 13ms/step\n",
            "Accuracy: 0.9991666666666666, Precision: 0.9991670222734295, Recall: 0.9991666666666666, F1 Score: 0.999166670978674\n"
          ]
        }
      ]
    },
    {
      "cell_type": "code",
      "source": [],
      "metadata": {
        "id": "CKbvlk8E86Wv"
      },
      "execution_count": null,
      "outputs": []
    }
  ]
}