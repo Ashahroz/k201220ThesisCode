{
  "nbformat": 4,
  "nbformat_minor": 0,
  "metadata": {
    "colab": {
      "provenance": [],
      "mount_file_id": "1uDbMxxC8atd29TU0FYJPkrIXbkbz9lR1",
      "authorship_tag": "ABX9TyO0h1NsVWuOn6zF8gbMeCoW",
      "include_colab_link": true
    },
    "kernelspec": {
      "name": "python3",
      "display_name": "Python 3"
    },
    "language_info": {
      "name": "python"
    }
  },
  "cells": [
    {
      "cell_type": "markdown",
      "metadata": {
        "id": "view-in-github",
        "colab_type": "text"
      },
      "source": [
        "<a href=\"https://colab.research.google.com/github/Ashahroz/k201220ThesisCode/blob/main/ADFA_LD_BINARY_Thesis_Code.ipynb\" target=\"_parent\"><img src=\"https://colab.research.google.com/assets/colab-badge.svg\" alt=\"Open In Colab\"/></a>"
      ]
    },
    {
      "cell_type": "code",
      "execution_count": null,
      "metadata": {
        "id": "6Aid9mwPf8BC"
      },
      "outputs": [],
      "source": [
        "import pandas as pd\n",
        "\n",
        "# Read the CSV file into a DataFrame\n",
        "data = pd.read_csv('/content/drive/MyDrive/ADFA_LD_BINARY.csv')\n"
      ]
    },
    {
      "cell_type": "code",
      "source": [
        "from sklearn.model_selection import train_test_split\n",
        "\n",
        "# Split the data into features (X) and labels (y)\n",
        "X = data.drop('class', axis=1)  # Features\n",
        "y = data['class']  # Labels\n",
        "\n",
        "\n",
        "# Identify categorical columns\n",
        "categorical_cols = X.select_dtypes(include=['object']).columns.tolist()\n",
        "\n",
        "# One-hot encode categorical columns\n",
        "X_encoded = pd.get_dummies(X, columns=categorical_cols)\n",
        "\n",
        "# Split the encoded data into training and testing sets\n",
        "X_train_enc, X_test_enc, y_train, y_test = train_test_split(X_encoded, y, test_size=0.4, random_state=42)\n",
        "\n"
      ],
      "metadata": {
        "id": "I1tSlMJiVM1d"
      },
      "execution_count": null,
      "outputs": []
    },
    {
      "cell_type": "code",
      "source": [
        "# Create the Ridge Classifier model\n",
        "ridge_clf = RidgeClassifier()\n",
        "\n",
        "# Fit the model on the training data\n",
        "ridge_clf.fit(X_train_enc, y_train)\n",
        "\n",
        "# Make predictions\n",
        "predictions = ridge_clf.predict(X_test_enc)\n",
        "\n",
        "# Evaluate the model\n",
        "accuracy = accuracy_score(y_test, predictions)\n",
        "print(f\"Accuracy of Ridge Classifier with encoded data: {accuracy}\")\n"
      ],
      "metadata": {
        "colab": {
          "base_uri": "https://localhost:8080/"
        },
        "id": "YFw611qNganh",
        "outputId": "1e949a41-0583-4bcc-ba66-32e87f75e84b"
      },
      "execution_count": null,
      "outputs": [
        {
          "output_type": "stream",
          "name": "stdout",
          "text": [
            "Accuracy of Ridge Classifier with encoded data: 0.8983620327593448\n"
          ]
        }
      ]
    },
    {
      "cell_type": "code",
      "source": [
        "\n",
        "from sklearn.metrics import accuracy_score, precision_score, recall_score, f1_score, confusion_matrix\n",
        "import matplotlib.pyplot as plt\n",
        "import seaborn as sns\n",
        "\n",
        "# Calculate accuracy\n",
        "accuracy = accuracy_score(y_test, predictions)\n",
        "\n",
        "# Calculate precision\n",
        "precision = precision_score(y_test, predictions, average='weighted')\n",
        "\n",
        "# Calculate recall\n",
        "recall = recall_score(y_test, predictions, average='weighted')\n",
        "\n",
        "# Calculate F1 score\n",
        "f1 = f1_score(y_test, predictions, average='weighted')\n",
        "\n",
        "print(f\"Accuracy: {accuracy:.4f}\")\n",
        "print(f\"Precision: {precision:.4f}\")\n",
        "print(f\"Recall: {recall:.4f}\")\n",
        "print(f\"F1 Score: {f1:.4f}\")\n",
        "\n",
        "# Plot confusion matrix\n",
        "cm = confusion_matrix(y_test, predictions)\n",
        "plt.figure(figsize=(8, 6))\n",
        "sns.heatmap(cm, annot=True, fmt=\"d\", cmap=\"Blues\", cbar=False)\n",
        "plt.xlabel('Predicted Labels')\n",
        "plt.ylabel('True Labels')\n",
        "plt.title('Confusion Matrix')\n",
        "plt.show()\n"
      ],
      "metadata": {
        "colab": {
          "base_uri": "https://localhost:8080/",
          "height": 637
        },
        "id": "ny9eFyr3gcWk",
        "outputId": "a24573d4-c5c8-4e20-ed9e-c0251628a9fc"
      },
      "execution_count": null,
      "outputs": [
        {
          "output_type": "stream",
          "name": "stdout",
          "text": [
            "Accuracy: 0.8984\n",
            "Precision: 0.8885\n",
            "Recall: 0.8984\n",
            "F1 Score: 0.8844\n"
          ]
        },
        {
          "output_type": "display_data",
          "data": {
            "text/plain": [
              "<Figure size 800x600 with 1 Axes>"
            ],
            "image/png": "[encoded data removed]"
          },
          "metadata": {}
        }
      ]
    },
    {
      "cell_type": "code",
      "source": [
        "from sklearn.linear_model import LogisticRegression\n",
        "\n",
        "# Create the Logistic Regression model\n",
        "logistic_reg = LogisticRegression(max_iter=1000)\n",
        "\n",
        "# Fit the model on the training data\n",
        "logistic_reg.fit(X_train_enc, y_train)\n",
        "\n",
        "# Make predictions\n",
        "logistic_predictions = logistic_reg.predict(X_test_enc)\n",
        "\n",
        "# Calculate accuracy\n",
        "accuracy_logistic = accuracy_score(y_test, logistic_predictions)\n",
        "\n",
        "# Calculate precision\n",
        "precision_logistic = precision_score(y_test, logistic_predictions, average='weighted')\n",
        "\n",
        "# Calculate recall\n",
        "recall_logistic = recall_score(y_test, logistic_predictions, average='weighted')\n",
        "\n",
        "# Calculate F1 score\n",
        "f1_logistic = f1_score(y_test, logistic_predictions, average='weighted')\n",
        "\n",
        "print(f\"Accuracy (Logistic Regression): {accuracy_logistic:.4f}\")\n",
        "print(f\"Precision (Logistic Regression): {precision_logistic:.4f}\")\n",
        "print(f\"Recall (Logistic Regression): {recall_logistic:.4f}\")\n",
        "print(f\"F1 Score (Logistic Regression): {f1_logistic:.4f}\")\n",
        "\n",
        "# Plot confusion matrix for Logistic Regression\n",
        "cm_logistic = confusion_matrix(y_test, logistic_predictions)\n",
        "plt.figure(figsize=(8, 6))\n",
        "sns.heatmap(cm_logistic, annot=True, fmt=\"d\", cmap=\"Blues\", cbar=False)\n",
        "plt.xlabel('Predicted Labels')\n",
        "plt.ylabel('True Labels')\n",
        "plt.title('Confusion Matrix (Logistic Regression)')\n",
        "plt.show()\n"
      ],
      "metadata": {
        "colab": {
          "base_uri": "https://localhost:8080/",
          "height": 783
        },
        "id": "D-I8eewEgwIF",
        "outputId": "d169866d-2e5b-46df-b46b-4e951d94d8d6"
      },
      "execution_count": null,
      "outputs": [
        {
          "output_type": "stream",
          "name": "stderr",
          "text": [
            "/usr/local/lib/python3.10/dist-packages/sklearn/linear_model/_logistic.py:458: ConvergenceWarning: lbfgs failed to converge (status=1):\n",
            "STOP: TOTAL NO. of ITERATIONS REACHED LIMIT.\n",
            "\n",
            "Increase the number of iterations (max_iter) or scale the data as shown in:\n",
            "    https://scikit-learn.org/stable/modules/preprocessing.html\n",
            "Please also refer to the documentation for alternative solver options:\n",
            "    https://scikit-learn.org/stable/modules/linear_model.html#logistic-regression\n",
            "  n_iter_i = _check_optimize_result(\n"
          ]
        },
        {
          "output_type": "stream",
          "name": "stdout",
          "text": [
            "Accuracy (Logistic Regression): 0.9324\n",
            "Precision (Logistic Regression): 0.9313\n",
            "Recall (Logistic Regression): 0.9324\n",
            "F1 Score (Logistic Regression): 0.9318\n"
          ]
        },
        {
          "output_type": "display_data",
          "data": {
            "text/plain": [
              "<Figure size 800x600 with 1 Axes>"
            ],
            "image/png": "[encoded data removed]"
          },
          "metadata": {}
        }
      ]
    },
    {
      "cell_type": "code",
      "source": [
        "from sklearn.svm import LinearSVC\n",
        "\n",
        "# Create the LinearSVC model\n",
        "linear_svc = LinearSVC(max_iter=10000)\n",
        "\n",
        "# Fit the model on the training data\n",
        "linear_svc.fit(X_train_enc, y_train)\n",
        "\n",
        "# Make predictions\n",
        "linear_svc_predictions = linear_svc.predict(X_test_enc)\n",
        "\n",
        "# Calculate accuracy\n",
        "accuracy_linear_svc = accuracy_score(y_test, linear_svc_predictions)\n",
        "\n",
        "# Calculate precision\n",
        "precision_linear_svc = precision_score(y_test, linear_svc_predictions, average='weighted')\n",
        "\n",
        "# Calculate recall\n",
        "recall_linear_svc = recall_score(y_test, linear_svc_predictions, average='weighted')\n",
        "\n",
        "# Calculate F1 score\n",
        "f1_linear_svc = f1_score(y_test, linear_svc_predictions, average='weighted')\n",
        "\n",
        "print(f\"Accuracy (LinearSVC): {accuracy_linear_svc:.4f}\")\n",
        "print(f\"Precision (LinearSVC): {precision_linear_svc:.4f}\")\n",
        "print(f\"Recall (LinearSVC): {recall_linear_svc:.4f}\")\n",
        "print(f\"F1 Score (LinearSVC): {f1_linear_svc:.4f}\")\n",
        "\n",
        "# Plot confusion matrix for LinearSVC\n",
        "cm_linear_svc = confusion_matrix(y_test, linear_svc_predictions)\n",
        "plt.figure(figsize=(8, 6))\n",
        "sns.heatmap(cm_linear_svc, annot=True, fmt=\"d\", cmap=\"Blues\", cbar=False)\n",
        "plt.xlabel('Predicted Labels')\n",
        "plt.ylabel('True Labels')\n",
        "plt.title('Confusion Matrix (LinearSVC)')\n",
        "plt.show()\n"
      ],
      "metadata": {
        "colab": {
          "base_uri": "https://localhost:8080/",
          "height": 673
        },
        "id": "BZ9NgsjphRd7",
        "outputId": "cc17a2c8-18d2-4d3b-cb90-957989bb6c22"
      },
      "execution_count": null,
      "outputs": [
        {
          "output_type": "stream",
          "name": "stderr",
          "text": [
            "/usr/local/lib/python3.10/dist-packages/sklearn/svm/_base.py:1244: ConvergenceWarning: Liblinear failed to converge, increase the number of iterations.\n",
            "  warnings.warn(\n"
          ]
        },
        {
          "output_type": "stream",
          "name": "stdout",
          "text": [
            "Accuracy (LinearSVC): 0.9076\n",
            "Precision (LinearSVC): 0.9018\n",
            "Recall (LinearSVC): 0.9076\n",
            "F1 Score (LinearSVC): 0.9035\n"
          ]
        },
        {
          "output_type": "display_data",
          "data": {
            "text/plain": [
              "<Figure size 800x600 with 1 Axes>"
            ],
            "image/png": "[encoded data removed]"
          },
          "metadata": {}
        }
      ]
    },
    {
      "cell_type": "code",
      "source": [
        "from sklearn.svm import SVC\n",
        "\n",
        "# Create the SVC model\n",
        "svc = SVC()\n",
        "\n",
        "# Fit the model on the training data\n",
        "svc.fit(X_train_enc, y_train)\n",
        "\n",
        "# Make predictions\n",
        "svc_predictions = svc.predict(X_test_enc)\n",
        "\n",
        "# Calculate accuracy\n",
        "accuracy_svc = accuracy_score(y_test, svc_predictions)\n",
        "\n",
        "# Calculate precision\n",
        "precision_svc = precision_score(y_test, svc_predictions, average='weighted')\n",
        "\n",
        "# Calculate recall\n",
        "recall_svc = recall_score(y_test, svc_predictions, average='weighted')\n",
        "\n",
        "# Calculate F1 score\n",
        "f1_svc = f1_score(y_test, svc_predictions, average='weighted')\n",
        "\n",
        "print(f\"Accuracy (SVC): {accuracy_svc:.4f}\")\n",
        "print(f\"Precision (SVC): {precision_svc:.4f}\")\n",
        "print(f\"Recall (SVC): {recall_svc:.4f}\")\n",
        "print(f\"F1 Score (SVC): {f1_svc:.4f}\")\n",
        "\n",
        "# Plot confusion matrix for SVC\n",
        "cm_svc = confusion_matrix(y_test, svc_predictions)\n",
        "plt.figure(figsize=(8, 6))\n",
        "sns.heatmap(cm_svc, annot=True, fmt=\"d\", cmap=\"Blues\", cbar=False)\n",
        "plt.xlabel('Predicted Labels')\n",
        "plt.ylabel('True Labels')\n",
        "plt.title('Confusion Matrix (SVC)')\n",
        "plt.show()\n"
      ],
      "metadata": {
        "colab": {
          "base_uri": "https://localhost:8080/",
          "height": 637
        },
        "id": "wdT4fC4GiOcZ",
        "outputId": "10e3b264-642b-4a5b-bafd-83af7c6e9c93"
      },
      "execution_count": null,
      "outputs": [
        {
          "output_type": "stream",
          "name": "stdout",
          "text": [
            "Accuracy (SVC): 0.9168\n",
            "Precision (SVC): 0.9174\n",
            "Recall (SVC): 0.9168\n",
            "F1 Score (SVC): 0.9038\n"
          ]
        },
        {
          "output_type": "display_data",
          "data": {
            "text/plain": [
              "<Figure size 800x600 with 1 Axes>"
            ],
            "image/png": "[encoded data removed]"
          },
          "metadata": {}
        }
      ]
    },
    {
      "cell_type": "code",
      "source": [
        "from sklearn.naive_bayes import GaussianNB\n",
        "\n",
        "# Create the Gaussian Naive Bayes model\n",
        "gnb = GaussianNB()\n",
        "\n",
        "# Fit the model on the training data\n",
        "gnb.fit(X_train_enc, y_train)\n",
        "\n",
        "# Make predictions\n",
        "gnb_predictions = gnb.predict(X_test_enc)\n",
        "\n",
        "# Calculate accuracy\n",
        "accuracy_gnb = accuracy_score(y_test, gnb_predictions)\n",
        "\n",
        "# Calculate precision\n",
        "precision_gnb = precision_score(y_test, gnb_predictions, average='weighted')\n",
        "\n",
        "# Calculate recall\n",
        "recall_gnb = recall_score(y_test, gnb_predictions, average='weighted')\n",
        "\n",
        "# Calculate F1 score\n",
        "f1_gnb = f1_score(y_test, gnb_predictions, average='weighted')\n",
        "\n",
        "print(f\"Accuracy (GaussianNB): {accuracy_gnb:.4f}\")\n",
        "print(f\"Precision (GaussianNB): {precision_gnb:.4f}\")\n",
        "print(f\"Recall (GaussianNB): {recall_gnb:.4f}\")\n",
        "print(f\"F1 Score (GaussianNB): {f1_gnb:.4f}\")\n",
        "\n",
        "# Plot confusion matrix for GaussianNB\n",
        "cm_gnb = confusion_matrix(y_test, gnb_predictions)\n",
        "plt.figure(figsize=(8, 6))\n",
        "sns.heatmap(cm_gnb, annot=True, fmt=\"d\", cmap=\"Blues\", cbar=False)\n",
        "plt.xlabel('Predicted Labels')\n",
        "plt.ylabel('True Labels')\n",
        "plt.title('Confusion Matrix (GaussianNB)')\n",
        "plt.show()\n"
      ],
      "metadata": {
        "colab": {
          "base_uri": "https://localhost:8080/",
          "height": 637
        },
        "id": "TDsb0n9JjkPM",
        "outputId": "ca03f159-0c56-4c69-8ea1-81601ecab51a"
      },
      "execution_count": null,
      "outputs": [
        {
          "output_type": "stream",
          "name": "stdout",
          "text": [
            "Accuracy (GaussianNB): 0.8471\n",
            "Precision (GaussianNB): 0.8914\n",
            "Recall (GaussianNB): 0.8471\n",
            "F1 Score (GaussianNB): 0.8616\n"
          ]
        },
        {
          "output_type": "display_data",
          "data": {
            "text/plain": [
              "<Figure size 800x600 with 1 Axes>"
            ],
            "image/png": "[encoded data removed]"
          },
          "metadata": {}
        }
      ]
    },
    {
      "cell_type": "code",
      "source": [
        "from sklearn.naive_bayes import BernoulliNB\n",
        "\n",
        "# Create the Bernoulli Naive Bayes model\n",
        "bnb = BernoulliNB()\n",
        "\n",
        "# Fit the model on the training data\n",
        "bnb.fit(X_train_enc, y_train)\n",
        "\n",
        "# Make predictions\n",
        "bnb_predictions = bnb.predict(X_test_enc)\n",
        "\n",
        "# Calculate accuracy\n",
        "accuracy_bnb = accuracy_score(y_test, bnb_predictions)\n",
        "\n",
        "# Calculate precision\n",
        "precision_bnb = precision_score(y_test, bnb_predictions, average='weighted')\n",
        "\n",
        "# Calculate recall\n",
        "recall_bnb = recall_score(y_test, bnb_predictions, average='weighted')\n",
        "\n",
        "# Calculate F1 score\n",
        "f1_bnb = f1_score(y_test, bnb_predictions, average='weighted')\n",
        "\n",
        "print(f\"Accuracy (BernoulliNB): {accuracy_bnb:.4f}\")\n",
        "print(f\"Precision (BernoulliNB): {precision_bnb:.4f}\")\n",
        "print(f\"Recall (BernoulliNB): {recall_bnb:.4f}\")\n",
        "print(f\"F1 Score (BernoulliNB): {f1_bnb:.4f}\")\n",
        "\n",
        "# Plot confusion matrix for BernoulliNB\n",
        "cm_bnb = confusion_matrix(y_test, bnb_predictions)\n",
        "plt.figure(figsize=(8, 6))\n",
        "sns.heatmap(cm_bnb, annot=True, fmt=\"d\", cmap=\"Blues\", cbar=False)\n",
        "plt.xlabel('Predicted Labels')\n",
        "plt.ylabel('True Labels')\n",
        "plt.title('Confusion Matrix (BernoulliNB)')\n",
        "plt.show()\n"
      ],
      "metadata": {
        "colab": {
          "base_uri": "https://localhost:8080/",
          "height": 637
        },
        "id": "kgCUHn4Ij_wE",
        "outputId": "f7b8fead-249d-462e-f68b-2e2e918bf6ac"
      },
      "execution_count": null,
      "outputs": [
        {
          "output_type": "stream",
          "name": "stdout",
          "text": [
            "Accuracy (BernoulliNB): 0.7320\n",
            "Precision (BernoulliNB): 0.8730\n",
            "Recall (BernoulliNB): 0.7320\n",
            "F1 Score (BernoulliNB): 0.7714\n"
          ]
        },
        {
          "output_type": "display_data",
          "data": {
            "text/plain": [
              "<Figure size 800x600 with 1 Axes>"
            ],
            "image/png": "[encoded data removed]"
          },
          "metadata": {}
        }
      ]
    },
    {
      "cell_type": "code",
      "source": [
        "from sklearn.linear_model import SGDClassifier\n",
        "\n",
        "# Create the SGD Classifier model\n",
        "sgd = SGDClassifier()\n",
        "\n",
        "# Fit the model on the training data\n",
        "sgd.fit(X_train_enc, y_train)\n",
        "\n",
        "# Make predictions\n",
        "sgd_predictions = sgd.predict(X_test_enc)\n",
        "\n",
        "# Calculate accuracy\n",
        "accuracy_sgd = accuracy_score(y_test, sgd_predictions)\n",
        "\n",
        "# Calculate precision\n",
        "precision_sgd = precision_score(y_test, sgd_predictions, average='weighted')\n",
        "\n",
        "# Calculate recall\n",
        "recall_sgd = recall_score(y_test, sgd_predictions, average='weighted')\n",
        "\n",
        "# Calculate F1 score\n",
        "f1_sgd = f1_score(y_test, sgd_predictions, average='weighted')\n",
        "\n",
        "print(f\"Accuracy (SGD Classifier): {accuracy_sgd:.4f}\")\n",
        "print(f\"Precision (SGD Classifier): {precision_sgd:.4f}\")\n",
        "print(f\"Recall (SGD Classifier): {recall_sgd:.4f}\")\n",
        "print(f\"F1 Score (SGD Classifier): {f1_sgd:.4f}\")\n",
        "\n",
        "# Plot confusion matrix for SGD Classifier\n",
        "cm_sgd = confusion_matrix(y_test, sgd_predictions)\n",
        "plt.figure(figsize=(8, 6))\n",
        "sns.heatmap(cm_sgd, annot=True, fmt=\"d\", cmap=\"Blues\", cbar=False)\n",
        "plt.xlabel('Predicted Labels')\n",
        "plt.ylabel('True Labels')\n",
        "plt.title('Confusion Matrix (SGD Classifier)')\n",
        "plt.show()\n"
      ],
      "metadata": {
        "colab": {
          "base_uri": "https://localhost:8080/",
          "height": 637
        },
        "id": "F8X0sIKGkXKT",
        "outputId": "61c438ea-f8cf-4a1c-e5e6-2f0645c3015c"
      },
      "execution_count": null,
      "outputs": [
        {
          "output_type": "stream",
          "name": "stdout",
          "text": [
            "Accuracy (SGD Classifier): 0.9185\n",
            "Precision (SGD Classifier): 0.9269\n",
            "Recall (SGD Classifier): 0.9185\n",
            "F1 Score (SGD Classifier): 0.9216\n"
          ]
        },
        {
          "output_type": "display_data",
          "data": {
            "text/plain": [
              "<Figure size 800x600 with 1 Axes>"
            ],
            "image/png": "[encoded data removed]"
          },
          "metadata": {}
        }
      ]
    },
    {
      "cell_type": "code",
      "source": [
        "from sklearn.ensemble import RandomForestClassifier\n",
        "\n",
        "# Create the RandomForestClassifier model\n",
        "random_forest = RandomForestClassifier()\n",
        "\n",
        "# Fit the model on the training data\n",
        "random_forest.fit(X_train_enc, y_train)\n",
        "\n",
        "# Make predictions\n",
        "rf_predictions = random_forest.predict(X_test_enc)\n",
        "\n",
        "# Calculate accuracy\n",
        "accuracy_rf = accuracy_score(y_test, rf_predictions)\n",
        "\n",
        "# Calculate precision\n",
        "precision_rf = precision_score(y_test, rf_predictions, average='weighted')\n",
        "\n",
        "# Calculate recall\n",
        "recall_rf = recall_score(y_test, rf_predictions, average='weighted')\n",
        "\n",
        "# Calculate F1 score\n",
        "f1_rf = f1_score(y_test, rf_predictions, average='weighted')\n",
        "\n",
        "print(f\"Accuracy (RandomForestClassifier): {accuracy_rf:.4f}\")\n",
        "print(f\"Precision (RandomForestClassifier): {precision_rf:.4f}\")\n",
        "print(f\"Recall (RandomForestClassifier): {recall_rf:.4f}\")\n",
        "print(f\"F1 Score (RandomForestClassifier): {f1_rf:.4f}\")\n",
        "\n",
        "# Plot confusion matrix for RandomForestClassifier\n",
        "cm_rf = confusion_matrix(y_test, rf_predictions)\n",
        "plt.figure(figsize=(8, 6))\n",
        "sns.heatmap(cm_rf, annot=True, fmt=\"d\", cmap=\"Blues\", cbar=False)\n",
        "plt.xlabel('Predicted Labels')\n",
        "plt.ylabel('True Labels')\n",
        "plt.title('Confusion Matrix (RandomForestClassifier)')\n",
        "plt.show()\n"
      ],
      "metadata": {
        "colab": {
          "base_uri": "https://localhost:8080/",
          "height": 637
        },
        "id": "0hj0DS3Aken7",
        "outputId": "d54546dd-35d1-4c38-cd74-eb6955c37320"
      },
      "execution_count": null,
      "outputs": [
        {
          "output_type": "stream",
          "name": "stdout",
          "text": [
            "Accuracy (RandomForestClassifier): 0.9588\n",
            "Precision (RandomForestClassifier): 0.9579\n",
            "Recall (RandomForestClassifier): 0.9588\n",
            "F1 Score (RandomForestClassifier): 0.9572\n"
          ]
        },
        {
          "output_type": "display_data",
          "data": {
            "text/plain": [
              "<Figure size 800x600 with 1 Axes>"
            ],
            "image/png": "[encoded data removed]"
          },
          "metadata": {}
        }
      ]
    },
    {
      "cell_type": "code",
      "source": [
        "from sklearn.ensemble import ExtraTreesClassifier\n",
        "\n",
        "# Create the ExtraTreesClassifier model\n",
        "extra_trees = ExtraTreesClassifier()\n",
        "\n",
        "# Fit the model on the training data\n",
        "extra_trees.fit(X_train_enc, y_train)\n",
        "\n",
        "# Make predictions\n",
        "et_predictions = extra_trees.predict(X_test_enc)\n",
        "\n",
        "# Calculate accuracy\n",
        "accuracy_et = accuracy_score(y_test, et_predictions)\n",
        "\n",
        "# Calculate precision\n",
        "precision_et = precision_score(y_test, et_predictions, average='weighted')\n",
        "\n",
        "# Calculate recall\n",
        "recall_et = recall_score(y_test, et_predictions, average='weighted')\n",
        "\n",
        "# Calculate F1 score\n",
        "f1_et = f1_score(y_test, et_predictions, average='weighted')\n",
        "\n",
        "print(f\"Accuracy (ExtraTreesClassifier): {accuracy_et:.4f}\")\n",
        "print(f\"Precision (ExtraTreesClassifier): {precision_et:.4f}\")\n",
        "print(f\"Recall (ExtraTreesClassifier): {recall_et:.4f}\")\n",
        "print(f\"F1 Score (ExtraTreesClassifier): {f1_et:.4f}\")\n",
        "\n",
        "# Plot confusion matrix for ExtraTreesClassifier\n",
        "cm_et = confusion_matrix(y_test, et_predictions)\n",
        "plt.figure(figsize=(8, 6))\n",
        "sns.heatmap(cm_et, annot=True, fmt=\"d\", cmap=\"Blues\", cbar=False)\n",
        "plt.xlabel('Predicted Labels')\n",
        "plt.ylabel('True Labels')\n",
        "plt.title('Confusion Matrix (ExtraTreesClassifier)')\n",
        "plt.show()\n"
      ],
      "metadata": {
        "colab": {
          "base_uri": "https://localhost:8080/",
          "height": 637
        },
        "id": "-BVoDQQNkoNu",
        "outputId": "079c2ddb-b9f2-4186-81a8-e15e05ac9071"
      },
      "execution_count": null,
      "outputs": [
        {
          "output_type": "stream",
          "name": "stdout",
          "text": [
            "Accuracy (ExtraTreesClassifier): 0.9597\n",
            "Precision (ExtraTreesClassifier): 0.9586\n",
            "Recall (ExtraTreesClassifier): 0.9597\n",
            "F1 Score (ExtraTreesClassifier): 0.9588\n"
          ]
        },
        {
          "output_type": "display_data",
          "data": {
            "text/plain": [
              "<Figure size 800x600 with 1 Axes>"
            ],
            "image/png": "[encoded data removed]"
          },
          "metadata": {}
        }
      ]
    },
    {
      "cell_type": "code",
      "source": [
        "from sklearn.tree import DecisionTreeClassifier\n",
        "\n",
        "# Create the DecisionTreeClassifier model\n",
        "decision_tree = DecisionTreeClassifier()\n",
        "\n",
        "# Fit the model on the training data\n",
        "decision_tree.fit(X_train_enc, y_train)\n",
        "\n",
        "# Make predictions\n",
        "dt_predictions = decision_tree.predict(X_test_enc)\n",
        "\n",
        "# Calculate accuracy\n",
        "accuracy_dt = accuracy_score(y_test, dt_predictions)\n",
        "\n",
        "# Calculate precision\n",
        "precision_dt = precision_score(y_test, dt_predictions, average='weighted')\n",
        "\n",
        "# Calculate recall\n",
        "recall_dt = recall_score(y_test, dt_predictions, average='weighted')\n",
        "\n",
        "# Calculate F1 score\n",
        "f1_dt = f1_score(y_test, dt_predictions, average='weighted')\n",
        "\n",
        "print(f\"Accuracy (DecisionTreeClassifier): {accuracy_dt:.4f}\")\n",
        "print(f\"Precision (DecisionTreeClassifier): {precision_dt:.4f}\")\n",
        "print(f\"Recall (DecisionTreeClassifier): {recall_dt:.4f}\")\n",
        "print(f\"F1 Score (DecisionTreeClassifier): {f1_dt:.4f}\")\n",
        "\n",
        "# Plot confusion matrix for DecisionTreeClassifier\n",
        "cm_dt = confusion_matrix(y_test, dt_predictions)\n",
        "plt.figure(figsize=(8, 6))\n",
        "sns.heatmap(cm_dt, annot=True, fmt=\"d\", cmap=\"Blues\", cbar=False)\n",
        "plt.xlabel('Predicted Labels')\n",
        "plt.ylabel('True Labels')\n",
        "plt.title('Confusion Matrix (DecisionTreeClassifier)')\n",
        "plt.show()\n"
      ],
      "metadata": {
        "colab": {
          "base_uri": "https://localhost:8080/",
          "height": 637
        },
        "id": "13eDN3zUkqLc",
        "outputId": "0ab510d6-53aa-4cea-e167-e769f7b135e3"
      },
      "execution_count": null,
      "outputs": [
        {
          "output_type": "stream",
          "name": "stdout",
          "text": [
            "Accuracy (DecisionTreeClassifier): 0.9383\n",
            "Precision (DecisionTreeClassifier): 0.9366\n",
            "Recall (DecisionTreeClassifier): 0.9383\n",
            "F1 Score (DecisionTreeClassifier): 0.9372\n"
          ]
        },
        {
          "output_type": "display_data",
          "data": {
            "text/plain": [
              "<Figure size 800x600 with 1 Axes>"
            ],
            "image/png": "[encoded data removed]"
          },
          "metadata": {}
        }
      ]
    },
    {
      "cell_type": "code",
      "source": [
        "from sklearn.neighbors import NearestCentroid\n",
        "\n",
        "# Create the NearestCentroid model\n",
        "nearest_centroid = NearestCentroid()\n",
        "\n",
        "# Fit the model on the training data\n",
        "nearest_centroid.fit(X_train_enc, y_train)\n",
        "\n",
        "# Make predictions\n",
        "nc_predictions = nearest_centroid.predict(X_test_enc)\n",
        "\n",
        "# Calculate accuracy\n",
        "accuracy_nc = accuracy_score(y_test, nc_predictions)\n",
        "\n",
        "# Calculate precision\n",
        "precision_nc = precision_score(y_test, nc_predictions, average='weighted')\n",
        "\n",
        "# Calculate recall\n",
        "recall_nc = recall_score(y_test, nc_predictions, average='weighted')\n",
        "\n",
        "# Calculate F1 score\n",
        "f1_nc = f1_score(y_test, nc_predictions, average='weighted')\n",
        "\n",
        "print(f\"Accuracy (NearestCentroid): {accuracy_nc:.4f}\")\n",
        "print(f\"Precision (NearestCentroid): {precision_nc:.4f}\")\n",
        "print(f\"Recall (NearestCentroid): {recall_nc:.4f}\")\n",
        "print(f\"F1 Score (NearestCentroid): {f1_nc:.4f}\")\n",
        "\n",
        "# Plot confusion matrix for NearestCentroid\n",
        "cm_nc = confusion_matrix(y_test, nc_predictions)\n",
        "plt.figure(figsize=(8, 6))\n",
        "sns.heatmap(cm_nc, annot=True, fmt=\"d\", cmap=\"Blues\", cbar=False)\n",
        "plt.xlabel('Predicted Labels')\n",
        "plt.ylabel('True Labels')\n",
        "plt.title('Confusion Matrix (NearestCentroid)')\n",
        "plt.show()\n"
      ],
      "metadata": {
        "colab": {
          "base_uri": "https://localhost:8080/",
          "height": 637
        },
        "id": "IulddNiJlD78",
        "outputId": "f6aa43bf-ad25-4aec-8447-d44dec79e496"
      },
      "execution_count": null,
      "outputs": [
        {
          "output_type": "stream",
          "name": "stdout",
          "text": [
            "Accuracy (NearestCentroid): 0.8614\n",
            "Precision (NearestCentroid): 0.8576\n",
            "Recall (NearestCentroid): 0.8614\n",
            "F1 Score (NearestCentroid): 0.8594\n"
          ]
        },
        {
          "output_type": "display_data",
          "data": {
            "text/plain": [
              "<Figure size 800x600 with 1 Axes>"
            ],
            "image/png": "[encoded data removed]"
          },
          "metadata": {}
        }
      ]
    },
    {
      "cell_type": "code",
      "source": [
        "from sklearn.discriminant_analysis import LinearDiscriminantAnalysis\n",
        "\n",
        "# Create the LinearDiscriminantAnalysis model\n",
        "lda = LinearDiscriminantAnalysis()\n",
        "\n",
        "# Fit the model on the training data\n",
        "lda.fit(X_train_enc, y_train)\n",
        "\n",
        "# Make predictions\n",
        "lda_predictions = lda.predict(X_test_enc)\n",
        "\n",
        "# Calculate accuracy\n",
        "accuracy_lda = accuracy_score(y_test, lda_predictions)\n",
        "\n",
        "# Calculate precision\n",
        "precision_lda = precision_score(y_test, lda_predictions, average='weighted')\n",
        "\n",
        "# Calculate recall\n",
        "recall_lda = recall_score(y_test, lda_predictions, average='weighted')\n",
        "\n",
        "# Calculate F1 score\n",
        "f1_lda = f1_score(y_test, lda_predictions, average='weighted')\n",
        "\n",
        "print(f\"Accuracy (LinearDiscriminantAnalysis): {accuracy_lda:.4f}\")\n",
        "print(f\"Precision (LinearDiscriminantAnalysis): {precision_lda:.4f}\")\n",
        "print(f\"Recall (LinearDiscriminantAnalysis): {recall_lda:.4f}\")\n",
        "print(f\"F1 Score (LinearDiscriminantAnalysis): {f1_lda:.4f}\")\n",
        "\n",
        "# Plot confusion matrix for LinearDiscriminantAnalysis\n",
        "cm_lda = confusion_matrix(y_test, lda_predictions)\n",
        "plt.figure(figsize=(8, 6))\n",
        "sns.heatmap(cm_lda, annot=True, fmt=\"d\", cmap=\"Blues\", cbar=False)\n",
        "plt.xlabel('Predicted Labels')\n",
        "plt.ylabel('True Labels')\n",
        "plt.title('Confusion Matrix (LinearDiscriminantAnalysis)')\n",
        "plt.show()\n"
      ],
      "metadata": {
        "colab": {
          "base_uri": "https://localhost:8080/",
          "height": 637
        },
        "id": "uPdHWqsylHGL",
        "outputId": "d947a55d-bf1a-4f5b-e6e5-e7fffc2cb4bf"
      },
      "execution_count": null,
      "outputs": [
        {
          "output_type": "stream",
          "name": "stdout",
          "text": [
            "Accuracy (LinearDiscriminantAnalysis): 0.9055\n",
            "Precision (LinearDiscriminantAnalysis): 0.8971\n",
            "Recall (LinearDiscriminantAnalysis): 0.9055\n",
            "F1 Score (LinearDiscriminantAnalysis): 0.8964\n"
          ]
        },
        {
          "output_type": "display_data",
          "data": {
            "text/plain": [
              "<Figure size 800x600 with 1 Axes>"
            ],
            "image/png": "[encoded data removed]"
          },
          "metadata": {}
        }
      ]
    },
    {
      "cell_type": "code",
      "source": [],
      "metadata": {
        "id": "kBQCqjy8ohLY"
      },
      "execution_count": null,
      "outputs": []
    },
    {
      "cell_type": "code",
      "source": [],
      "metadata": {
        "id": "vXkqvUM3ohWe"
      },
      "execution_count": null,
      "outputs": []
    },
    {
      "cell_type": "code",
      "source": [
        "import pandas as pd\n",
        "import numpy as np\n",
        "from sklearn.model_selection import train_test_split\n",
        "from sklearn.preprocessing import StandardScaler\n",
        "from sklearn.svm import SVC\n",
        "from sklearn.metrics import confusion_matrix, precision_score, recall_score, f1_score, accuracy_score\n",
        "import matplotlib.pyplot as plt\n",
        "from keras.layers import Dense\n",
        "from keras.models import Sequential\n",
        "from keras.layers import Dense, LSTM, Bidirectional, TimeDistributed\n",
        "from sklearn.ensemble import RandomForestClassifier\n",
        "from sklearn.linear_model import LogisticRegression\n",
        "from sklearn.neighbors import KNeighborsClassifier\n",
        "from sklearn.tree import DecisionTreeClassifier\n",
        "from sklearn.ensemble import GradientBoostingClassifier\n",
        "from sklearn.naive_bayes import GaussianNB\n",
        "#from pycm import ConfusionMatrix\n",
        "from sklearn.metrics import accuracy_score, classification_report, confusion_matrix, roc_curve, auc\n",
        "from sklearn.metrics import accuracy_score, precision_score, recall_score, f1_score\n",
        "from imblearn.over_sampling import RandomOverSampler  # For class imbalance handling\n",
        "import seaborn as sns\n",
        "from sklearn.model_selection import RandomizedSearchCV\n",
        "from scipy.stats import randint as sp_randint\n",
        "import csv"
      ],
      "metadata": {
        "id": "YsdG-OPRohcf"
      },
      "execution_count": null,
      "outputs": []
    },
    {
      "cell_type": "code",
      "source": [
        "import pandas as pd\n",
        "import numpy as np\n",
        "from sklearn.model_selection import train_test_split\n",
        "from sklearn.metrics import accuracy_score, precision_score, recall_score, f1_score\n",
        "from keras.models import Sequential\n",
        "from keras.layers import LSTM, Dense, Bidirectional\n",
        "\n",
        "# Load your data\n",
        "# (Assuming the data loading and preprocessing code remains the same)\n",
        "\n",
        "# Reshape X for LSTM input\n",
        "X = X.astype(np.float32)  # Already a numerical array\n",
        "X = X.reshape(X.shape[0], X.shape[1], 1)\n",
        "\n",
        "# Split the data into training and testing sets\n",
        "X_train, X_test, y_train, y_test = train_test_split(X, y, test_size=0.4, random_state=42)\n",
        "\n",
        "# Define your bidirectional LSTM model\n",
        "model = Sequential()\n",
        "model.add(Bidirectional(LSTM(units=64, return_sequences=True), input_shape=(X_train.shape[1], X_train.shape[2])))\n",
        "model.add(Bidirectional(LSTM(units=32)))\n",
        "model.add(Dense(units=1, activation='sigmoid'))\n",
        "\n",
        "# Compile the model\n",
        "model.compile(loss='binary_crossentropy', optimizer='adam', metrics=['accuracy'])\n",
        "\n",
        "# Train the model\n",
        "history = model.fit(X_train, y_train, epochs=5, batch_size=32, validation_split=0.1)\n",
        "\n",
        "# Evaluate the model\n",
        "predicted_probs = model.predict(X_test)\n",
        "predicted_labels = (predicted_probs > 0.5).astype(int)\n",
        "\n",
        "# Calculate evaluation metrics\n",
        "accuracy = accuracy_score(y_test, predicted_labels)\n",
        "precision = precision_score(y_test, predicted_labels)\n",
        "recall = recall_score(y_test, predicted_labels)\n",
        "f1 = f1_score(y_test, predicted_labels)\n",
        "\n",
        "print(f\"Accuracy: {accuracy}, Precision: {precision}, Recall: {recall}, F1 Score: {f1}\")\n"
      ],
      "metadata": {
        "colab": {
          "base_uri": "https://localhost:8080/"
        },
        "id": "oTdlt-uLF_uS",
        "outputId": "27a4f4f2-4cd8-44f8-e205-cc57460d1425"
      },
      "execution_count": null,
      "outputs": [
        {
          "output_type": "stream",
          "name": "stdout",
          "text": [
            "Epoch 1/5\n",
            "101/101 [==============================] - 75s 623ms/step - loss: 0.3473 - accuracy: 0.8780 - val_loss: 0.2666 - val_accuracy: 0.9104\n",
            "Epoch 2/5\n",
            "101/101 [==============================] - 57s 558ms/step - loss: 0.2719 - accuracy: 0.8995 - val_loss: 0.2422 - val_accuracy: 0.9104\n",
            "Epoch 3/5\n",
            "101/101 [==============================] - 55s 547ms/step - loss: 0.2591 - accuracy: 0.9020 - val_loss: 0.2529 - val_accuracy: 0.9188\n",
            "Epoch 4/5\n",
            "101/101 [==============================] - 56s 550ms/step - loss: 0.2470 - accuracy: 0.9048 - val_loss: 0.2323 - val_accuracy: 0.9244\n",
            "Epoch 5/5\n",
            "101/101 [==============================] - 56s 551ms/step - loss: 0.2511 - accuracy: 0.9069 - val_loss: 0.2570 - val_accuracy: 0.9188\n",
            "75/75 [==============================] - 13s 151ms/step\n",
            "Accuracy: 0.8912221755564889, Precision: 0.7176470588235294, Recall: 0.3663663663663664, F1 Score: 0.485089463220676\n"
          ]
        }
      ]
    },
    {
      "cell_type": "code",
      "source": [
        "import pandas as pd\n",
        "import numpy as np\n",
        "from sklearn.model_selection import train_test_split\n",
        "from sklearn.metrics import accuracy_score, precision_score, recall_score, f1_score\n",
        "from keras.models import Sequential\n",
        "from keras.layers import LSTM, Dense\n",
        "\n",
        "# Load your data\n",
        "data = pd.read_csv('/content/drive/MyDrive/ADFA_LD_BINARY.csv')  # Update the file path\n",
        "\n",
        "# Check data types in the DataFrame\n",
        "print(data.dtypes)\n",
        "\n",
        "# Assuming your features are in columns other than the last one\n",
        "X = data.iloc[:, :-1]  # Features\n",
        "y = data.iloc[:, -1]   # Target variable\n",
        "\n",
        "# Check if any columns need processing\n",
        "cols_need_processing = []\n",
        "for col in X.columns:\n",
        "    if X[col].dtype == 'O':  # Check for object type (strings)\n",
        "        if '(' in X[col].iloc[0]:  # Checking if the first value contains parentheses\n",
        "            cols_need_processing.append(col)\n",
        "\n",
        "# Process the columns if needed\n",
        "for col in cols_need_processing:\n",
        "    X[col] = X[col].apply(lambda x: [int(i) for i in x.strip('()').split(',')])\n",
        "\n",
        "# Convert the target variable to numeric if needed\n",
        "y = y.astype(int)\n",
        "\n",
        "# Convert features to a numpy array and reshape for LSTM input\n",
        "X = X.values.astype(np.float32)\n",
        "X = X.reshape(X.shape[0], X.shape[1], 1)\n",
        "\n",
        "# Split the data into training and testing sets\n",
        "X_train, X_test, y_train, y_test = train_test_split(X, y, test_size=0.4, random_state=42)\n",
        "\n",
        "# Define your stacked LSTM model\n",
        "model = Sequential()\n",
        "model.add(LSTM(units=64, return_sequences=True, input_shape=(X_train.shape[1], X_train.shape[2])))\n",
        "model.add(LSTM(units=32))  # Adding the second LSTM layer\n",
        "model.add(Dense(units=1, activation='sigmoid'))\n",
        "\n",
        "# Compile the model\n",
        "model.compile(loss='binary_crossentropy', optimizer='adam', metrics=['accuracy'])\n",
        "\n",
        "# Train the model\n",
        "history = model.fit(X_train, y_train, epochs=5, batch_size=32, validation_split=0.1)\n",
        "\n",
        "# Evaluate the model\n",
        "predicted_probs = model.predict(X_test)\n",
        "predicted_labels = (predicted_probs > 0.5).astype(int)\n",
        "\n",
        "# Calculate evaluation metrics\n",
        "accuracy = accuracy_score(y_test, predicted_labels)\n",
        "precision = precision_score(y_test, predicted_labels)\n",
        "recall = recall_score(y_test, predicted_labels)\n",
        "f1 = f1_score(y_test, predicted_labels)\n",
        "\n",
        "print(f\"Accuracy: {accuracy}, Precision: {precision}, Recall: {recall}, F1 Score: {f1}\")\n"
      ],
      "metadata": {
        "colab": {
          "base_uri": "https://localhost:8080/"
        },
        "id": "qCezINPq_Dvx",
        "outputId": "e62ce22d-f54b-4743-d136-4b3f57971da5"
      },
      "execution_count": null,
      "outputs": [
        {
          "output_type": "stream",
          "name": "stdout",
          "text": [
            "('142', '119')    int64\n",
            "('43', '43')      int64\n",
            "('340', '168')    int64\n",
            "('265', '142')    int64\n",
            "('104', '175')    int64\n",
            "                  ...  \n",
            "('78', '13')      int64\n",
            "('85', '102')     int64\n",
            "('27', '102')     int64\n",
            "('162', '114')    int64\n",
            "class             int64\n",
            "Length: 275, dtype: object\n",
            "Epoch 1/5\n",
            "101/101 [==============================] - 38s 290ms/step - loss: 0.3668 - accuracy: 0.8839 - val_loss: 0.3257 - val_accuracy: 0.8908\n",
            "Epoch 2/5\n",
            "101/101 [==============================] - 34s 333ms/step - loss: 0.3274 - accuracy: 0.8845 - val_loss: 0.3113 - val_accuracy: 0.8908\n",
            "Epoch 3/5\n",
            "101/101 [==============================] - 30s 294ms/step - loss: 0.3086 - accuracy: 0.8873 - val_loss: 0.3011 - val_accuracy: 0.8796\n",
            "Epoch 4/5\n",
            "101/101 [==============================] - 39s 390ms/step - loss: 0.3173 - accuracy: 0.8936 - val_loss: 0.2981 - val_accuracy: 0.8936\n",
            "Epoch 5/5\n",
            "101/101 [==============================] - 29s 291ms/step - loss: 0.3007 - accuracy: 0.8967 - val_loss: 0.2961 - val_accuracy: 0.9020\n",
            "75/75 [==============================] - 9s 95ms/step\n",
            "Accuracy: 0.8929021419571609, Precision: 0.8421052631578947, Recall: 0.2882882882882883, F1 Score: 0.42953020134228187\n"
          ]
        }
      ]
    },
    {
      "cell_type": "code",
      "source": [
        "import pandas as pd\n",
        "import numpy as np\n",
        "from sklearn.model_selection import train_test_split\n",
        "from sklearn.metrics import accuracy_score, precision_score, recall_score, f1_score\n",
        "from keras.models import Sequential\n",
        "from keras.layers import LSTM, Dense\n",
        "\n",
        "# Load your data\n",
        "data = pd.read_csv('/content/drive/MyDrive/ADFA_LD_BINARY.csv')  # Update the file path\n",
        "\n",
        "# Assuming your features are in columns other than the last one\n",
        "X = data.iloc[:, :-1]  # Features\n",
        "y = data.iloc[:, -1]   # Target variable\n",
        "\n",
        "# Check if any columns need processing\n",
        "cols_need_processing = []\n",
        "for col in X.columns:\n",
        "    if X[col].dtype == 'O':  # Check for object type (strings)\n",
        "        if '(' in X[col].iloc[0]:  # Checking if the first value contains parentheses\n",
        "            cols_need_processing.append(col)\n",
        "\n",
        "# Process the columns if needed\n",
        "for col in cols_need_processing:\n",
        "    X[col] = X[col].apply(lambda x: [int(i) for i in x.strip('()').split(',')])\n",
        "\n",
        "# Convert the target variable to numeric if needed\n",
        "y = y.astype(int)\n",
        "\n",
        "# Convert features to a numpy array and reshape for LSTM input\n",
        "X = X.values.astype(np.float32)\n",
        "X = X.reshape(X.shape[0], X.shape[1], 1)\n",
        "\n",
        "# Split the data into training and testing sets\n",
        "X_train, X_test, y_train, y_test = train_test_split(X, y, test_size=0.4, random_state=42)\n",
        "\n",
        "# Define your Vanilla LSTM model\n",
        "model = Sequential()\n",
        "model.add(LSTM(units=64, input_shape=(X_train.shape[1], X_train.shape[2])))\n",
        "model.add(Dense(units=1, activation='sigmoid'))\n",
        "\n",
        "# Compile the model\n",
        "model.compile(loss='binary_crossentropy', optimizer='adam', metrics=['accuracy'])\n",
        "\n",
        "# Train the model\n",
        "history = model.fit(X_train, y_train, epochs=5, batch_size=32, validation_split=0.1)\n",
        "\n",
        "# Evaluate the model\n",
        "predicted_probs = model.predict(X_test)\n",
        "predicted_labels = (predicted_probs > 0.5).astype(int)\n",
        "\n",
        "# Calculate evaluation metrics\n",
        "accuracy = accuracy_score(y_test, predicted_labels)\n",
        "precision = precision_score(y_test, predicted_labels)\n",
        "recall = recall_score(y_test, predicted_labels)\n",
        "f1 = f1_score(y_test, predicted_labels)\n",
        "\n",
        "print(f\"Accuracy: {accuracy}, Precision: {precision}, Recall: {recall}, F1 Score: {f1}\")\n"
      ],
      "metadata": {
        "colab": {
          "base_uri": "https://localhost:8080/"
        },
        "id": "mFWPkwxo_Fvx",
        "outputId": "b69596cb-f5aa-4df7-aebc-989fe35c6f36"
      },
      "execution_count": null,
      "outputs": [
        {
          "output_type": "stream",
          "name": "stdout",
          "text": [
            "Epoch 1/5\n",
            "101/101 [==============================] - 19s 156ms/step - loss: 0.3992 - accuracy: 0.8761 - val_loss: 0.3209 - val_accuracy: 0.8992\n",
            "Epoch 2/5\n",
            "101/101 [==============================] - 15s 143ms/step - loss: 0.3229 - accuracy: 0.8876 - val_loss: 0.3023 - val_accuracy: 0.8992\n",
            "Epoch 3/5\n",
            "101/101 [==============================] - 21s 203ms/step - loss: 0.3018 - accuracy: 0.8923 - val_loss: 0.3159 - val_accuracy: 0.8936\n",
            "Epoch 4/5\n",
            "101/101 [==============================] - 18s 179ms/step - loss: 0.3028 - accuracy: 0.8886 - val_loss: 0.2952 - val_accuracy: 0.9076\n",
            "Epoch 5/5\n",
            "101/101 [==============================] - 20s 197ms/step - loss: 0.2845 - accuracy: 0.8964 - val_loss: 0.2896 - val_accuracy: 0.8908\n",
            "75/75 [==============================] - 5s 58ms/step\n",
            "Accuracy: 0.8828223435531289, Precision: 0.6901408450704225, Recall: 0.29429429429429427, F1 Score: 0.41263157894736835\n"
          ]
        }
      ]
    },
    {
      "cell_type": "code",
      "source": [
        "import pandas as pd\n",
        "import numpy as np\n",
        "from sklearn.model_selection import train_test_split\n",
        "from sklearn.metrics import accuracy_score, precision_score, recall_score, f1_score\n",
        "from keras.models import Sequential\n",
        "from keras.layers import GRU, Dense\n",
        "\n",
        "# Load your data\n",
        "data = pd.read_csv('/content/drive/MyDrive/ADFA_LD_BINARY.csv')  # Update the file path\n",
        "\n",
        "# Assuming your features are in columns other than the last one\n",
        "X = data.iloc[:, :-1]  # Features\n",
        "y = data.iloc[:, -1]   # Target variable\n",
        "\n",
        "# Check if any columns need processing\n",
        "cols_need_processing = []\n",
        "for col in X.columns:\n",
        "    if X[col].dtype == 'O':  # Check for object type (strings)\n",
        "        if '(' in X[col].iloc[0]:  # Checking if the first value contains parentheses\n",
        "            cols_need_processing.append(col)\n",
        "\n",
        "# Process the columns if needed\n",
        "for col in cols_need_processing:\n",
        "    X[col] = X[col].apply(lambda x: [int(i) for i in x.strip('()').split(',')])\n",
        "\n",
        "# Convert the target variable to numeric if needed\n",
        "y = y.astype(int)\n",
        "\n",
        "# Convert features to a numpy array and reshape for GRU input\n",
        "X = X.values.astype(np.float32)\n",
        "X = X.reshape(X.shape[0], X.shape[1], 1)\n",
        "\n",
        "# Split the data into training and testing sets\n",
        "X_train, X_test, y_train, y_test = train_test_split(X, y, test_size=0.4, random_state=42)\n",
        "\n",
        "# Define your GRU model\n",
        "model = Sequential()\n",
        "model.add(GRU(units=64, return_sequences=True, input_shape=(X_train.shape[1], X_train.shape[2])))\n",
        "model.add(GRU(units=32))  # Adding the second GRU layer\n",
        "model.add(Dense(units=1, activation='sigmoid'))\n",
        "\n",
        "# Compile the model\n",
        "model.compile(loss='binary_crossentropy', optimizer='adam', metrics=['accuracy'])\n",
        "\n",
        "# Train the model\n",
        "history = model.fit(X_train, y_train, epochs=5, batch_size=32, validation_split=0.1)\n",
        "\n",
        "# Evaluate the model\n",
        "predicted_probs = model.predict(X_test)\n",
        "predicted_labels = (predicted_probs > 0.5).astype(int)\n",
        "\n",
        "# Calculate evaluation metrics\n",
        "accuracy = accuracy_score(y_test, predicted_labels)\n",
        "precision = precision_score(y_test, predicted_labels)\n",
        "recall = recall_score(y_test, predicted_labels)\n",
        "f1 = f1_score(y_test, predicted_labels)\n",
        "\n",
        "print(f\"Accuracy: {accuracy}, Precision: {precision}, Recall: {recall}, F1 Score: {f1}\")\n"
      ],
      "metadata": {
        "colab": {
          "base_uri": "https://localhost:8080/"
        },
        "id": "Rvren_rF_SLZ",
        "outputId": "0d154ae7-c288-483c-de0e-66ad037a2179"
      },
      "execution_count": null,
      "outputs": [
        {
          "output_type": "stream",
          "name": "stdout",
          "text": [
            "Epoch 1/5\n",
            "101/101 [==============================] - 35s 305ms/step - loss: 0.3867 - accuracy: 0.8789 - val_loss: 0.3217 - val_accuracy: 0.8992\n",
            "Epoch 2/5\n",
            "101/101 [==============================] - 28s 272ms/step - loss: 0.3219 - accuracy: 0.8886 - val_loss: 0.3071 - val_accuracy: 0.8880\n",
            "Epoch 3/5\n",
            "101/101 [==============================] - 30s 301ms/step - loss: 0.3018 - accuracy: 0.8917 - val_loss: 0.2916 - val_accuracy: 0.8936\n",
            "Epoch 4/5\n",
            "101/101 [==============================] - 30s 293ms/step - loss: 0.2761 - accuracy: 0.8988 - val_loss: 0.2739 - val_accuracy: 0.8992\n",
            "Epoch 5/5\n",
            "101/101 [==============================] - 28s 275ms/step - loss: 0.2542 - accuracy: 0.8985 - val_loss: 0.2595 - val_accuracy: 0.8880\n",
            "75/75 [==============================] - 7s 81ms/step\n",
            "Accuracy: 0.872742545149097, Precision: 0.6071428571428571, Recall: 0.2552552552552553, F1 Score: 0.3594080338266385\n"
          ]
        }
      ]
    },
    {
      "cell_type": "code",
      "source": [
        "import pandas as pd\n",
        "import numpy as np\n",
        "from sklearn.model_selection import train_test_split\n",
        "from sklearn.metrics import accuracy_score, precision_score, recall_score, f1_score\n",
        "from keras.models import Sequential\n",
        "from keras.layers import LSTM, Dense\n",
        "\n",
        "# Load your data\n",
        "data = pd.read_csv('/content/drive/MyDrive/ADFA_LD_BINARY.csv')  # Update the file path\n",
        "\n",
        "# Assuming your features are in columns other than the last one\n",
        "X = data.iloc[:, :-1]  # Features\n",
        "y = data.iloc[:, -1]   # Target variable\n",
        "\n",
        "# Check if any columns need processing\n",
        "cols_need_processing = []\n",
        "for col in X.columns:\n",
        "    if X[col].dtype == 'O':  # Check for object type (strings)\n",
        "        if '(' in X[col].iloc[0]:  # Checking if the first value contains parentheses\n",
        "            cols_need_processing.append(col)\n",
        "\n",
        "# Process the columns if needed\n",
        "for col in cols_need_processing:\n",
        "    X[col] = X[col].apply(lambda x: [int(i) for i in x.strip('()').split(',')])\n",
        "\n",
        "# Convert the target variable to numeric if needed\n",
        "y = y.astype(int)\n",
        "\n",
        "# Convert features to a numpy array and reshape for LSTM input\n",
        "X = X.values.astype(np.float32)\n",
        "X = X.reshape(X.shape[0], X.shape[1], 1)\n",
        "\n",
        "# Split the data into training and testing sets\n",
        "X_train, X_test, y_train, y_test = train_test_split(X, y, test_size=0.4, random_state=42)\n",
        "\n",
        "# Define your Peephole LSTM model\n",
        "model = Sequential()\n",
        "model.add(LSTM(units=64, input_shape=(X_train.shape[1], X_train.shape[2]), unit_forget_bias=True))\n",
        "model.add(Dense(units=1, activation='sigmoid'))\n",
        "\n",
        "# Compile the model\n",
        "model.compile(loss='binary_crossentropy', optimizer='adam', metrics=['accuracy'])\n",
        "\n",
        "# Train the model\n",
        "history = model.fit(X_train, y_train, epochs=5, batch_size=32, validation_split=0.1)\n",
        "\n",
        "# Evaluate the model\n",
        "predicted_probs = model.predict(X_test)\n",
        "predicted_labels = (predicted_probs > 0.5).astype(int)\n",
        "\n",
        "# Calculate evaluation metrics\n",
        "accuracy = accuracy_score(y_test, predicted_labels)\n",
        "precision = precision_score(y_test, predicted_labels)\n",
        "recall = recall_score(y_test, predicted_labels)\n",
        "f1 = f1_score(y_test, predicted_labels)\n",
        "\n",
        "print(f\"Accuracy: {accuracy}, Precision: {precision}, Recall: {recall}, F1 Score: {f1}\")\n"
      ],
      "metadata": {
        "colab": {
          "base_uri": "https://localhost:8080/"
        },
        "id": "qQXO_JqzAZ4F",
        "outputId": "9217f24a-20ae-4828-957d-75010c15eb53"
      },
      "execution_count": null,
      "outputs": [
        {
          "output_type": "stream",
          "name": "stdout",
          "text": [
            "Epoch 1/5\n",
            "101/101 [==============================] - 19s 162ms/step - loss: 0.3831 - accuracy: 0.8820 - val_loss: 0.3176 - val_accuracy: 0.8992\n",
            "Epoch 2/5\n",
            "101/101 [==============================] - 15s 150ms/step - loss: 0.3281 - accuracy: 0.8870 - val_loss: 0.3103 - val_accuracy: 0.9020\n",
            "Epoch 3/5\n",
            "101/101 [==============================] - 13s 132ms/step - loss: 0.3200 - accuracy: 0.8886 - val_loss: 0.3014 - val_accuracy: 0.9020\n",
            "Epoch 4/5\n",
            "101/101 [==============================] - 14s 137ms/step - loss: 0.2985 - accuracy: 0.8870 - val_loss: 0.2885 - val_accuracy: 0.8992\n",
            "Epoch 5/5\n",
            "101/101 [==============================] - 15s 150ms/step - loss: 0.2880 - accuracy: 0.8945 - val_loss: 0.2918 - val_accuracy: 0.9020\n",
            "75/75 [==============================] - 3s 36ms/step\n",
            "Accuracy: 0.8861822763544729, Precision: 0.7924528301886793, Recall: 0.25225225225225223, F1 Score: 0.3826879271070615\n"
          ]
        }
      ]
    },
    {
      "cell_type": "code",
      "source": [
        "import pandas as pd\n",
        "import numpy as np\n",
        "from sklearn.model_selection import train_test_split\n",
        "from sklearn.metrics import accuracy_score, precision_score, recall_score, f1_score\n",
        "from keras.models import Model\n",
        "from keras.layers import LSTM, Conv1D, MaxPooling1D, Flatten, Dense, Input, concatenate  # Add 'concatenate'\n",
        "\n",
        "# Load your data\n",
        "data = pd.read_csv('/content/drive/MyDrive/ADFA_LD_BINARY.csv')  # Update the file path\n",
        "\n",
        "# Assuming your features are in columns other than the last one\n",
        "X = data.iloc[:, :-1]  # Features\n",
        "y = data.iloc[:, -1]   # Target variable\n",
        "\n",
        "# Check if any columns need processing\n",
        "cols_need_processing = []\n",
        "for col in X.columns:\n",
        "    if X[col].dtype == 'O':  # Check for object type (strings)\n",
        "        if '(' in X[col].iloc[0]:  # Checking if the first value contains parentheses\n",
        "            cols_need_processing.append(col)\n",
        "\n",
        "# Process the columns if needed\n",
        "for col in cols_need_processing:\n",
        "    X[col] = X[col].apply(lambda x: [int(i) for i in x.strip('()').split(',')])\n",
        "\n",
        "# Convert the target variable to numeric if needed\n",
        "y = y.astype(int)\n",
        "\n",
        "# Convert features to a numpy array and reshape for LSTM input\n",
        "X = X.values.astype(np.float32)\n",
        "X = X.reshape(X.shape[0], X.shape[1], 1)\n",
        "\n",
        "# Split the data into training and testing sets\n",
        "X_train, X_test, y_train, y_test = train_test_split(X, y, test_size=0.4, random_state=42)\n",
        "\n",
        "# LSTM Model\n",
        "input_layer = Input(shape=(X_train.shape[1], X_train.shape[2]))\n",
        "lstm_layer = LSTM(units=64, return_sequences=True)(input_layer)\n",
        "lstm_flatten = Flatten()(lstm_layer)\n",
        "\n",
        "# CNN Model\n",
        "conv1d_layer = Conv1D(filters=32, kernel_size=3, activation='relu')(input_layer)\n",
        "maxpooling_layer = MaxPooling1D(pool_size=2)(conv1d_layer)\n",
        "cnn_flatten = Flatten()(maxpooling_layer)\n",
        "\n",
        "# Merge LSTM and CNN branches\n",
        "merged = concatenate([lstm_flatten, cnn_flatten])\n",
        "\n",
        "# Fully connected layers\n",
        "dense_layer = Dense(units=64, activation='relu')(merged)\n",
        "output_layer = Dense(units=1, activation='sigmoid')(dense_layer)\n",
        "\n",
        "# Create the model\n",
        "model = Model(inputs=input_layer, outputs=output_layer)\n",
        "\n",
        "# Compile the model\n",
        "model.compile(loss='binary_crossentropy', optimizer='adam', metrics=['accuracy'])\n",
        "\n",
        "# Train the model\n",
        "history = model.fit(X_train, y_train, epochs=5, batch_size=32, validation_split=0.1)\n",
        "\n",
        "# Evaluate the model\n",
        "predicted_probs = model.predict(X_test)\n",
        "predicted_labels = (predicted_probs > 0.5).astype(int)\n",
        "\n",
        "# Calculate evaluation metrics\n",
        "accuracy = accuracy_score(y_test, predicted_labels)\n",
        "precision = precision_score(y_test, predicted_labels)\n",
        "recall = recall_score(y_test, predicted_labels)\n",
        "f1 = f1_score(y_test, predicted_labels)\n",
        "\n",
        "print(f\"Accuracy: {accuracy}, Precision: {precision}, Recall: {recall}, F1 Score: {f1}\")\n"
      ],
      "metadata": {
        "colab": {
          "base_uri": "https://localhost:8080/"
        },
        "id": "Wp_-WSxD_SYr",
        "outputId": "580a5dcc-a8e1-4df5-cb1c-3e98dd465ddc"
      },
      "execution_count": null,
      "outputs": [
        {
          "output_type": "stream",
          "name": "stdout",
          "text": [
            "Epoch 1/5\n",
            "101/101 [==============================] - 25s 203ms/step - loss: 0.3071 - accuracy: 0.8792 - val_loss: 0.1753 - val_accuracy: 0.9328\n",
            "Epoch 2/5\n",
            "101/101 [==============================] - 27s 263ms/step - loss: 0.1538 - accuracy: 0.9371 - val_loss: 0.1300 - val_accuracy: 0.9384\n",
            "Epoch 3/5\n",
            "101/101 [==============================] - 18s 178ms/step - loss: 0.1080 - accuracy: 0.9574 - val_loss: 0.1081 - val_accuracy: 0.9468\n",
            "Epoch 4/5\n",
            "101/101 [==============================] - 18s 183ms/step - loss: 0.0899 - accuracy: 0.9614 - val_loss: 0.1232 - val_accuracy: 0.9384\n",
            "Epoch 5/5\n",
            "101/101 [==============================] - 18s 182ms/step - loss: 0.0819 - accuracy: 0.9651 - val_loss: 0.0809 - val_accuracy: 0.9720\n",
            "75/75 [==============================] - 4s 45ms/step\n",
            "Accuracy: 0.9571608567828643, Precision: 0.8888888888888888, Recall: 0.7927927927927928, F1 Score: 0.8380952380952381\n"
          ]
        }
      ]
    },
    {
      "cell_type": "code",
      "source": [
        "import pandas as pd\n",
        "import numpy as np\n",
        "from sklearn.model_selection import train_test_split\n",
        "from sklearn.metrics import accuracy_score, precision_score, recall_score, f1_score\n",
        "from keras.models import Model\n",
        "from keras.layers import LSTM, Dense, Input, dot, Activation, concatenate, Lambda  # Add 'Lambda'\n",
        "\n",
        "# Rest of your code remains unchanged...\n",
        "\n",
        "\n",
        "# Load your data\n",
        "data = pd.read_csv('/content/drive/MyDrive/ADFA_LD_BINARY.csv')  # Update the file path\n",
        "\n",
        "# Assuming your features are in columns other than the last one\n",
        "X = data.iloc[:, :-1]  # Features\n",
        "y = data.iloc[:, -1]   # Target variable\n",
        "\n",
        "# Check if any columns need processing\n",
        "cols_need_processing = []\n",
        "for col in X.columns:\n",
        "    if X[col].dtype == 'O':  # Check for object type (strings)\n",
        "        if '(' in X[col].iloc[0]:  # Checking if the first value contains parentheses\n",
        "            cols_need_processing.append(col)\n",
        "\n",
        "# Process the columns if needed\n",
        "for col in cols_need_processing:\n",
        "    X[col] = X[col].apply(lambda x: [int(i) for i in x.strip('()').split(',')])\n",
        "\n",
        "# Convert the target variable to numeric if needed\n",
        "y = y.astype(int)\n",
        "\n",
        "# Convert features to a numpy array and reshape for LSTM input\n",
        "X = X.values.astype(np.float32)\n",
        "X = X.reshape(X.shape[0], X.shape[1], 1)\n",
        "\n",
        "# Split the data into training and testing sets\n",
        "X_train, X_test, y_train, y_test = train_test_split(X, y, test_size=0.4, random_state=42)\n",
        "\n",
        "# Define the attention layer\n",
        "def attention_layer(inputs):\n",
        "    hidden_states = inputs\n",
        "    hidden_size = int(hidden_states.shape[2])\n",
        "    score_first_part = Dense(hidden_size, use_bias=False, name='attention_score_vec')(hidden_states)\n",
        "    h_t = Lambda(lambda x: x[:, -1, :], output_shape=(hidden_size,), name='last_hidden_state')(hidden_states)\n",
        "    score = dot([score_first_part, h_t], [2, 1], name='attention_score')\n",
        "    attention_weights = Activation('softmax', name='attention_weight')(score)\n",
        "    context_vector = dot([hidden_states, attention_weights], [1, 1], name='context_vector')\n",
        "    return context_vector\n",
        "\n",
        "# Define your Attention-LSTM model\n",
        "input_layer = Input(shape=(X_train.shape[1], X_train.shape[2]))\n",
        "lstm_layer = LSTM(units=64, return_sequences=True)(input_layer)\n",
        "attention = attention_layer(lstm_layer)\n",
        "output_layer = Dense(units=1, activation='sigmoid')(attention)\n",
        "\n",
        "# Create the model\n",
        "model = Model(inputs=input_layer, outputs=output_layer)\n",
        "\n",
        "# Compile the model\n",
        "model.compile(loss='binary_crossentropy', optimizer='adam', metrics=['accuracy'])\n",
        "\n",
        "# Train the model\n",
        "history = model.fit(X_train, y_train, epochs=5, batch_size=32, validation_split=0.1)\n",
        "\n",
        "# Evaluate the model\n",
        "predicted_probs = model.predict(X_test)\n",
        "predicted_labels = (predicted_probs > 0.5).astype(int)\n",
        "\n",
        "# Calculate evaluation metrics\n",
        "accuracy = accuracy_score(y_test, predicted_labels)\n",
        "precision = precision_score(y_test, predicted_labels)\n",
        "recall = recall_score(y_test, predicted_labels)\n",
        "f1 = f1_score(y_test, predicted_labels)\n",
        "\n",
        "print(f\"Accuracy: {accuracy}, Precision: {precision}, Recall: {recall}, F1 Score: {f1}\")\n"
      ],
      "metadata": {
        "colab": {
          "base_uri": "https://localhost:8080/"
        },
        "id": "427H4Ufh_ScV",
        "outputId": "e40d2eaf-5dfe-4029-a847-5736f5b15f64"
      },
      "execution_count": null,
      "outputs": [
        {
          "output_type": "stream",
          "name": "stdout",
          "text": [
            "Epoch 1/5\n",
            "101/101 [==============================] - 23s 190ms/step - loss: 0.3846 - accuracy: 0.8836 - val_loss: 0.3235 - val_accuracy: 0.8908\n",
            "Epoch 2/5\n",
            "101/101 [==============================] - 22s 216ms/step - loss: 0.3091 - accuracy: 0.8852 - val_loss: 0.2713 - val_accuracy: 0.9048\n",
            "Epoch 3/5\n",
            "101/101 [==============================] - 19s 186ms/step - loss: 0.2838 - accuracy: 0.8926 - val_loss: 0.2744 - val_accuracy: 0.9020\n",
            "Epoch 4/5\n",
            "101/101 [==============================] - 16s 162ms/step - loss: 0.2578 - accuracy: 0.9066 - val_loss: 0.2515 - val_accuracy: 0.9104\n",
            "Epoch 5/5\n",
            "101/101 [==============================] - 17s 168ms/step - loss: 0.2508 - accuracy: 0.9045 - val_loss: 0.2480 - val_accuracy: 0.9188\n",
            "75/75 [==============================] - 3s 40ms/step\n",
            "Accuracy: 0.9000419991600168, Precision: 0.768361581920904, Recall: 0.4084084084084084, F1 Score: 0.5333333333333333\n"
          ]
        }
      ]
    },
    {
      "cell_type": "code",
      "source": [
        "import pandas as pd\n",
        "import numpy as np\n",
        "from sklearn.model_selection import train_test_split\n",
        "from sklearn.metrics import accuracy_score, precision_score, recall_score, f1_score\n",
        "from keras.models import Model\n",
        "from keras.layers import LSTM, Dense, Input, Add\n",
        "\n",
        "# Load your data\n",
        "# (Assuming the data loading and preprocessing code remains the same)\n",
        "\n",
        "\n",
        "\n",
        "# Rest of your code remains the same\n",
        "\n",
        "\n",
        "# Assuming your features are in columns other than the last one\n",
        "X = data.iloc[:, :-1]  # Features\n",
        "y = data.iloc[:, -1]   # Target variable\n",
        "\n",
        "# Check if any columns need processing\n",
        "cols_need_processing = []\n",
        "for col in X.columns:\n",
        "    if X[col].dtype == 'O':  # Check for object type (strings)\n",
        "        if '(' in X[col].iloc[0]:  # Checking if the first value contains parentheses\n",
        "            cols_need_processing.append(col)\n",
        "\n",
        "# Process the columns if needed\n",
        "for col in cols_need_processing:\n",
        "    X[col] = X[col].apply(lambda x: [int(i) for i in x.strip('()').split(',')])\n",
        "\n",
        "# Convert the target variable to numeric if needed\n",
        "y = y.astype(int)\n",
        "\n",
        "# Convert features to a numpy array and reshape for LSTM input\n",
        "X = X.values.astype(np.float32)\n",
        "X = X.reshape(X.shape[0], X.shape[1], 1)\n",
        "\n",
        "# Split the data into training and testing sets\n",
        "X_train, X_test, y_train, y_test = train_test_split(X, y, test_size=0.4, random_state=42)\n",
        "\n",
        "# Define your LSTM model with skip connection\n",
        "input_layer = Input(shape=(X_train.shape[1], X_train.shape[2]))\n",
        "lstm_layer = LSTM(units=64, return_sequences=True)(input_layer)\n",
        "lstm_layer2 = LSTM(units=64, return_sequences=True)(lstm_layer)  # Matching units with the previous layer\n",
        "skip_connection = Add()([lstm_layer, lstm_layer2])\n",
        "output_layer = Dense(units=1, activation='sigmoid')(skip_connection)\n",
        "\n",
        "# Create the model\n",
        "model = Model(inputs=input_layer, outputs=output_layer)\n",
        "\n",
        "# Compile the model\n",
        "model.compile(loss='binary_crossentropy', optimizer='adam', metrics=['accuracy'])\n",
        "\n",
        "# Train the model\n",
        "history = model.fit(X_train, y_train, epochs=5, batch_size=32, validation_split=0.1)\n",
        "\n",
        "# Evaluate the model\n",
        "predicted_probs = model.predict(X_test)\n",
        "predicted_labels = np.squeeze(predicted_labels, axis=-1)\n",
        "\n",
        "\n",
        "# Calculate evaluation metrics\n",
        "accuracy = accuracy_score(y_test, predicted_labels)\n",
        "precision = precision_score(y_test, predicted_labels)\n",
        "recall = recall_score(y_test, predicted_labels)\n",
        "f1 = f1_score(y_test, predicted_labels)\n",
        "\n",
        "print(f\"Accuracy: {accuracy}, Precision: {precision}, Recall: {recall}, F1 Score: {f1}\")\n"
      ],
      "metadata": {
        "colab": {
          "base_uri": "https://localhost:8080/"
        },
        "id": "VJi4STxf_SfW",
        "outputId": "4eff7427-d4f4-4189-eb3e-ac0666eb6091"
      },
      "execution_count": null,
      "outputs": [
        {
          "output_type": "stream",
          "name": "stdout",
          "text": [
            "Epoch 1/5\n",
            "101/101 [==============================] - 46s 349ms/step - loss: 0.3932 - accuracy: 0.8776 - val_loss: 0.3500 - val_accuracy: 0.8908\n",
            "Epoch 2/5\n",
            "101/101 [==============================] - 34s 341ms/step - loss: 0.3645 - accuracy: 0.8836 - val_loss: 0.3495 - val_accuracy: 0.8908\n",
            "Epoch 3/5\n",
            "101/101 [==============================] - 35s 344ms/step - loss: 0.3612 - accuracy: 0.8836 - val_loss: 0.3450 - val_accuracy: 0.8908\n",
            "Epoch 4/5\n",
            "101/101 [==============================] - 34s 339ms/step - loss: 0.3608 - accuracy: 0.8835 - val_loss: 0.3446 - val_accuracy: 0.8908\n",
            "Epoch 5/5\n",
            "101/101 [==============================] - 33s 330ms/step - loss: 0.3598 - accuracy: 0.8836 - val_loss: 0.3456 - val_accuracy: 0.8908\n",
            "75/75 [==============================] - 6s 76ms/step\n",
            "Accuracy: 0.8912221755564889, Precision: 0.7176470588235294, Recall: 0.3663663663663664, F1 Score: 0.485089463220676\n"
          ]
        }
      ]
    },
    {
      "cell_type": "code",
      "source": [
        "print(f\"y_test shape: {y_test.shape}, predicted_labels shape: {predicted_labels.shape}\")\n",
        "print(f\"y_test values: {np.unique(y_test)}, predicted_labels values: {np.unique(predicted_labels)}\")\n"
      ],
      "metadata": {
        "colab": {
          "base_uri": "https://localhost:8080/"
        },
        "id": "KiSUKsgsJS1Q",
        "outputId": "575f06f2-c9bb-434b-ffb6-035b053ad089"
      },
      "execution_count": null,
      "outputs": [
        {
          "output_type": "stream",
          "name": "stdout",
          "text": [
            "y_test shape: (2381,), predicted_labels shape: (2381, 1)\n",
            "y_test values: [0 1], predicted_labels values: [0 1]\n"
          ]
        }
      ]
    },
    {
      "cell_type": "code",
      "source": [],
      "metadata": {
        "id": "Y1Gow4mG_SjF"
      },
      "execution_count": null,
      "outputs": []
    },
    {
      "cell_type": "code",
      "source": [],
      "metadata": {
        "id": "HMeGNN8B_SmL"
      },
      "execution_count": null,
      "outputs": []
    },
    {
      "cell_type": "code",
      "source": [
        "ffffffffffffffffffffffffffffffffffffffffffffff"
      ],
      "metadata": {
        "id": "v3_XEgYNx9Bg"
      },
      "execution_count": null,
      "outputs": []
    },
    {
      "cell_type": "code",
      "source": [
        "# Reshape X_train for LSTM input\n",
        "X_train = X_train.reshape(X_train.shape[0], X_train.shape[1], 1)\n",
        "\n",
        "# Check the new shape of X_train\n",
        "print(X_train.shape)\n",
        "\n",
        "# Define your stacked LSTM model\n",
        "model = Sequential()\n",
        "model.add(LSTM(units=64, return_sequences=True, input_shape=(X_train.shape[1], X_train.shape[2])))\n",
        "model.add(LSTM(units=32))  # Adding the second LSTM layer\n",
        "model.add(Dense(units=num_classes, activation='softmax'))\n",
        "\n",
        "# Compile the model\n",
        "model.compile(loss='sparse_categorical_crossentropy', optimizer='adam', metrics=['accuracy'])\n",
        "\n",
        "# Train the model\n",
        "history = model.fit(X_train, y_train_encoded, epochs=5, batch_size=32, validation_split=0.1)\n",
        "\n",
        "# Evaluate the model\n",
        "predicted_probs = model.predict(X_test)\n",
        "predicted_labels = predicted_probs.argmax(axis=1)\n",
        "\n",
        "# Calculate evaluation metrics\n",
        "accuracy = accuracy_score(y_test_encoded, predicted_labels)\n",
        "precision = precision_score(y_test_encoded, predicted_labels, average='weighted')\n",
        "recall = recall_score(y_test_encoded, predicted_labels, average='weighted')\n",
        "f1 = f1_score(y_test_encoded, predicted_labels, average='weighted')\n",
        "\n",
        "print(f\"Accuracy: {accuracy}, Precision: {precision}, Recall: {recall}, F1 Score: {f1}\")\n"
      ],
      "metadata": {
        "colab": {
          "base_uri": "https://localhost:8080/"
        },
        "id": "ZZk0nHX_x9Gq",
        "outputId": "72bed675-a0de-43e1-c467-d3d242d4bdc3"
      },
      "execution_count": null,
      "outputs": [
        {
          "output_type": "stream",
          "name": "stdout",
          "text": [
            "(18035, 50, 1)\n",
            "Epoch 1/5\n",
            "508/508 [==============================] - 34s 57ms/step - loss: 1.4011 - accuracy: 0.6443 - val_loss: 0.9607 - val_accuracy: 0.7744\n",
            "Epoch 2/5\n",
            "508/508 [==============================] - 26s 51ms/step - loss: 0.8510 - accuracy: 0.7839 - val_loss: 0.7610 - val_accuracy: 0.7971\n",
            "Epoch 3/5\n",
            "508/508 [==============================] - 26s 50ms/step - loss: 0.7131 - accuracy: 0.7987 - val_loss: 0.6752 - val_accuracy: 0.8326\n",
            "Epoch 4/5\n",
            "508/508 [==============================] - 26s 52ms/step - loss: 0.6447 - accuracy: 0.8239 - val_loss: 0.6247 - val_accuracy: 0.8331\n",
            "Epoch 5/5\n",
            "508/508 [==============================] - 24s 48ms/step - loss: 0.6029 - accuracy: 0.8354 - val_loss: 0.5893 - val_accuracy: 0.8415\n",
            "141/141 [==============================] - 4s 16ms/step\n",
            "Accuracy: 0.785540031049013, Precision: 0.7189084904643351, Recall: 0.785540031049013, F1 Score: 0.7473348056677596\n"
          ]
        },
        {
          "output_type": "stream",
          "name": "stderr",
          "text": [
            "/usr/local/lib/python3.10/dist-packages/sklearn/metrics/_classification.py:1344: UndefinedMetricWarning: Precision is ill-defined and being set to 0.0 in labels with no predicted samples. Use `zero_division` parameter to control this behavior.\n",
            "  _warn_prf(average, modifier, msg_start, len(result))\n"
          ]
        }
      ]
    },
    {
      "cell_type": "code",
      "source": [
        "# Reshape X_train for LSTM input\n",
        "X_train = X_train.reshape(X_train.shape[0], X_train.shape[1], 1)\n",
        "\n",
        "# Check the new shape of X_train\n",
        "print(X_train.shape)\n",
        "\n",
        "# Define your Vanilla LSTM model\n",
        "model = Sequential()\n",
        "model.add(LSTM(units=64, input_shape=(X_train.shape[1], X_train.shape[2])))\n",
        "model.add(Dense(units=num_classes, activation='softmax'))\n",
        "\n",
        "# Compile the model\n",
        "model.compile(loss='sparse_categorical_crossentropy', optimizer='adam', metrics=['accuracy'])\n",
        "\n",
        "# Train the model\n",
        "history = model.fit(X_train, y_train_encoded, epochs=5, batch_size=32, validation_split=0.1)\n",
        "\n",
        "# Evaluate the model\n",
        "X_test = X_test.reshape(X_test.shape[0], X_test.shape[1], 1)  # Reshape X_test similarly\n",
        "predicted_probs = model.predict(X_test)\n",
        "predicted_labels = predicted_probs.argmax(axis=1)\n",
        "\n",
        "# Calculate evaluation metrics\n",
        "accuracy = accuracy_score(y_test_encoded, predicted_labels)\n",
        "precision = precision_score(y_test_encoded, predicted_labels, average='weighted')\n",
        "recall = recall_score(y_test_encoded, predicted_labels, average='weighted')\n",
        "f1 = f1_score(y_test_encoded, predicted_labels, average='weighted')\n",
        "\n",
        "print(f\"Accuracy: {accuracy}, Precision: {precision}, Recall: {recall}, F1 Score: {f1}\")\n"
      ],
      "metadata": {
        "colab": {
          "base_uri": "https://localhost:8080/"
        },
        "id": "PwvmZz9MyrMU",
        "outputId": "d560faee-bf10-4b7b-b884-a545bdfa94b2"
      },
      "execution_count": null,
      "outputs": [
        {
          "output_type": "stream",
          "name": "stdout",
          "text": [
            "(18035, 50, 1)\n",
            "Epoch 1/5\n",
            "508/508 [==============================] - 20s 32ms/step - loss: 1.2324 - accuracy: 0.6809 - val_loss: 0.8658 - val_accuracy: 0.7810\n",
            "Epoch 2/5\n",
            "508/508 [==============================] - 15s 30ms/step - loss: 0.7559 - accuracy: 0.7957 - val_loss: 0.6889 - val_accuracy: 0.8021\n",
            "Epoch 3/5\n",
            "508/508 [==============================] - 15s 30ms/step - loss: 0.6517 - accuracy: 0.8197 - val_loss: 0.6274 - val_accuracy: 0.8304\n",
            "Epoch 4/5\n",
            "508/508 [==============================] - 15s 30ms/step - loss: 0.6030 - accuracy: 0.8304 - val_loss: 0.5847 - val_accuracy: 0.8404\n",
            "Epoch 5/5\n",
            "508/508 [==============================] - 15s 30ms/step - loss: 0.5696 - accuracy: 0.8360 - val_loss: 0.5578 - val_accuracy: 0.8465\n",
            "141/141 [==============================] - 2s 9ms/step\n",
            "Accuracy: 0.7913062763362164, Precision: 0.715222456813386, Recall: 0.7913062763362164, F1 Score: 0.7509629876251905\n"
          ]
        },
        {
          "output_type": "stream",
          "name": "stderr",
          "text": [
            "/usr/local/lib/python3.10/dist-packages/sklearn/metrics/_classification.py:1344: UndefinedMetricWarning: Precision is ill-defined and being set to 0.0 in labels with no predicted samples. Use `zero_division` parameter to control this behavior.\n",
            "  _warn_prf(average, modifier, msg_start, len(result))\n"
          ]
        }
      ]
    },
    {
      "cell_type": "code",
      "source": [
        "from keras.layers import GRU\n",
        "\n",
        "# Reshape X_train for GRU input\n",
        "X_train = X_train.reshape(X_train.shape[0], X_train.shape[1], 1)\n",
        "\n",
        "# Check the new shape of X_train\n",
        "print(X_train.shape)\n",
        "\n",
        "# Define your GRU model\n",
        "model = Sequential()\n",
        "model.add(GRU(units=64, input_shape=(X_train.shape[1], X_train.shape[2])))\n",
        "model.add(Dense(units=num_classes, activation='softmax'))\n",
        "\n",
        "# Compile the model\n",
        "model.compile(loss='sparse_categorical_crossentropy', optimizer='adam', metrics=['accuracy'])\n",
        "\n",
        "# Train the model\n",
        "history = model.fit(X_train, y_train_encoded, epochs=5, batch_size=32, validation_split=0.1)\n",
        "\n",
        "# Evaluate the model\n",
        "X_test = X_test.reshape(X_test.shape[0], X_test.shape[1], 1)  # Reshape X_test similarly\n",
        "predicted_probs = model.predict(X_test)\n",
        "predicted_labels = predicted_probs.argmax(axis=1)\n",
        "\n",
        "# Calculate evaluation metrics\n",
        "accuracy = accuracy_score(y_test_encoded, predicted_labels)\n",
        "precision = precision_score(y_test_encoded, predicted_labels, average='weighted')\n",
        "recall = recall_score(y_test_encoded, predicted_labels, average='weighted')\n",
        "f1 = f1_score(y_test_encoded, predicted_labels, average='weighted')\n",
        "\n",
        "print(f\"Accuracy: {accuracy}, Precision: {precision}, Recall: {recall}, F1 Score: {f1}\")\n"
      ],
      "metadata": {
        "colab": {
          "base_uri": "https://localhost:8080/"
        },
        "id": "VTGUo-KH0J7g",
        "outputId": "c02d5685-32c7-43fb-ec46-b32eca88a51a"
      },
      "execution_count": null,
      "outputs": [
        {
          "output_type": "stream",
          "name": "stdout",
          "text": [
            "(18035, 50, 1)\n",
            "Epoch 1/5\n",
            "508/508 [==============================] - 23s 34ms/step - loss: 1.1592 - accuracy: 0.7101 - val_loss: 0.7560 - val_accuracy: 0.8010\n",
            "Epoch 2/5\n",
            "508/508 [==============================] - 15s 29ms/step - loss: 0.6596 - accuracy: 0.8196 - val_loss: 0.6059 - val_accuracy: 0.8293\n",
            "Epoch 3/5\n",
            "508/508 [==============================] - 14s 27ms/step - loss: 0.5677 - accuracy: 0.8375 - val_loss: 0.5589 - val_accuracy: 0.8404\n",
            "Epoch 4/5\n",
            "508/508 [==============================] - 20s 39ms/step - loss: 0.5257 - accuracy: 0.8442 - val_loss: 0.5163 - val_accuracy: 0.8642\n",
            "Epoch 5/5\n",
            "508/508 [==============================] - 13s 25ms/step - loss: 0.4977 - accuracy: 0.8534 - val_loss: 0.4928 - val_accuracy: 0.8620\n",
            "141/141 [==============================] - 2s 9ms/step\n",
            "Accuracy: 0.7913062763362164, Precision: 0.7289551970490049, Recall: 0.7913062763362164, F1 Score: 0.7546828796127274\n"
          ]
        },
        {
          "output_type": "stream",
          "name": "stderr",
          "text": [
            "/usr/local/lib/python3.10/dist-packages/sklearn/metrics/_classification.py:1344: UndefinedMetricWarning: Precision is ill-defined and being set to 0.0 in labels with no predicted samples. Use `zero_division` parameter to control this behavior.\n",
            "  _warn_prf(average, modifier, msg_start, len(result))\n"
          ]
        }
      ]
    },
    {
      "cell_type": "code",
      "source": [
        "from keras.layers import LSTM\n",
        "\n",
        "# Reshape X_train for Peephole LSTM input\n",
        "X_train = X_train.reshape(X_train.shape[0], X_train.shape[1], 1)\n",
        "\n",
        "# Check the new shape of X_train\n",
        "print(X_train.shape)\n",
        "\n",
        "# Define your Peephole LSTM model\n",
        "model = Sequential()\n",
        "model.add(LSTM(units=64, input_shape=(X_train.shape[1], X_train.shape[2]), implementation=2))\n",
        "model.add(Dense(units=num_classes, activation='softmax'))\n",
        "\n",
        "# Compile the model\n",
        "model.compile(loss='sparse_categorical_crossentropy', optimizer='adam', metrics=['accuracy'])\n",
        "\n",
        "# Train the model\n",
        "history = model.fit(X_train, y_train_encoded, epochs=5, batch_size=32, validation_split=0.1)\n",
        "\n",
        "# Evaluate the model\n",
        "X_test = X_test.reshape(X_test.shape[0], X_test.shape[1], 1)  # Reshape X_test similarly\n",
        "predicted_probs = model.predict(X_test)\n",
        "predicted_labels = predicted_probs.argmax(axis=1)\n",
        "\n",
        "# Calculate evaluation metrics\n",
        "accuracy = accuracy_score(y_test_encoded, predicted_labels)\n",
        "precision = precision_score(y_test_encoded, predicted_labels, average='weighted')\n",
        "recall = recall_score(y_test_encoded, predicted_labels, average='weighted')\n",
        "f1 = f1_score(y_test_encoded, predicted_labels, average='weighted')\n",
        "\n",
        "print(f\"Accuracy: {accuracy}, Precision: {precision}, Recall: {recall}, F1 Score: {f1}\")\n"
      ],
      "metadata": {
        "colab": {
          "base_uri": "https://localhost:8080/"
        },
        "id": "BkSKeGUR06bI",
        "outputId": "ec2997b5-e877-4b42-b14b-96d04f801db4"
      },
      "execution_count": null,
      "outputs": [
        {
          "output_type": "stream",
          "name": "stdout",
          "text": [
            "(18035, 50, 1)\n",
            "Epoch 1/5\n",
            "508/508 [==============================] - 22s 35ms/step - loss: 1.3136 - accuracy: 0.6509 - val_loss: 0.9555 - val_accuracy: 0.7738\n",
            "Epoch 2/5\n",
            "508/508 [==============================] - 14s 27ms/step - loss: 0.8263 - accuracy: 0.7867 - val_loss: 0.7373 - val_accuracy: 0.8010\n",
            "Epoch 3/5\n",
            "508/508 [==============================] - 14s 28ms/step - loss: 0.6878 - accuracy: 0.8070 - val_loss: 0.6635 - val_accuracy: 0.8248\n",
            "Epoch 4/5\n",
            "508/508 [==============================] - 17s 33ms/step - loss: 0.6243 - accuracy: 0.8300 - val_loss: 0.6046 - val_accuracy: 0.8426\n",
            "Epoch 5/5\n",
            "508/508 [==============================] - 14s 28ms/step - loss: 0.5867 - accuracy: 0.8400 - val_loss: 0.5772 - val_accuracy: 0.8442\n",
            "141/141 [==============================] - 2s 8ms/step\n",
            "Accuracy: 0.7857618097139055, Precision: 0.7172492729788814, Recall: 0.7857618097139055, F1 Score: 0.7465386894656615\n"
          ]
        },
        {
          "output_type": "stream",
          "name": "stderr",
          "text": [
            "/usr/local/lib/python3.10/dist-packages/sklearn/metrics/_classification.py:1344: UndefinedMetricWarning: Precision is ill-defined and being set to 0.0 in labels with no predicted samples. Use `zero_division` parameter to control this behavior.\n",
            "  _warn_prf(average, modifier, msg_start, len(result))\n"
          ]
        }
      ]
    },
    {
      "cell_type": "code",
      "source": [
        "from keras.models import Sequential\n",
        "from keras.layers import LSTM, Conv1D, MaxPooling1D, Flatten, Dense\n",
        "\n",
        "# Assuming X_train, y_train_encoded, X_test, y_test_encoded are defined\n",
        "\n",
        "# Reshape X_train for LSTM-CNN input\n",
        "X_train = X_train.reshape(X_train.shape[0], X_train.shape[1], 1)\n",
        "\n",
        "# Reshape X_test similarly\n",
        "X_test = X_test.reshape(X_test.shape[0], X_test.shape[1], 1)\n",
        "\n",
        "# Define your LSTM-CNN hybrid model\n",
        "model = Sequential()\n",
        "\n",
        "# Add Convolutional layers\n",
        "model.add(Conv1D(filters=64, kernel_size=3, activation='relu', input_shape=(X_train.shape[1], 1)))\n",
        "model.add(MaxPooling1D(pool_size=2))\n",
        "\n",
        "# Add LSTM layer\n",
        "model.add(LSTM(units=64))\n",
        "\n",
        "# Dense layer for classification\n",
        "model.add(Dense(units=num_classes, activation='softmax'))\n",
        "\n",
        "# Compile the model\n",
        "model.compile(loss='sparse_categorical_crossentropy', optimizer='adam', metrics=['accuracy'])\n",
        "\n",
        "# Train the model\n",
        "history = model.fit(X_train, y_train_encoded, epochs=5, batch_size=32, validation_split=0.1)\n",
        "\n",
        "# Evaluate the model\n",
        "predicted_probs = model.predict(X_test)\n",
        "predicted_labels = predicted_probs.argmax(axis=1)\n",
        "\n",
        "# Calculate evaluation metrics\n",
        "accuracy = accuracy_score(y_test_encoded, predicted_labels)\n",
        "precision = precision_score(y_test_encoded, predicted_labels, average='weighted')\n",
        "recall = recall_score(y_test_encoded, predicted_labels, average='weighted')\n",
        "f1 = f1_score(y_test_encoded, predicted_labels, average='weighted')\n",
        "\n",
        "print(f\"Accuracy: {accuracy}, Precision: {precision}, Recall: {recall}, F1 Score: {f1}\")\n"
      ],
      "metadata": {
        "colab": {
          "base_uri": "https://localhost:8080/"
        },
        "id": "UKZobDKT1YbO",
        "outputId": "8d1c11c0-9250-4bdd-db3e-45e1b9259cce"
      },
      "execution_count": null,
      "outputs": [
        {
          "output_type": "stream",
          "name": "stdout",
          "text": [
            "Epoch 1/5\n",
            "508/508 [==============================] - 15s 22ms/step - loss: 1.1381 - accuracy: 0.7024 - val_loss: 0.8330 - val_accuracy: 0.7716\n",
            "Epoch 2/5\n",
            "508/508 [==============================] - 10s 20ms/step - loss: 0.7473 - accuracy: 0.7865 - val_loss: 0.7110 - val_accuracy: 0.8032\n",
            "Epoch 3/5\n",
            "508/508 [==============================] - 11s 22ms/step - loss: 0.6486 - accuracy: 0.8172 - val_loss: 0.6399 - val_accuracy: 0.8304\n",
            "Epoch 4/5\n",
            "508/508 [==============================] - 10s 19ms/step - loss: 0.5914 - accuracy: 0.8385 - val_loss: 0.5832 - val_accuracy: 0.8359\n",
            "Epoch 5/5\n",
            "508/508 [==============================] - 11s 21ms/step - loss: 0.5570 - accuracy: 0.8455 - val_loss: 0.5509 - val_accuracy: 0.8586\n",
            "141/141 [==============================] - 1s 6ms/step\n",
            "Accuracy: 0.7904191616766467, Precision: 0.7188782615903172, Recall: 0.7904191616766467, F1 Score: 0.7521641585674561\n"
          ]
        },
        {
          "output_type": "stream",
          "name": "stderr",
          "text": [
            "/usr/local/lib/python3.10/dist-packages/sklearn/metrics/_classification.py:1344: UndefinedMetricWarning: Precision is ill-defined and being set to 0.0 in labels with no predicted samples. Use `zero_division` parameter to control this behavior.\n",
            "  _warn_prf(average, modifier, msg_start, len(result))\n"
          ]
        }
      ]
    },
    {
      "cell_type": "code",
      "source": [
        "import pandas as pd\n",
        "\n",
        "\n",
        "# Display unique classes in the 'labels' column\n",
        "unique_classes = data['labels'].unique()\n",
        "print(\"Unique Classes:\", unique_classes)\n"
      ],
      "metadata": {
        "colab": {
          "base_uri": "https://localhost:8080/"
        },
        "id": "rXDSgro635MG",
        "outputId": "be4cebf5-1b86-4cb7-e743-e0bf79b057d3"
      },
      "execution_count": null,
      "outputs": [
        {
          "output_type": "stream",
          "name": "stdout",
          "text": [
            "Unique Classes: ['normal' 'portsweep' 'neptune' 'smurf' 'satan' 'apache2' 'teardrop'\n",
            " 'guess_passwd' 'ipsweep' 'warezclient' 'nmap' 'warezmaster' 'mscan'\n",
            " 'back' 'pod' 'httptunnel' 'processtable' 'mailbomb' 'snmpguess' 'saint'\n",
            " 'multihop' 'snmpgetattack' 'buffer_overflow' 'xsnoop' 'imap' 'ps'\n",
            " 'rootkit' 'land' 'xterm' 'sendmail' 'phf' 'loadmodule' 'perl' 'xlock'\n",
            " 'ftp_write' 'named']\n"
          ]
        }
      ]
    },
    {
      "cell_type": "code",
      "source": [
        "from keras.layers import Input, LSTM, Conv1D, MaxPooling1D, Flatten, Dense, Add, Concatenate\n",
        "from keras.models import Model\n",
        "\n",
        "# Assuming X_train, y_train_encoded, X_test, y_test_encoded are defined\n",
        "\n",
        "# Reshape X_train for LSTM-CNN input\n",
        "X_train = X_train.reshape(X_train.shape[0], X_train.shape[1], 1)\n",
        "\n",
        "# Reshape X_test similarly\n",
        "X_test = X_test.reshape(X_test.shape[0], X_test.shape[1], 1)\n",
        "\n",
        "# Input layer\n",
        "input_layer = Input(shape=(X_train.shape[1], 1))\n",
        "\n",
        "# Convolutional layers\n",
        "conv1 = Conv1D(filters=64, kernel_size=3, activation='relu')(input_layer)\n",
        "pool1 = MaxPooling1D(pool_size=2)(conv1)\n",
        "\n",
        "# LSTM layer\n",
        "lstm1 = LSTM(units=64, return_sequences=True)(pool1)\n",
        "lstm2 = LSTM(units=64, return_sequences=True)(lstm1)\n",
        "\n",
        "# Padding the Conv1D output to adjust shapes for concatenation\n",
        "conv1_padded = Conv1D(filters=64, kernel_size=3, activation='relu', padding='same')(conv1)\n",
        "\n",
        "# Skip connection by concatenating the output of Conv1D with LSTM output\n",
        "skip_connection = Concatenate(axis=-2)([lstm2, conv1_padded])\n",
        "\n",
        "# Flatten layer\n",
        "flat = Flatten()(skip_connection)\n",
        "\n",
        "# Dense layer for classification\n",
        "output_layer = Dense(units=num_classes, activation='softmax')(flat)\n",
        "\n",
        "# Define the model\n",
        "model = Model(inputs=input_layer, outputs=output_layer)\n",
        "\n",
        "# Compile the model\n",
        "model.compile(loss='sparse_categorical_crossentropy', optimizer='adam', metrics=['accuracy'])\n",
        "\n",
        "# Train the model\n",
        "history = model.fit(X_train, y_train_encoded, epochs=5, batch_size=32, validation_split=0.1)\n",
        "\n",
        "# Evaluate the model\n",
        "predicted_probs = model.predict(X_test)\n",
        "predicted_labels = predicted_probs.argmax(axis=1)\n",
        "\n",
        "# Calculate evaluation metrics\n",
        "accuracy = accuracy_score(y_test_encoded, predicted_labels)\n",
        "precision = precision_score(y_test_encoded, predicted_labels, average='weighted')\n",
        "recall = recall_score(y_test_encoded, predicted_labels, average='weighted')\n",
        "f1 = f1_score(y_test_encoded, predicted_labels, average='weighted')\n",
        "\n",
        "print(f\"Accuracy: {accuracy}, Precision: {precision}, Recall: {recall}, F1 Score: {f1}\")\n"
      ],
      "metadata": {
        "colab": {
          "base_uri": "https://localhost:8080/"
        },
        "id": "hccw1MGJ4cqp",
        "outputId": "dedbc89d-33d3-4ed3-9b48-65cba9e798b4"
      },
      "execution_count": null,
      "outputs": [
        {
          "output_type": "stream",
          "name": "stdout",
          "text": [
            "Epoch 1/5\n",
            "370/370 [==============================] - 26s 47ms/step - loss: 1.1862 - accuracy: 0.6788 - val_loss: 0.8229 - val_accuracy: 0.8061\n",
            "Epoch 2/5\n",
            "370/370 [==============================] - 16s 44ms/step - loss: 0.7585 - accuracy: 0.7950 - val_loss: 0.7668 - val_accuracy: 0.8236\n",
            "Epoch 3/5\n",
            "370/370 [==============================] - 16s 44ms/step - loss: 0.6610 - accuracy: 0.8168 - val_loss: 0.6322 - val_accuracy: 0.8487\n",
            "Epoch 4/5\n",
            "370/370 [==============================] - 16s 44ms/step - loss: 0.6077 - accuracy: 0.8342 - val_loss: 0.5989 - val_accuracy: 0.8426\n",
            "Epoch 5/5\n",
            "370/370 [==============================] - 17s 46ms/step - loss: 0.5679 - accuracy: 0.8485 - val_loss: 0.5907 - val_accuracy: 0.8388\n",
            "141/141 [==============================] - 2s 11ms/step\n",
            "Accuracy: 0.7877578176979375, Precision: 0.7111120353347506, Recall: 0.7877578176979375, F1 Score: 0.7443796278360874\n"
          ]
        },
        {
          "output_type": "stream",
          "name": "stderr",
          "text": [
            "/usr/local/lib/python3.10/dist-packages/sklearn/metrics/_classification.py:1344: UndefinedMetricWarning: Precision is ill-defined and being set to 0.0 in labels with no predicted samples. Use `zero_division` parameter to control this behavior.\n",
            "  _warn_prf(average, modifier, msg_start, len(result))\n"
          ]
        }
      ]
    },
    {
      "cell_type": "code",
      "source": [
        "from keras.layers import Input, LSTM, Conv1D, MaxPooling1D, Flatten, Dense, Concatenate, Activation, Dot\n",
        "from keras.models import Model\n",
        "\n",
        "# Assuming X_train, y_train_encoded, X_test, y_test_encoded are defined\n",
        "\n",
        "# Reshape X_train for LSTM-CNN input\n",
        "X_train = X_train.reshape(X_train.shape[0], X_train.shape[1], 1)\n",
        "\n",
        "# Reshape X_test similarly\n",
        "X_test = X_test.reshape(X_test.shape[0], X_test.shape[1], 1)\n",
        "\n",
        "# Input layer\n",
        "input_layer = Input(shape=(X_train.shape[1], 1))\n",
        "\n",
        "# Convolutional layers\n",
        "conv1 = Conv1D(filters=64, kernel_size=3, activation='relu')(input_layer)\n",
        "pool1 = MaxPooling1D(pool_size=2)(conv1)\n",
        "\n",
        "# LSTM layer\n",
        "lstm1 = LSTM(units=64, return_sequences=True)(pool1)\n",
        "lstm2 = LSTM(units=64, return_sequences=True)(lstm1)\n",
        "\n",
        "# Attention mechanism\n",
        "attention = Dense(1, activation='tanh')(lstm2)\n",
        "attention = Flatten()(attention)\n",
        "attention = Activation('softmax')(attention)\n",
        "attention = Dot(axes=1)([attention, lstm2])\n",
        "\n",
        "# Flatten layer\n",
        "flat = Flatten()(attention)\n",
        "\n",
        "# Dense layer for classification\n",
        "output_layer = Dense(units=num_classes, activation='softmax')(flat)\n",
        "\n",
        "# Define the model\n",
        "model = Model(inputs=input_layer, outputs=output_layer)\n",
        "\n",
        "# Compile the model\n",
        "model.compile(loss='sparse_categorical_crossentropy', optimizer='adam', metrics=['accuracy'])\n",
        "\n",
        "# Train the model\n",
        "history = model.fit(X_train, y_train_encoded, epochs=5, batch_size=32, validation_split=0.1)\n",
        "\n",
        "# Evaluate the model\n",
        "predicted_probs = model.predict(X_test)\n",
        "predicted_labels = predicted_probs.argmax(axis=1)\n",
        "\n",
        "# Calculate evaluation metrics\n",
        "accuracy = accuracy_score(y_test_encoded, predicted_labels)\n",
        "precision = precision_score(y_test_encoded, predicted_labels, average='weighted')\n",
        "recall = recall_score(y_test_encoded, predicted_labels, average='weighted')\n",
        "f1 = f1_score(y_test_encoded, predicted_labels, average='weighted')\n",
        "\n",
        "print(f\"Accuracy: {accuracy}, Precision: {precision}, Recall: {recall}, F1 Score: {f1}\")\n"
      ],
      "metadata": {
        "colab": {
          "base_uri": "https://localhost:8080/"
        },
        "id": "9mpoOcBP-F5P",
        "outputId": "0f179109-5fc6-4cf3-fa5d-3a68c6a7452d"
      },
      "execution_count": null,
      "outputs": [
        {
          "output_type": "stream",
          "name": "stdout",
          "text": [
            "Epoch 1/5\n",
            "370/370 [==============================] - 24s 40ms/step - loss: 1.7082 - accuracy: 0.4922 - val_loss: 1.5574 - val_accuracy: 0.5240\n",
            "Epoch 2/5\n",
            "370/370 [==============================] - 12s 32ms/step - loss: 1.6020 - accuracy: 0.4938 - val_loss: 1.5368 - val_accuracy: 0.5240\n",
            "Epoch 3/5\n",
            "370/370 [==============================] - 13s 34ms/step - loss: 1.4687 - accuracy: 0.5873 - val_loss: 1.2825 - val_accuracy: 0.6418\n",
            "Epoch 4/5\n",
            "370/370 [==============================] - 14s 37ms/step - loss: 1.1689 - accuracy: 0.7398 - val_loss: 1.0368 - val_accuracy: 0.7567\n",
            "Epoch 5/5\n",
            "370/370 [==============================] - 17s 45ms/step - loss: 0.9962 - accuracy: 0.7906 - val_loss: 0.9189 - val_accuracy: 0.8030\n",
            "141/141 [==============================] - 2s 9ms/step\n",
            "Accuracy: 0.7771124417831005, Precision: 0.6612468269465879, Recall: 0.7771124417831005, F1 Score: 0.7145044076675049\n"
          ]
        },
        {
          "output_type": "stream",
          "name": "stderr",
          "text": [
            "/usr/local/lib/python3.10/dist-packages/sklearn/metrics/_classification.py:1344: UndefinedMetricWarning: Precision is ill-defined and being set to 0.0 in labels with no predicted samples. Use `zero_division` parameter to control this behavior.\n",
            "  _warn_prf(average, modifier, msg_start, len(result))\n"
          ]
        }
      ]
    },
    {
      "cell_type": "code",
      "source": [],
      "metadata": {
        "id": "CKbvlk8E86Wv"
      },
      "execution_count": null,
      "outputs": []
    }
  ]
}