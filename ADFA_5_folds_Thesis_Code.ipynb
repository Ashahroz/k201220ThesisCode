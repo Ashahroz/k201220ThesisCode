{
  "cells": [
    {
      "cell_type": "markdown",
      "metadata": {
        "id": "view-in-github",
        "colab_type": "text"
      },
      "source": [
        "<a href=\"https://colab.research.google.com/github/Ashahroz/k201220ThesisCode/blob/main/ADFA_5_folds_Thesis_Code.ipynb\" target=\"_parent\"><img src=\"https://colab.research.google.com/assets/colab-badge.svg\" alt=\"Open In Colab\"/></a>"
      ]
    },
    {
      "cell_type": "code",
      "execution_count": null,
      "metadata": {
        "id": "YsdG-OPRohcf"
      },
      "outputs": [],
      "source": [
        "import pandas as pd\n",
        "import numpy as np\n",
        "from sklearn.model_selection import train_test_split\n",
        "from sklearn.preprocessing import StandardScaler\n",
        "from sklearn.svm import SVC\n",
        "from sklearn.metrics import confusion_matrix, precision_score, recall_score, f1_score, accuracy_score\n",
        "import matplotlib.pyplot as plt\n",
        "from keras.layers import Dense\n",
        "from keras.models import Sequential\n",
        "from keras.layers import Dense, LSTM, Bidirectional, TimeDistributed\n",
        "from sklearn.ensemble import RandomForestClassifier\n",
        "from sklearn.linear_model import LogisticRegression\n",
        "from sklearn.neighbors import KNeighborsClassifier\n",
        "from sklearn.tree import DecisionTreeClassifier\n",
        "from sklearn.ensemble import GradientBoostingClassifier\n",
        "from sklearn.naive_bayes import GaussianNB\n",
        "#from pycm import ConfusionMatrix\n",
        "from sklearn.metrics import accuracy_score, classification_report, confusion_matrix, roc_curve, auc\n",
        "from sklearn.metrics import accuracy_score, precision_score, recall_score, f1_score\n",
        "from imblearn.over_sampling import RandomOverSampler\n",
        "import seaborn as sns\n",
        "from sklearn.model_selection import RandomizedSearchCV\n",
        "from scipy.stats import randint as sp_randint\n",
        "import csv"
      ]
    },
    {
      "cell_type": "code",
      "execution_count": null,
      "metadata": {
        "id": "6Aid9mwPf8BC"
      },
      "outputs": [],
      "source": [
        "import pandas as pd\n",
        "\n",
        "# Read the CSV file into a DataFrame\n",
        "data = pd.read_csv('/content/drive/MyDrive/ADFA_LD_BINARY.csv')\n"
      ]
    },
    {
      "cell_type": "code",
      "execution_count": null,
      "metadata": {
        "colab": {
          "base_uri": "https://localhost:8080/"
        },
        "id": "AaSgWvjl5e-w",
        "outputId": "b1634cc5-7ca0-491d-a3b8-fcf917168c60"
      },
      "outputs": [
        {
          "output_type": "stream",
          "name": "stdout",
          "text": [
            "Index(['('142', '119')', '('43', '43')', '('340', '168')', '('265', '142')',\n",
            "       '('104', '175')', '('33', '195')', '('175', '142')', '('78', '78')',\n",
            "       '('168', '340')', '('4', '142')',\n",
            "       ...\n",
            "       '('175', '146')', '('175', '265')', '('265', '240')', '('1', '1')',\n",
            "       '('125', '78')', '('78', '13')', '('85', '102')', '('27', '102')',\n",
            "       '('162', '114')', 'class'],\n",
            "      dtype='object', length=275)\n"
          ]
        }
      ],
      "source": [
        "print(data.columns)\n"
      ]
    },
    {
      "cell_type": "code",
      "execution_count": null,
      "metadata": {
        "id": "zdDcZwz4gYe5"
      },
      "outputs": [],
      "source": [
        "from sklearn.model_selection import train_test_split\n",
        "\n",
        "# Split the data into features (X) and labels (y)\n",
        "X = data.drop('class', axis=1)  # Features\n",
        "y = data['class']  # Labels\n",
        "\n",
        "\n",
        "# Identify categorical columns\n",
        "categorical_cols = X.select_dtypes(include=['object']).columns.tolist()\n",
        "\n",
        "# One-hot encode categorical columns\n",
        "X_encoded = pd.get_dummies(X, columns=categorical_cols)\n",
        "\n",
        "# Split the encoded data into training and testing sets\n",
        "X_train_enc, X_test_enc, y_train, y_test = train_test_split(X_encoded, y, test_size=0.4, random_state=42)\n",
        "\n"
      ]
    },
    {
      "cell_type": "code",
      "execution_count": null,
      "metadata": {
        "colab": {
          "base_uri": "https://localhost:8080/"
        },
        "id": "OuZF9doUiQo7",
        "outputId": "f1173c6d-f957-43b1-a305-b839bf80f12e"
      },
      "outputs": [
        {
          "output_type": "stream",
          "name": "stdout",
          "text": [
            "Accuracy of Ridge Classifier with encoded data: 0.8983620327593448\n",
            "Cross-validation scores: [0.92857143 0.91036415 0.92577031 0.93277311 0.91596639]\n",
            "Mean cross-validation score: 0.9226890756302522\n"
          ]
        }
      ],
      "source": [
        "from sklearn.linear_model import RidgeClassifier\n",
        "from sklearn.model_selection import cross_val_score\n",
        "\n",
        "# Create the Ridge Classifier model\n",
        "ridge_clf = RidgeClassifier()\n",
        "\n",
        "# Perform cross-validation with 5 folds\n",
        "cv_scores = cross_val_score(ridge_clf, X_train_enc, y_train, cv=5)\n",
        "\n",
        "# Fit the model on the entire training data\n",
        "ridge_clf.fit(X_train_enc, y_train)\n",
        "\n",
        "# Make predictions on the test set\n",
        "predictions = ridge_clf.predict(X_test_enc)\n",
        "\n",
        "# Evaluate the model\n",
        "accuracy = accuracy_score(y_test, predictions)\n",
        "print(f\"Accuracy of Ridge Classifier with encoded data: {accuracy}\")\n",
        "\n",
        "# Display cross-validation scores\n",
        "print(\"Cross-validation scores:\", cv_scores)\n",
        "print(f\"Mean cross-validation score: {cv_scores.mean()}\")\n"
      ]
    },
    {
      "cell_type": "code",
      "execution_count": null,
      "metadata": {
        "colab": {
          "base_uri": "https://localhost:8080/",
          "height": 633
        },
        "id": "ny9eFyr3gcWk",
        "outputId": "1593c7a7-c56c-4d6a-abcb-a716e9e0010f"
      },
      "outputs": [
        {
          "output_type": "stream",
          "name": "stdout",
          "text": [
            "Accuracy: 0.8984\n",
            "Precision: 0.8885\n",
            "Recall: 0.8984\n",
            "F1 Score: 0.8844\n"
          ]
        },
        {
          "output_type": "display_data",
          "data": {
            "text/plain": [
              "<Figure size 800x600 with 1 Axes>"
            ],
            "image/png": "[encoded data removed]"
          },
          "metadata": {}
        }
      ],
      "source": [
        "\n",
        "from sklearn.metrics import accuracy_score, precision_score, recall_score, f1_score, confusion_matrix\n",
        "import matplotlib.pyplot as plt\n",
        "import seaborn as sns\n",
        "\n",
        "# Calculate accuracy\n",
        "accuracy = accuracy_score(y_test, predictions)\n",
        "\n",
        "# Calculate precision\n",
        "precision = precision_score(y_test, predictions, average='weighted')\n",
        "\n",
        "# Calculate recall\n",
        "recall = recall_score(y_test, predictions, average='weighted')\n",
        "\n",
        "# Calculate F1 score\n",
        "f1 = f1_score(y_test, predictions, average='weighted')\n",
        "\n",
        "print(f\"Accuracy: {accuracy:.4f}\")\n",
        "print(f\"Precision: {precision:.4f}\")\n",
        "print(f\"Recall: {recall:.4f}\")\n",
        "print(f\"F1 Score: {f1:.4f}\")\n",
        "\n",
        "# Plot confusion matrix\n",
        "cm = confusion_matrix(y_test, predictions)\n",
        "plt.figure(figsize=(8, 6))\n",
        "sns.heatmap(cm, annot=True, fmt=\"d\", cmap=\"Blues\", cbar=False)\n",
        "plt.xlabel('Predicted Labels')\n",
        "plt.ylabel('True Labels')\n",
        "plt.title('Confusion Matrix')\n",
        "plt.show()\n"
      ]
    },
    {
      "cell_type": "code",
      "execution_count": null,
      "metadata": {
        "colab": {
          "base_uri": "https://localhost:8080/",
          "height": 1000
        },
        "id": "D-I8eewEgwIF",
        "outputId": "81ef4ce3-1ee3-43cf-b502-39d31067ef77"
      },
      "outputs": [
        {
          "output_type": "stream",
          "name": "stderr",
          "text": [
            "/usr/local/lib/python3.10/dist-packages/sklearn/linear_model/_logistic.py:458: ConvergenceWarning: lbfgs failed to converge (status=1):\n",
            "STOP: TOTAL NO. of ITERATIONS REACHED LIMIT.\n",
            "\n",
            "Increase the number of iterations (max_iter) or scale the data as shown in:\n",
            "    https://scikit-learn.org/stable/modules/preprocessing.html\n",
            "Please also refer to the documentation for alternative solver options:\n",
            "    https://scikit-learn.org/stable/modules/linear_model.html#logistic-regression\n",
            "  n_iter_i = _check_optimize_result(\n",
            "/usr/local/lib/python3.10/dist-packages/sklearn/linear_model/_logistic.py:458: ConvergenceWarning: lbfgs failed to converge (status=1):\n",
            "STOP: TOTAL NO. of ITERATIONS REACHED LIMIT.\n",
            "\n",
            "Increase the number of iterations (max_iter) or scale the data as shown in:\n",
            "    https://scikit-learn.org/stable/modules/preprocessing.html\n",
            "Please also refer to the documentation for alternative solver options:\n",
            "    https://scikit-learn.org/stable/modules/linear_model.html#logistic-regression\n",
            "  n_iter_i = _check_optimize_result(\n",
            "/usr/local/lib/python3.10/dist-packages/sklearn/linear_model/_logistic.py:458: ConvergenceWarning: lbfgs failed to converge (status=1):\n",
            "STOP: TOTAL NO. of ITERATIONS REACHED LIMIT.\n",
            "\n",
            "Increase the number of iterations (max_iter) or scale the data as shown in:\n",
            "    https://scikit-learn.org/stable/modules/preprocessing.html\n",
            "Please also refer to the documentation for alternative solver options:\n",
            "    https://scikit-learn.org/stable/modules/linear_model.html#logistic-regression\n",
            "  n_iter_i = _check_optimize_result(\n",
            "/usr/local/lib/python3.10/dist-packages/sklearn/linear_model/_logistic.py:458: ConvergenceWarning: lbfgs failed to converge (status=1):\n",
            "STOP: TOTAL NO. of ITERATIONS REACHED LIMIT.\n",
            "\n",
            "Increase the number of iterations (max_iter) or scale the data as shown in:\n",
            "    https://scikit-learn.org/stable/modules/preprocessing.html\n",
            "Please also refer to the documentation for alternative solver options:\n",
            "    https://scikit-learn.org/stable/modules/linear_model.html#logistic-regression\n",
            "  n_iter_i = _check_optimize_result(\n",
            "/usr/local/lib/python3.10/dist-packages/sklearn/linear_model/_logistic.py:458: ConvergenceWarning: lbfgs failed to converge (status=1):\n",
            "STOP: TOTAL NO. of ITERATIONS REACHED LIMIT.\n",
            "\n",
            "Increase the number of iterations (max_iter) or scale the data as shown in:\n",
            "    https://scikit-learn.org/stable/modules/preprocessing.html\n",
            "Please also refer to the documentation for alternative solver options:\n",
            "    https://scikit-learn.org/stable/modules/linear_model.html#logistic-regression\n",
            "  n_iter_i = _check_optimize_result(\n",
            "/usr/local/lib/python3.10/dist-packages/sklearn/linear_model/_logistic.py:458: ConvergenceWarning: lbfgs failed to converge (status=1):\n",
            "STOP: TOTAL NO. of ITERATIONS REACHED LIMIT.\n",
            "\n",
            "Increase the number of iterations (max_iter) or scale the data as shown in:\n",
            "    https://scikit-learn.org/stable/modules/preprocessing.html\n",
            "Please also refer to the documentation for alternative solver options:\n",
            "    https://scikit-learn.org/stable/modules/linear_model.html#logistic-regression\n",
            "  n_iter_i = _check_optimize_result(\n"
          ]
        },
        {
          "output_type": "stream",
          "name": "stdout",
          "text": [
            "Accuracy (Logistic Regression): 0.9324\n",
            "Precision (Logistic Regression): 0.9313\n",
            "Recall (Logistic Regression): 0.9324\n",
            "F1 Score (Logistic Regression): 0.9318\n"
          ]
        },
        {
          "output_type": "display_data",
          "data": {
            "text/plain": [
              "<Figure size 800x600 with 1 Axes>"
            ],
            "image/png": "[encoded data removed]"
          },
          "metadata": {}
        },
        {
          "output_type": "stream",
          "name": "stdout",
          "text": [
            "Cross-validation scores: [0.96638655 0.94397759 0.95098039 0.95518207 0.95518207]\n",
            "Mean cross-validation score: 0.9543417366946778\n"
          ]
        }
      ],
      "source": [
        "from sklearn.linear_model import LogisticRegression\n",
        "from sklearn.model_selection import cross_val_score, cross_val_predict\n",
        "from sklearn.metrics import accuracy_score, precision_score, recall_score, f1_score, confusion_matrix\n",
        "import matplotlib.pyplot as plt\n",
        "import seaborn as sns\n",
        "\n",
        "# Create the Logistic Regression model\n",
        "logistic_reg = LogisticRegression(max_iter=1000)\n",
        "\n",
        "# Perform cross-validation with 5 folds\n",
        "cv_scores = cross_val_score(logistic_reg, X_train_enc, y_train, cv=5, scoring='accuracy')\n",
        "\n",
        "# Fit the model on the entire training data\n",
        "logistic_reg.fit(X_train_enc, y_train)\n",
        "\n",
        "# Make predictions on the test set\n",
        "logistic_predictions = logistic_reg.predict(X_test_enc)\n",
        "\n",
        "# Evaluate the model\n",
        "accuracy_logistic = accuracy_score(y_test, logistic_predictions)\n",
        "precision_logistic = precision_score(y_test, logistic_predictions, average='weighted')\n",
        "recall_logistic = recall_score(y_test, logistic_predictions, average='weighted')\n",
        "f1_logistic = f1_score(y_test, logistic_predictions, average='weighted')\n",
        "\n",
        "# Display evaluation metrics\n",
        "print(f\"Accuracy (Logistic Regression): {accuracy_logistic:.4f}\")\n",
        "print(f\"Precision (Logistic Regression): {precision_logistic:.4f}\")\n",
        "print(f\"Recall (Logistic Regression): {recall_logistic:.4f}\")\n",
        "print(f\"F1 Score (Logistic Regression): {f1_logistic:.4f}\")\n",
        "\n",
        "# Plot confusion matrix for Logistic Regression\n",
        "cm_logistic = confusion_matrix(y_test, logistic_predictions)\n",
        "plt.figure(figsize=(8, 6))\n",
        "sns.heatmap(cm_logistic, annot=True, fmt=\"d\", cmap=\"Blues\", cbar=False)\n",
        "plt.xlabel('Predicted Labels')\n",
        "plt.ylabel('True Labels')\n",
        "plt.title('Confusion Matrix (Logistic Regression)')\n",
        "plt.show()\n",
        "\n",
        "# Display cross-validation scores\n",
        "print(\"Cross-validation scores:\", cv_scores)\n",
        "print(f\"Mean cross-validation score: {cv_scores.mean()}\")\n"
      ]
    },
    {
      "cell_type": "code",
      "execution_count": null,
      "metadata": {
        "colab": {
          "base_uri": "https://localhost:8080/",
          "height": 876
        },
        "id": "BZ9NgsjphRd7",
        "outputId": "7f6b12cf-9495-4587-c69d-27e985fa91df"
      },
      "outputs": [
        {
          "output_type": "stream",
          "name": "stderr",
          "text": [
            "/usr/local/lib/python3.10/dist-packages/sklearn/svm/_base.py:1244: ConvergenceWarning: Liblinear failed to converge, increase the number of iterations.\n",
            "  warnings.warn(\n",
            "/usr/local/lib/python3.10/dist-packages/sklearn/svm/_base.py:1244: ConvergenceWarning: Liblinear failed to converge, increase the number of iterations.\n",
            "  warnings.warn(\n",
            "/usr/local/lib/python3.10/dist-packages/sklearn/svm/_base.py:1244: ConvergenceWarning: Liblinear failed to converge, increase the number of iterations.\n",
            "  warnings.warn(\n",
            "/usr/local/lib/python3.10/dist-packages/sklearn/svm/_base.py:1244: ConvergenceWarning: Liblinear failed to converge, increase the number of iterations.\n",
            "  warnings.warn(\n",
            "/usr/local/lib/python3.10/dist-packages/sklearn/svm/_base.py:1244: ConvergenceWarning: Liblinear failed to converge, increase the number of iterations.\n",
            "  warnings.warn(\n",
            "/usr/local/lib/python3.10/dist-packages/sklearn/svm/_base.py:1244: ConvergenceWarning: Liblinear failed to converge, increase the number of iterations.\n",
            "  warnings.warn(\n"
          ]
        },
        {
          "output_type": "stream",
          "name": "stdout",
          "text": [
            "Accuracy (LinearSVC): 0.9126\n",
            "Precision (LinearSVC): 0.9095\n",
            "Recall (LinearSVC): 0.9126\n",
            "F1 Score (LinearSVC): 0.9108\n"
          ]
        },
        {
          "output_type": "display_data",
          "data": {
            "text/plain": [
              "<Figure size 800x600 with 1 Axes>"
            ],
            "image/png": "[encoded data removed]"
          },
          "metadata": {}
        },
        {
          "output_type": "stream",
          "name": "stdout",
          "text": [
            "Cross-validation scores: [0.94397759 0.92016807 0.93697479 0.93137255 0.92997199]\n",
            "Mean cross-validation score: 0.9324929971988796\n"
          ]
        }
      ],
      "source": [
        "from sklearn.svm import LinearSVC\n",
        "from sklearn.model_selection import cross_val_score\n",
        "from sklearn.metrics import accuracy_score, precision_score, recall_score, f1_score, confusion_matrix\n",
        "import matplotlib.pyplot as plt\n",
        "import seaborn as sns\n",
        "\n",
        "# Create the LinearSVC model\n",
        "linear_svc = LinearSVC(max_iter=10000)\n",
        "\n",
        "# Perform cross-validation with 5 folds\n",
        "cv_scores = cross_val_score(linear_svc, X_train_enc, y_train, cv=5, scoring='accuracy')\n",
        "\n",
        "# Fit the model on the entire training data\n",
        "linear_svc.fit(X_train_enc, y_train)\n",
        "\n",
        "# Make predictions on the test set\n",
        "linear_svc_predictions = linear_svc.predict(X_test_enc)\n",
        "\n",
        "# Evaluate the model\n",
        "accuracy_linear_svc = accuracy_score(y_test, linear_svc_predictions)\n",
        "precision_linear_svc = precision_score(y_test, linear_svc_predictions, average='weighted')\n",
        "recall_linear_svc = recall_score(y_test, linear_svc_predictions, average='weighted')\n",
        "f1_linear_svc = f1_score(y_test, linear_svc_predictions, average='weighted')\n",
        "\n",
        "# Display evaluation metrics\n",
        "print(f\"Accuracy (LinearSVC): {accuracy_linear_svc:.4f}\")\n",
        "print(f\"Precision (LinearSVC): {precision_linear_svc:.4f}\")\n",
        "print(f\"Recall (LinearSVC): {recall_linear_svc:.4f}\")\n",
        "print(f\"F1 Score (LinearSVC): {f1_linear_svc:.4f}\")\n",
        "\n",
        "# Plot confusion matrix for LinearSVC\n",
        "cm_linear_svc = confusion_matrix(y_test, linear_svc_predictions)\n",
        "plt.figure(figsize=(8, 6))\n",
        "sns.heatmap(cm_linear_svc, annot=True, fmt=\"d\", cmap=\"Blues\", cbar=False)\n",
        "plt.xlabel('Predicted Labels')\n",
        "plt.ylabel('True Labels')\n",
        "plt.title('Confusion Matrix (LinearSVC)')\n",
        "plt.show()\n",
        "\n",
        "# Display cross-validation scores\n",
        "print(\"Cross-validation scores:\", cv_scores)\n",
        "print(f\"Mean cross-validation score: {cv_scores.mean()}\")\n"
      ]
    },
    {
      "cell_type": "code",
      "execution_count": null,
      "metadata": {
        "colab": {
          "base_uri": "https://localhost:8080/",
          "height": 668
        },
        "id": "kLCjVPguc3yG",
        "outputId": "3f546d07-3106-46c7-e822-c5b1197fcc98"
      },
      "outputs": [
        {
          "output_type": "stream",
          "name": "stdout",
          "text": [
            "Accuracy (SVC): 0.8971\n",
            "Precision (SVC): 0.8960\n",
            "Recall (SVC): 0.8971\n",
            "F1 Score (SVC): 0.8745\n"
          ]
        },
        {
          "output_type": "display_data",
          "data": {
            "text/plain": [
              "<Figure size 800x600 with 1 Axes>"
            ],
            "image/png": "[encoded data removed]"
          },
          "metadata": {}
        },
        {
          "output_type": "stream",
          "name": "stdout",
          "text": [
            "Cross-validation scores: [0.91 0.92 0.89 0.9  0.9 ]\n",
            "Mean cross-validation score: 0.9040000000000001\n"
          ]
        }
      ],
      "source": [
        "from sklearn.svm import SVC\n",
        "from sklearn.model_selection import cross_val_score\n",
        "from sklearn.metrics import accuracy_score, precision_score, recall_score, f1_score, confusion_matrix\n",
        "import matplotlib.pyplot as plt\n",
        "import seaborn as sns\n",
        "from sklearn.utils import shuffle\n",
        "\n",
        "# Shuffle and reduce dataset size for faster cross-validation\n",
        "X_train_enc, y_train = shuffle(X_train_enc, y_train)\n",
        "X_train_small = X_train_enc[:1000]  # Considering only a subset of data for cross-validation\n",
        "y_train_small = y_train[:1000]  # Corresponding labels\n",
        "\n",
        "# Create the SVC model\n",
        "svc = SVC()\n",
        "\n",
        "# Perform cross-validation with 5 folds\n",
        "cv_scores = cross_val_score(svc, X_train_small, y_train_small, cv=5, scoring='accuracy')\n",
        "\n",
        "# Fit the model on the entire reduced training data\n",
        "svc.fit(X_train_small, y_train_small)\n",
        "\n",
        "# Make predictions on the test set\n",
        "svc_predictions = svc.predict(X_test_enc)\n",
        "\n",
        "# Evaluate the model\n",
        "accuracy_svc = accuracy_score(y_test, svc_predictions)\n",
        "precision_svc = precision_score(y_test, svc_predictions, average='weighted')\n",
        "recall_svc = recall_score(y_test, svc_predictions, average='weighted')\n",
        "f1_svc = f1_score(y_test, svc_predictions, average='weighted')\n",
        "\n",
        "# Display evaluation metrics\n",
        "print(f\"Accuracy (SVC): {accuracy_svc:.4f}\")\n",
        "print(f\"Precision (SVC): {precision_svc:.4f}\")\n",
        "print(f\"Recall (SVC): {recall_svc:.4f}\")\n",
        "print(f\"F1 Score (SVC): {f1_svc:.4f}\")\n",
        "\n",
        "# Plot confusion matrix for SVC\n",
        "cm_svc = confusion_matrix(y_test, svc_predictions)\n",
        "plt.figure(figsize=(8, 6))\n",
        "sns.heatmap(cm_svc, annot=True, fmt=\"d\", cmap=\"Blues\", cbar=False)\n",
        "plt.xlabel('Predicted Labels')\n",
        "plt.ylabel('True Labels')\n",
        "plt.title('Confusion Matrix (SVC)')\n",
        "plt.show()\n",
        "\n",
        "# Display cross-validation scores\n",
        "print(\"Cross-validation scores:\", cv_scores)\n",
        "print(f\"Mean cross-validation score: {cv_scores.mean()}\")\n"
      ]
    },
    {
      "cell_type": "code",
      "execution_count": null,
      "metadata": {
        "colab": {
          "base_uri": "https://localhost:8080/",
          "height": 668
        },
        "id": "TDsb0n9JjkPM",
        "outputId": "d5410456-e8ef-43a7-9f2a-146f5a916f5a"
      },
      "outputs": [
        {
          "output_type": "stream",
          "name": "stdout",
          "text": [
            "Accuracy (GaussianNB): 0.8471\n",
            "Precision (GaussianNB): 0.8914\n",
            "Recall (GaussianNB): 0.8471\n",
            "F1 Score (GaussianNB): 0.8616\n"
          ]
        },
        {
          "output_type": "display_data",
          "data": {
            "text/plain": [
              "<Figure size 800x600 with 1 Axes>"
            ],
            "image/png": "[encoded data removed]"
          },
          "metadata": {}
        },
        {
          "output_type": "stream",
          "name": "stdout",
          "text": [
            "Cross-validation scores: [0.85014006 0.91736695 0.8487395  0.88795518 0.8627451 ]\n",
            "Mean cross-validation score: 0.873389355742297\n"
          ]
        }
      ],
      "source": [
        "from sklearn.naive_bayes import GaussianNB\n",
        "from sklearn.model_selection import cross_val_score\n",
        "from sklearn.metrics import accuracy_score, precision_score, recall_score, f1_score, confusion_matrix\n",
        "import matplotlib.pyplot as plt\n",
        "import seaborn as sns\n",
        "\n",
        "# Create the Gaussian Naive Bayes model\n",
        "gnb = GaussianNB()\n",
        "\n",
        "# Perform cross-validation with 5 folds\n",
        "cv_scores = cross_val_score(gnb, X_train_enc, y_train, cv=5, scoring='accuracy')\n",
        "\n",
        "# Fit the model on the entire training data\n",
        "gnb.fit(X_train_enc, y_train)\n",
        "\n",
        "# Make predictions on the test set\n",
        "gnb_predictions = gnb.predict(X_test_enc)\n",
        "\n",
        "# Evaluate the model\n",
        "accuracy_gnb = accuracy_score(y_test, gnb_predictions)\n",
        "precision_gnb = precision_score(y_test, gnb_predictions, average='weighted')\n",
        "recall_gnb = recall_score(y_test, gnb_predictions, average='weighted')\n",
        "f1_gnb = f1_score(y_test, gnb_predictions, average='weighted')\n",
        "\n",
        "# Display evaluation metrics\n",
        "print(f\"Accuracy (GaussianNB): {accuracy_gnb:.4f}\")\n",
        "print(f\"Precision (GaussianNB): {precision_gnb:.4f}\")\n",
        "print(f\"Recall (GaussianNB): {recall_gnb:.4f}\")\n",
        "print(f\"F1 Score (GaussianNB): {f1_gnb:.4f}\")\n",
        "\n",
        "# Plot confusion matrix for GaussianNB\n",
        "cm_gnb = confusion_matrix(y_test, gnb_predictions)\n",
        "plt.figure(figsize=(8, 6))\n",
        "sns.heatmap(cm_gnb, annot=True, fmt=\"d\", cmap=\"Blues\", cbar=False)\n",
        "plt.xlabel('Predicted Labels')\n",
        "plt.ylabel('True Labels')\n",
        "plt.title('Confusion Matrix (GaussianNB)')\n",
        "plt.show()\n",
        "\n",
        "# Display cross-validation scores\n",
        "print(\"Cross-validation scores:\", cv_scores)\n",
        "print(f\"Mean cross-validation score: {cv_scores.mean()}\")\n"
      ]
    },
    {
      "cell_type": "code",
      "execution_count": null,
      "metadata": {
        "colab": {
          "base_uri": "https://localhost:8080/",
          "height": 668
        },
        "id": "kgCUHn4Ij_wE",
        "outputId": "885b9607-1194-4964-e973-d61fb32d2709"
      },
      "outputs": [
        {
          "output_type": "stream",
          "name": "stdout",
          "text": [
            "Accuracy (BernoulliNB): 0.7320\n",
            "Precision (BernoulliNB): 0.8730\n",
            "Recall (BernoulliNB): 0.7320\n",
            "F1 Score (BernoulliNB): 0.7714\n"
          ]
        },
        {
          "output_type": "display_data",
          "data": {
            "text/plain": [
              "<Figure size 800x600 with 1 Axes>"
            ],
            "image/png": "[encoded data removed]"
          },
          "metadata": {}
        },
        {
          "output_type": "stream",
          "name": "stdout",
          "text": [
            "Cross-validation scores: [0.73669468 0.73389356 0.72969188 0.76330532 0.74089636]\n",
            "Mean cross-validation score: 0.7408963585434174\n"
          ]
        }
      ],
      "source": [
        "from sklearn.naive_bayes import BernoulliNB\n",
        "from sklearn.model_selection import cross_val_score\n",
        "from sklearn.metrics import accuracy_score, precision_score, recall_score, f1_score, confusion_matrix\n",
        "import matplotlib.pyplot as plt\n",
        "import seaborn as sns\n",
        "\n",
        "# Create the Bernoulli Naive Bayes model\n",
        "bnb = BernoulliNB()\n",
        "\n",
        "# Perform cross-validation with 5 folds\n",
        "cv_scores = cross_val_score(bnb, X_train_enc, y_train, cv=5, scoring='accuracy')\n",
        "\n",
        "# Fit the model on the entire training data\n",
        "bnb.fit(X_train_enc, y_train)\n",
        "\n",
        "# Make predictions on the test set\n",
        "bnb_predictions = bnb.predict(X_test_enc)\n",
        "\n",
        "# Evaluate the model\n",
        "accuracy_bnb = accuracy_score(y_test, bnb_predictions)\n",
        "precision_bnb = precision_score(y_test, bnb_predictions, average='weighted')\n",
        "recall_bnb = recall_score(y_test, bnb_predictions, average='weighted')\n",
        "f1_bnb = f1_score(y_test, bnb_predictions, average='weighted')\n",
        "\n",
        "# Display evaluation metrics\n",
        "print(f\"Accuracy (BernoulliNB): {accuracy_bnb:.4f}\")\n",
        "print(f\"Precision (BernoulliNB): {precision_bnb:.4f}\")\n",
        "print(f\"Recall (BernoulliNB): {recall_bnb:.4f}\")\n",
        "print(f\"F1 Score (BernoulliNB): {f1_bnb:.4f}\")\n",
        "\n",
        "# Plot confusion matrix for BernoulliNB\n",
        "cm_bnb = confusion_matrix(y_test, bnb_predictions)\n",
        "plt.figure(figsize=(8, 6))\n",
        "sns.heatmap(cm_bnb, annot=True, fmt=\"d\", cmap=\"Blues\", cbar=False)\n",
        "plt.xlabel('Predicted Labels')\n",
        "plt.ylabel('True Labels')\n",
        "plt.title('Confusion Matrix (BernoulliNB)')\n",
        "plt.show()\n",
        "\n",
        "# Display cross-validation scores\n",
        "print(\"Cross-validation scores:\", cv_scores)\n",
        "print(f\"Mean cross-validation score: {cv_scores.mean()}\")\n"
      ]
    },
    {
      "cell_type": "code",
      "execution_count": null,
      "metadata": {
        "colab": {
          "base_uri": "https://localhost:8080/",
          "height": 668
        },
        "id": "F8X0sIKGkXKT",
        "outputId": "ca6f2f16-ca8f-4d6f-f1db-aa4352cae289"
      },
      "outputs": [
        {
          "output_type": "stream",
          "name": "stdout",
          "text": [
            "Accuracy (SGD Classifier): 0.9009\n",
            "Precision (SGD Classifier): 0.9118\n",
            "Recall (SGD Classifier): 0.9009\n",
            "F1 Score (SGD Classifier): 0.9050\n"
          ]
        },
        {
          "output_type": "display_data",
          "data": {
            "text/plain": [
              "<Figure size 800x600 with 1 Axes>"
            ],
            "image/png": "[encoded data removed]"
          },
          "metadata": {}
        },
        {
          "output_type": "stream",
          "name": "stdout",
          "text": [
            "Cross-validation scores: [0.92016807 0.94537815 0.91176471 0.92577031 0.93837535]\n",
            "Mean cross-validation score: 0.9282913165266107\n"
          ]
        }
      ],
      "source": [
        "from sklearn.linear_model import SGDClassifier\n",
        "from sklearn.model_selection import cross_val_score\n",
        "from sklearn.metrics import accuracy_score, precision_score, recall_score, f1_score, confusion_matrix\n",
        "import matplotlib.pyplot as plt\n",
        "import seaborn as sns\n",
        "\n",
        "# Create the SGD Classifier model\n",
        "sgd = SGDClassifier()\n",
        "\n",
        "# Perform cross-validation with 5 folds\n",
        "cv_scores = cross_val_score(sgd, X_train_enc, y_train, cv=5, scoring='accuracy')\n",
        "\n",
        "# Fit the model on the entire training data\n",
        "sgd.fit(X_train_enc, y_train)\n",
        "\n",
        "# Make predictions on the test set\n",
        "sgd_predictions = sgd.predict(X_test_enc)\n",
        "\n",
        "# Evaluate the model\n",
        "accuracy_sgd = accuracy_score(y_test, sgd_predictions)\n",
        "precision_sgd = precision_score(y_test, sgd_predictions, average='weighted')\n",
        "recall_sgd = recall_score(y_test, sgd_predictions, average='weighted')\n",
        "f1_sgd = f1_score(y_test, sgd_predictions, average='weighted')\n",
        "\n",
        "# Display evaluation metrics\n",
        "print(f\"Accuracy (SGD Classifier): {accuracy_sgd:.4f}\")\n",
        "print(f\"Precision (SGD Classifier): {precision_sgd:.4f}\")\n",
        "print(f\"Recall (SGD Classifier): {recall_sgd:.4f}\")\n",
        "print(f\"F1 Score (SGD Classifier): {f1_sgd:.4f}\")\n",
        "\n",
        "# Plot confusion matrix for SGD Classifier\n",
        "cm_sgd = confusion_matrix(y_test, sgd_predictions)\n",
        "plt.figure(figsize=(8, 6))\n",
        "sns.heatmap(cm_sgd, annot=True, fmt=\"d\", cmap=\"Blues\", cbar=False)\n",
        "plt.xlabel('Predicted Labels')\n",
        "plt.ylabel('True Labels')\n",
        "plt.title('Confusion Matrix (SGD Classifier)')\n",
        "plt.show()\n",
        "\n",
        "# Display cross-validation scores\n",
        "print(\"Cross-validation scores:\", cv_scores)\n",
        "print(f\"Mean cross-validation score: {cv_scores.mean()}\")\n"
      ]
    },
    {
      "cell_type": "code",
      "execution_count": null,
      "metadata": {
        "colab": {
          "base_uri": "https://localhost:8080/",
          "height": 668
        },
        "id": "0hj0DS3Aken7",
        "outputId": "badf74af-180c-4822-e807-bc6beb5bf0bf"
      },
      "outputs": [
        {
          "output_type": "stream",
          "name": "stdout",
          "text": [
            "Accuracy (RandomForestClassifier): 0.9605\n",
            "Precision (RandomForestClassifier): 0.9597\n",
            "Recall (RandomForestClassifier): 0.9605\n",
            "F1 Score (RandomForestClassifier): 0.9590\n"
          ]
        },
        {
          "output_type": "display_data",
          "data": {
            "text/plain": [
              "<Figure size 800x600 with 1 Axes>"
            ],
            "image/png": "[encoded data removed]"
          },
          "metadata": {}
        },
        {
          "output_type": "stream",
          "name": "stdout",
          "text": [
            "Cross-validation scores: [0.97478992 0.96778711 0.97338936 0.96638655 0.97759104]\n",
            "Mean cross-validation score: 0.9719887955182072\n"
          ]
        }
      ],
      "source": [
        "from sklearn.ensemble import RandomForestClassifier\n",
        "from sklearn.model_selection import cross_val_score\n",
        "from sklearn.metrics import accuracy_score, precision_score, recall_score, f1_score, confusion_matrix\n",
        "import matplotlib.pyplot as plt\n",
        "import seaborn as sns\n",
        "\n",
        "# Create the RandomForestClassifier model\n",
        "random_forest = RandomForestClassifier()\n",
        "\n",
        "# Perform cross-validation with 5 folds\n",
        "cv_scores = cross_val_score(random_forest, X_train_enc, y_train, cv=5, scoring='accuracy')\n",
        "\n",
        "# Fit the model on the entire training data\n",
        "random_forest.fit(X_train_enc, y_train)\n",
        "\n",
        "# Make predictions on the test set\n",
        "rf_predictions = random_forest.predict(X_test_enc)\n",
        "\n",
        "# Evaluate the model\n",
        "accuracy_rf = accuracy_score(y_test, rf_predictions)\n",
        "precision_rf = precision_score(y_test, rf_predictions, average='weighted')\n",
        "recall_rf = recall_score(y_test, rf_predictions, average='weighted')\n",
        "f1_rf = f1_score(y_test, rf_predictions, average='weighted')\n",
        "\n",
        "# Display evaluation metrics\n",
        "print(f\"Accuracy (RandomForestClassifier): {accuracy_rf:.4f}\")\n",
        "print(f\"Precision (RandomForestClassifier): {precision_rf:.4f}\")\n",
        "print(f\"Recall (RandomForestClassifier): {recall_rf:.4f}\")\n",
        "print(f\"F1 Score (RandomForestClassifier): {f1_rf:.4f}\")\n",
        "\n",
        "# Plot confusion matrix for RandomForestClassifier\n",
        "cm_rf = confusion_matrix(y_test, rf_predictions)\n",
        "plt.figure(figsize=(8, 6))\n",
        "sns.heatmap(cm_rf, annot=True, fmt=\"d\", cmap=\"Blues\", cbar=False)\n",
        "plt.xlabel('Predicted Labels')\n",
        "plt.ylabel('True Labels')\n",
        "plt.title('Confusion Matrix (RandomForestClassifier)')\n",
        "plt.show()\n",
        "\n",
        "# Display cross-validation scores\n",
        "print(\"Cross-validation scores:\", cv_scores)\n",
        "print(f\"Mean cross-validation score: {cv_scores.mean()}\")\n"
      ]
    },
    {
      "cell_type": "code",
      "execution_count": null,
      "metadata": {
        "colab": {
          "base_uri": "https://localhost:8080/",
          "height": 668
        },
        "id": "-BVoDQQNkoNu",
        "outputId": "8cb40c7f-1901-4941-83b9-6b678cea684c"
      },
      "outputs": [
        {
          "output_type": "stream",
          "name": "stdout",
          "text": [
            "Accuracy (ExtraTreesClassifier): 0.9614\n",
            "Precision (ExtraTreesClassifier): 0.9604\n",
            "Recall (ExtraTreesClassifier): 0.9614\n",
            "F1 Score (ExtraTreesClassifier): 0.9604\n"
          ]
        },
        {
          "output_type": "display_data",
          "data": {
            "text/plain": [
              "<Figure size 800x600 with 1 Axes>"
            ],
            "image/png": "[encoded data removed]"
          },
          "metadata": {}
        },
        {
          "output_type": "stream",
          "name": "stdout",
          "text": [
            "Cross-validation scores: [0.97619048 0.96778711 0.97759104 0.97478992 0.98179272]\n",
            "Mean cross-validation score: 0.9756302521008402\n"
          ]
        }
      ],
      "source": [
        "from sklearn.ensemble import ExtraTreesClassifier\n",
        "from sklearn.model_selection import cross_val_score\n",
        "from sklearn.metrics import accuracy_score, precision_score, recall_score, f1_score, confusion_matrix\n",
        "import matplotlib.pyplot as plt\n",
        "import seaborn as sns\n",
        "\n",
        "# Create the ExtraTreesClassifier model\n",
        "extra_trees = ExtraTreesClassifier()\n",
        "\n",
        "# Perform cross-validation with 5 folds\n",
        "cv_scores = cross_val_score(extra_trees, X_train_enc, y_train, cv=5, scoring='accuracy')\n",
        "\n",
        "# Fit the model on the entire training data\n",
        "extra_trees.fit(X_train_enc, y_train)\n",
        "\n",
        "# Make predictions on the test set\n",
        "et_predictions = extra_trees.predict(X_test_enc)\n",
        "\n",
        "# Evaluate the model\n",
        "accuracy_et = accuracy_score(y_test, et_predictions)\n",
        "precision_et = precision_score(y_test, et_predictions, average='weighted')\n",
        "recall_et = recall_score(y_test, et_predictions, average='weighted')\n",
        "f1_et = f1_score(y_test, et_predictions, average='weighted')\n",
        "\n",
        "# Display evaluation metrics\n",
        "print(f\"Accuracy (ExtraTreesClassifier): {accuracy_et:.4f}\")\n",
        "print(f\"Precision (ExtraTreesClassifier): {precision_et:.4f}\")\n",
        "print(f\"Recall (ExtraTreesClassifier): {recall_et:.4f}\")\n",
        "print(f\"F1 Score (ExtraTreesClassifier): {f1_et:.4f}\")\n",
        "\n",
        "# Plot confusion matrix for ExtraTreesClassifier\n",
        "cm_et = confusion_matrix(y_test, et_predictions)\n",
        "plt.figure(figsize=(8, 6))\n",
        "sns.heatmap(cm_et, annot=True, fmt=\"d\", cmap=\"Blues\", cbar=False)\n",
        "plt.xlabel('Predicted Labels')\n",
        "plt.ylabel('True Labels')\n",
        "plt.title('Confusion Matrix (ExtraTreesClassifier)')\n",
        "plt.show()\n",
        "\n",
        "# Display cross-validation scores\n",
        "print(\"Cross-validation scores:\", cv_scores)\n",
        "print(f\"Mean cross-validation score: {cv_scores.mean()}\")\n"
      ]
    },
    {
      "cell_type": "code",
      "execution_count": null,
      "metadata": {
        "colab": {
          "base_uri": "https://localhost:8080/",
          "height": 668
        },
        "id": "13eDN3zUkqLc",
        "outputId": "dc64f861-49b6-4bd0-f046-96dfcbdcb83e"
      },
      "outputs": [
        {
          "output_type": "stream",
          "name": "stdout",
          "text": [
            "Accuracy (DecisionTreeClassifier): 0.9374\n",
            "Precision (DecisionTreeClassifier): 0.9363\n",
            "Recall (DecisionTreeClassifier): 0.9374\n",
            "F1 Score (DecisionTreeClassifier): 0.9368\n"
          ]
        },
        {
          "output_type": "display_data",
          "data": {
            "text/plain": [
              "<Figure size 800x600 with 1 Axes>"
            ],
            "image/png": "[encoded data removed]"
          },
          "metadata": {}
        },
        {
          "output_type": "stream",
          "name": "stdout",
          "text": [
            "Cross-validation scores: [0.96078431 0.95378151 0.95238095 0.94257703 0.94397759]\n",
            "Mean cross-validation score: 0.9507002801120448\n"
          ]
        }
      ],
      "source": [
        "from sklearn.tree import DecisionTreeClassifier\n",
        "from sklearn.model_selection import cross_val_score\n",
        "from sklearn.metrics import accuracy_score, precision_score, recall_score, f1_score, confusion_matrix\n",
        "import matplotlib.pyplot as plt\n",
        "import seaborn as sns\n",
        "\n",
        "# Create the DecisionTreeClassifier model\n",
        "decision_tree = DecisionTreeClassifier()\n",
        "\n",
        "# Perform cross-validation with 5 folds\n",
        "cv_scores = cross_val_score(decision_tree, X_train_enc, y_train, cv=5, scoring='accuracy')\n",
        "\n",
        "# Fit the model on the entire training data\n",
        "decision_tree.fit(X_train_enc, y_train)\n",
        "\n",
        "# Make predictions on the test set\n",
        "dt_predictions = decision_tree.predict(X_test_enc)\n",
        "\n",
        "# Evaluate the model\n",
        "accuracy_dt = accuracy_score(y_test, dt_predictions)\n",
        "precision_dt = precision_score(y_test, dt_predictions, average='weighted')\n",
        "recall_dt = recall_score(y_test, dt_predictions, average='weighted')\n",
        "f1_dt = f1_score(y_test, dt_predictions, average='weighted')\n",
        "\n",
        "# Display evaluation metrics\n",
        "print(f\"Accuracy (DecisionTreeClassifier): {accuracy_dt:.4f}\")\n",
        "print(f\"Precision (DecisionTreeClassifier): {precision_dt:.4f}\")\n",
        "print(f\"Recall (DecisionTreeClassifier): {recall_dt:.4f}\")\n",
        "print(f\"F1 Score (DecisionTreeClassifier): {f1_dt:.4f}\")\n",
        "\n",
        "# Plot confusion matrix for DecisionTreeClassifier\n",
        "cm_dt = confusion_matrix(y_test, dt_predictions)\n",
        "plt.figure(figsize=(8, 6))\n",
        "sns.heatmap(cm_dt, annot=True, fmt=\"d\", cmap=\"Blues\", cbar=False)\n",
        "plt.xlabel('Predicted Labels')\n",
        "plt.ylabel('True Labels')\n",
        "plt.title('Confusion Matrix (DecisionTreeClassifier)')\n",
        "plt.show()\n",
        "\n",
        "# Display cross-validation scores\n",
        "print(\"Cross-validation scores:\", cv_scores)\n",
        "print(f\"Mean cross-validation score: {cv_scores.mean()}\")\n"
      ]
    },
    {
      "cell_type": "code",
      "execution_count": null,
      "metadata": {
        "colab": {
          "base_uri": "https://localhost:8080/",
          "height": 668
        },
        "id": "IulddNiJlD78",
        "outputId": "d116138f-cca4-4824-c15e-479d729c7bbf"
      },
      "outputs": [
        {
          "output_type": "stream",
          "name": "stdout",
          "text": [
            "Accuracy (NearestCentroid): 0.8614\n",
            "Precision (NearestCentroid): 0.8576\n",
            "Recall (NearestCentroid): 0.8614\n",
            "F1 Score (NearestCentroid): 0.8594\n"
          ]
        },
        {
          "output_type": "display_data",
          "data": {
            "text/plain": [
              "<Figure size 800x600 with 1 Axes>"
            ],
            "image/png": "[encoded data removed]"
          },
          "metadata": {}
        },
        {
          "output_type": "stream",
          "name": "stdout",
          "text": [
            "Cross-validation scores: [0.86834734 0.85994398 0.84733894 0.88655462 0.86554622]\n",
            "Mean cross-validation score: 0.8655462184873951\n"
          ]
        }
      ],
      "source": [
        "from sklearn.neighbors import NearestCentroid\n",
        "from sklearn.model_selection import cross_val_score\n",
        "from sklearn.metrics import accuracy_score, precision_score, recall_score, f1_score, confusion_matrix\n",
        "import matplotlib.pyplot as plt\n",
        "import seaborn as sns\n",
        "\n",
        "# Create the NearestCentroid model\n",
        "nearest_centroid = NearestCentroid()\n",
        "\n",
        "# Perform cross-validation with 5 folds\n",
        "cv_scores = cross_val_score(nearest_centroid, X_train_enc, y_train, cv=5, scoring='accuracy')\n",
        "\n",
        "# Fit the model on the entire training data\n",
        "nearest_centroid.fit(X_train_enc, y_train)\n",
        "\n",
        "# Make predictions on the test set\n",
        "nc_predictions = nearest_centroid.predict(X_test_enc)\n",
        "\n",
        "# Evaluate the model\n",
        "accuracy_nc = accuracy_score(y_test, nc_predictions)\n",
        "precision_nc = precision_score(y_test, nc_predictions, average='weighted')\n",
        "recall_nc = recall_score(y_test, nc_predictions, average='weighted')\n",
        "f1_nc = f1_score(y_test, nc_predictions, average='weighted')\n",
        "\n",
        "# Display evaluation metrics\n",
        "print(f\"Accuracy (NearestCentroid): {accuracy_nc:.4f}\")\n",
        "print(f\"Precision (NearestCentroid): {precision_nc:.4f}\")\n",
        "print(f\"Recall (NearestCentroid): {recall_nc:.4f}\")\n",
        "print(f\"F1 Score (NearestCentroid): {f1_nc:.4f}\")\n",
        "\n",
        "# Plot confusion matrix for NearestCentroid\n",
        "cm_nc = confusion_matrix(y_test, nc_predictions)\n",
        "plt.figure(figsize=(8, 6))\n",
        "sns.heatmap(cm_nc, annot=True, fmt=\"d\", cmap=\"Blues\", cbar=False)\n",
        "plt.xlabel('Predicted Labels')\n",
        "plt.ylabel('True Labels')\n",
        "plt.title('Confusion Matrix (NearestCentroid)')\n",
        "plt.show()\n",
        "\n",
        "# Display cross-validation scores\n",
        "print(\"Cross-validation scores:\", cv_scores)\n",
        "print(f\"Mean cross-validation score: {cv_scores.mean()}\")\n"
      ]
    },
    {
      "cell_type": "code",
      "execution_count": null,
      "metadata": {
        "colab": {
          "base_uri": "https://localhost:8080/",
          "height": 633
        },
        "id": "uPdHWqsylHGL",
        "outputId": "df02970f-ce6e-4293-bd0a-66e169e31d91"
      },
      "outputs": [
        {
          "output_type": "stream",
          "name": "stdout",
          "text": [
            "Accuracy (LinearDiscriminantAnalysis): 0.9055\n",
            "Precision (LinearDiscriminantAnalysis): 0.8971\n",
            "Recall (LinearDiscriminantAnalysis): 0.9055\n",
            "F1 Score (LinearDiscriminantAnalysis): 0.8964\n"
          ]
        },
        {
          "output_type": "display_data",
          "data": {
            "text/plain": [
              "<Figure size 800x600 with 1 Axes>"
            ],
            "image/png": "[encoded data removed]"
          },
          "metadata": {}
        }
      ],
      "source": [
        "from sklearn.discriminant_analysis import LinearDiscriminantAnalysis\n",
        "\n",
        "# Create the LinearDiscriminantAnalysis model\n",
        "lda = LinearDiscriminantAnalysis()\n",
        "\n",
        "# Fit the model on the training data\n",
        "lda.fit(X_train_enc, y_train)\n",
        "\n",
        "# Make predictions\n",
        "lda_predictions = lda.predict(X_test_enc)\n",
        "\n",
        "# Calculate accuracy\n",
        "accuracy_lda = accuracy_score(y_test, lda_predictions)\n",
        "\n",
        "# Calculate precision\n",
        "precision_lda = precision_score(y_test, lda_predictions, average='weighted')\n",
        "\n",
        "# Calculate recall\n",
        "recall_lda = recall_score(y_test, lda_predictions, average='weighted')\n",
        "\n",
        "# Calculate F1 score\n",
        "f1_lda = f1_score(y_test, lda_predictions, average='weighted')\n",
        "\n",
        "print(f\"Accuracy (LinearDiscriminantAnalysis): {accuracy_lda:.4f}\")\n",
        "print(f\"Precision (LinearDiscriminantAnalysis): {precision_lda:.4f}\")\n",
        "print(f\"Recall (LinearDiscriminantAnalysis): {recall_lda:.4f}\")\n",
        "print(f\"F1 Score (LinearDiscriminantAnalysis): {f1_lda:.4f}\")\n",
        "\n",
        "# Plot confusion matrix for LinearDiscriminantAnalysis\n",
        "cm_lda = confusion_matrix(y_test, lda_predictions)\n",
        "plt.figure(figsize=(8, 6))\n",
        "sns.heatmap(cm_lda, annot=True, fmt=\"d\", cmap=\"Blues\", cbar=False)\n",
        "plt.xlabel('Predicted Labels')\n",
        "plt.ylabel('True Labels')\n",
        "plt.title('Confusion Matrix (LinearDiscriminantAnalysis)')\n",
        "plt.show()\n"
      ]
    },
    {
      "cell_type": "code",
      "execution_count": null,
      "metadata": {
        "id": "kBQCqjy8ohLY"
      },
      "outputs": [],
      "source": []
    },
    {
      "cell_type": "code",
      "source": [
        "# Convert DataFrame to numpy array\n",
        "X = X.values\n",
        "\n",
        "# Reshape X for LSTM input\n",
        "X = X.astype(np.float32)  # Already a numerical array\n",
        "X = X.reshape(X.shape[0], X.shape[1], 1)\n"
      ],
      "metadata": {
        "id": "zuzV4cQGT8Bd"
      },
      "execution_count": null,
      "outputs": []
    },
    {
      "cell_type": "code",
      "execution_count": null,
      "metadata": {
        "id": "vXkqvUM3ohWe",
        "colab": {
          "base_uri": "https://localhost:8080/"
        },
        "outputId": "c7f622cd-41ff-4e7d-b352-80e2998ff828"
      },
      "outputs": [
        {
          "output_type": "stream",
          "name": "stdout",
          "text": [
            "38/38 [==============================] - 3s 58ms/step\n",
            "38/38 [==============================] - 4s 76ms/step\n",
            "38/38 [==============================] - 4s 79ms/step\n",
            "38/38 [==============================] - 4s 68ms/step\n",
            "38/38 [==============================] - 4s 68ms/step\n",
            "Mean Accuracy: 0.9060641082629525, Mean Precision: 0.8093725451969215, Mean Recall: 0.3361081305682244, Mean F1 Score: 0.4672226544845114\n"
          ]
        }
      ],
      "source": [
        "import pandas as pd\n",
        "import numpy as np\n",
        "from sklearn.model_selection import KFold\n",
        "from sklearn.metrics import accuracy_score, precision_score, recall_score, f1_score\n",
        "from keras.models import Sequential\n",
        "from keras.layers import LSTM, Dense, Bidirectional\n",
        "\n",
        "# Load your data\n",
        "# (Assuming the data loading and preprocessing code remains the same)\n",
        "\n",
        "# Reshape X for LSTM input\n",
        "X = X.astype(np.float32)  # Already a numerical array\n",
        "X = X.reshape(X.shape[0], X.shape[1], 1)\n",
        "\n",
        "# Initialize evaluation metrics lists\n",
        "accuracies = []\n",
        "precisions = []\n",
        "recalls = []\n",
        "f1_scores = []\n",
        "\n",
        "# Define the number of folds for cross-validation\n",
        "num_folds = 5\n",
        "kf = KFold(n_splits=num_folds, shuffle=True)\n",
        "\n",
        "for train_index, test_index in kf.split(X):\n",
        "    X_train_fold, X_test_fold = X[train_index], X[test_index]\n",
        "    y_train_fold, y_test_fold = y[train_index], y[test_index]\n",
        "\n",
        "    # Define your bidirectional LSTM model for each fold\n",
        "    model = Sequential()\n",
        "    model.add(Bidirectional(LSTM(units=64, return_sequences=True), input_shape=(X_train_fold.shape[1], X_train_fold.shape[2])))\n",
        "    model.add(Bidirectional(LSTM(units=32)))\n",
        "    model.add(Dense(units=1, activation='sigmoid'))\n",
        "\n",
        "    # Compile the model\n",
        "    model.compile(loss='binary_crossentropy', optimizer='adam', metrics=['accuracy'])\n",
        "\n",
        "    # Train the model on this fold\n",
        "    history = model.fit(X_train_fold, y_train_fold, epochs=5, batch_size=32, validation_split=0.1, verbose=0)\n",
        "\n",
        "    # Evaluate the model on the test set for this fold\n",
        "    predicted_probs = model.predict(X_test_fold)\n",
        "    predicted_labels = (predicted_probs > 0.5).astype(int)\n",
        "\n",
        "    # Calculate evaluation metrics for this fold\n",
        "    accuracy = accuracy_score(y_test_fold, predicted_labels)\n",
        "    precision = precision_score(y_test_fold, predicted_labels)\n",
        "    recall = recall_score(y_test_fold, predicted_labels)\n",
        "    f1 = f1_score(y_test_fold, predicted_labels)\n",
        "\n",
        "    accuracies.append(accuracy)\n",
        "    precisions.append(precision)\n",
        "    recalls.append(recall)\n",
        "    f1_scores.append(f1)\n",
        "\n",
        "# Calculate mean evaluation metrics over all folds\n",
        "mean_accuracy = np.mean(accuracies)\n",
        "mean_precision = np.mean(precisions)\n",
        "mean_recall = np.mean(recalls)\n",
        "mean_f1 = np.mean(f1_scores)\n",
        "\n",
        "print(f\"Mean Accuracy: {mean_accuracy}, Mean Precision: {mean_precision}, Mean Recall: {mean_recall}, Mean F1 Score: {mean_f1}\")\n"
      ]
    },
    {
      "cell_type": "code",
      "execution_count": null,
      "metadata": {
        "id": "a5LYuVnVlJUt",
        "colab": {
          "base_uri": "https://localhost:8080/"
        },
        "outputId": "d83c0c9c-9317-4f39-e048-9bf1d3311151"
      },
      "outputs": [
        {
          "output_type": "stream",
          "name": "stdout",
          "text": [
            "38/38 [==============================] - 2s 37ms/step\n",
            "38/38 [==============================] - 3s 60ms/step\n",
            "38/38 [==============================] - 2s 40ms/step\n",
            "38/38 [==============================] - 2s 39ms/step\n",
            "38/38 [==============================] - 3s 49ms/step\n",
            "Mean Accuracy: 0.8865707088880892, Mean Precision: 0.608621053743005, Mean Recall: 0.17366306062972278, Mean F1 Score: 0.24701165493148275\n"
          ]
        }
      ],
      "source": [
        "import pandas as pd\n",
        "import numpy as np\n",
        "from sklearn.model_selection import KFold\n",
        "from sklearn.metrics import accuracy_score, precision_score, recall_score, f1_score\n",
        "from keras.models import Sequential\n",
        "from keras.layers import LSTM, Dense\n",
        "\n",
        "# Load your data\n",
        "data = pd.read_csv('/content/drive/MyDrive/ADFA_LD_BINARY.csv')  # Update the file path\n",
        "\n",
        "# Assuming your features are in columns other than the last one\n",
        "X = data.iloc[:, :-1]  # Features\n",
        "y = data.iloc[:, -1]   # Target variable\n",
        "\n",
        "# Process the columns if needed (as shown earlier)\n",
        "\n",
        "# Convert features to a numpy array and reshape for LSTM input\n",
        "X = X.values.astype(np.float32)\n",
        "X = X.reshape(X.shape[0], X.shape[1], 1)\n",
        "\n",
        "# Define evaluation metrics lists\n",
        "accuracies = []\n",
        "precisions = []\n",
        "recalls = []\n",
        "f1_scores = []\n",
        "\n",
        "# Define the number of folds for cross-validation\n",
        "num_folds = 5\n",
        "skf = KFold(n_splits=num_folds, shuffle=True)\n",
        "\n",
        "for train_index, test_index in skf.split(X, y):\n",
        "    X_train, X_test = X[train_index], X[test_index]\n",
        "    y_train, y_test = y[train_index], y[test_index]\n",
        "\n",
        "    # Define your LSTM model\n",
        "    model = Sequential()\n",
        "    model.add(LSTM(units=64, return_sequences=True, input_shape=(X_train.shape[1], X_train.shape[2])))\n",
        "    model.add(LSTM(units=32))\n",
        "    model.add(Dense(units=1, activation='sigmoid'))\n",
        "\n",
        "    # Compile the model\n",
        "    model.compile(loss='binary_crossentropy', optimizer='adam', metrics=['accuracy'])\n",
        "\n",
        "    # Train the model\n",
        "    history = model.fit(X_train, y_train, epochs=5, batch_size=32, validation_split=0.1, verbose=0)\n",
        "\n",
        "    # Evaluate the model on the test set for this fold\n",
        "    predicted_probs = model.predict(X_test)\n",
        "    predicted_labels = (predicted_probs > 0.5).astype(int)\n",
        "\n",
        "    # Calculate evaluation metrics for this fold\n",
        "    accuracy = accuracy_score(y_test, predicted_labels)\n",
        "    precision = precision_score(y_test, predicted_labels)\n",
        "    recall = recall_score(y_test, predicted_labels)\n",
        "    f1 = f1_score(y_test, predicted_labels)\n",
        "\n",
        "    # Append metrics to the lists\n",
        "    accuracies.append(accuracy)\n",
        "    precisions.append(precision)\n",
        "    recalls.append(recall)\n",
        "    f1_scores.append(f1)\n",
        "\n",
        "# Calculate mean evaluation metrics over all folds\n",
        "mean_accuracy = np.mean(accuracies)\n",
        "mean_precision = np.mean(precisions)\n",
        "mean_recall = np.mean(recalls)\n",
        "mean_f1 = np.mean(f1_scores)\n",
        "\n",
        "print(f\"Mean Accuracy: {mean_accuracy}, Mean Precision: {mean_precision}, Mean Recall: {mean_recall}, Mean F1 Score: {mean_f1}\")\n"
      ]
    },
    {
      "cell_type": "code",
      "execution_count": null,
      "metadata": {
        "colab": {
          "base_uri": "https://localhost:8080/"
        },
        "id": "0bG9Lmtbs1zA",
        "outputId": "8ab7ff14-0ad6-48ac-f477-8393bf709180"
      },
      "outputs": [
        {
          "output_type": "stream",
          "name": "stdout",
          "text": [
            "(4761, 274, 1)\n"
          ]
        }
      ],
      "source": [
        "print(X_train.shape)\n",
        "\n"
      ]
    },
    {
      "cell_type": "code",
      "execution_count": null,
      "metadata": {
        "id": "PgdLjS1_x3pm"
      },
      "outputs": [],
      "source": []
    },
    {
      "cell_type": "code",
      "execution_count": null,
      "metadata": {
        "id": "v3_XEgYNx9Bg"
      },
      "outputs": [],
      "source": [
        "num_classes = len(np.unique(y_train))\n"
      ]
    },
    {
      "cell_type": "code",
      "source": [
        "import pandas as pd\n",
        "import numpy as np\n",
        "from sklearn.model_selection import KFold\n",
        "from sklearn.metrics import accuracy_score, precision_score, recall_score, f1_score\n",
        "from keras.models import Sequential\n",
        "from keras.layers import LSTM, Dense\n",
        "\n",
        "# Assuming your features are in columns other than the last one\n",
        "X = data.iloc[:, :-1]  # Features\n",
        "y = data.iloc[:, -1]   # Target variable\n",
        "\n",
        "# ... (previous code remains the same up to the reshaping step)\n",
        "\n",
        "# Convert features to a numpy array and reshape for LSTM input\n",
        "X = X.values.astype(np.float32)  # Convert to NumPy array\n",
        "X = X.reshape(X.shape[0], X.shape[1], 1)  # Reshape for LSTM input\n",
        "\n",
        "# Define evaluation metrics lists\n",
        "accuracies = []\n",
        "precisions = []\n",
        "recalls = []\n",
        "f1_scores = []\n",
        "\n",
        "# ... (continue with the rest of the cross-validation code)\n",
        "\n",
        "\n",
        "# Define evaluation metrics lists\n",
        "accuracies = []\n",
        "precisions = []\n",
        "recalls = []\n",
        "f1_scores = []\n",
        "\n",
        "# Define the number of folds for cross-validation\n",
        "num_folds = 5\n",
        "kf = KFold(n_splits=num_folds, shuffle=True)\n",
        "\n",
        "for train_index, test_index in kf.split(X):\n",
        "    X_train, X_test = X[train_index], X[test_index]\n",
        "    y_train, y_test = y[train_index], y[test_index]\n",
        "\n",
        "    # Define your Vanilla LSTM model\n",
        "    model = Sequential()\n",
        "    model.add(LSTM(units=64, input_shape=(X_train.shape[1], X_train.shape[2])))\n",
        "    model.add(Dense(units=1, activation='sigmoid'))\n",
        "\n",
        "    # Compile the model\n",
        "    model.compile(loss='binary_crossentropy', optimizer='adam', metrics=['accuracy'])\n",
        "\n",
        "    # Train the model\n",
        "    history = model.fit(X_train, y_train, epochs=5, batch_size=32, validation_split=0.1, verbose=0)\n",
        "\n",
        "    # Evaluate the model on the test set for this fold\n",
        "    predicted_probs = model.predict(X_test)\n",
        "    predicted_labels = (predicted_probs > 0.5).astype(int)\n",
        "\n",
        "    # Calculate evaluation metrics for this fold\n",
        "    accuracy = accuracy_score(y_test, predicted_labels)\n",
        "    precision = precision_score(y_test, predicted_labels)\n",
        "    recall = recall_score(y_test, predicted_labels)\n",
        "    f1 = f1_score(y_test, predicted_labels)\n",
        "\n",
        "    # Append metrics to the lists\n",
        "    accuracies.append(accuracy)\n",
        "    precisions.append(precision)\n",
        "    recalls.append(recall)\n",
        "    f1_scores.append(f1)\n",
        "\n",
        "# Calculate mean evaluation metrics over all folds\n",
        "mean_accuracy = np.mean(accuracies)\n",
        "mean_precision = np.mean(precisions)\n",
        "mean_recall = np.mean(recalls)\n",
        "mean_f1 = np.mean(f1_scores)\n",
        "\n",
        "print(f\"Mean Accuracy: {mean_accuracy}, Mean Precision: {mean_precision}, Mean Recall: {mean_recall}, Mean F1 Score: {mean_f1}\")\n"
      ],
      "metadata": {
        "colab": {
          "base_uri": "https://localhost:8080/"
        },
        "id": "2aoR4K7MliKP",
        "outputId": "bd9d246e-a219-4bbb-dd51-e1d81e9270bc"
      },
      "execution_count": null,
      "outputs": [
        {
          "output_type": "stream",
          "name": "stdout",
          "text": [
            "38/38 [==============================] - 1s 27ms/step\n",
            "38/38 [==============================] - 1s 27ms/step\n",
            "38/38 [==============================] - 1s 24ms/step\n",
            "38/38 [==============================] - 1s 23ms/step\n",
            "38/38 [==============================] - 1s 22ms/step\n",
            "Mean Accuracy: 0.8901049185417239, Mean Precision: 0.7286443661971831, Mean Recall: 0.23852120709539823, Mean F1 Score: 0.33831690317597723\n"
          ]
        }
      ]
    },
    {
      "cell_type": "code",
      "source": [
        "from sklearn.model_selection import KFold\n",
        "import numpy as np\n",
        "from keras.models import Sequential\n",
        "from keras.layers import GRU, Dense\n",
        "from sklearn.metrics import accuracy_score, precision_score, recall_score, f1_score\n",
        "\n",
        "# Assuming your data is preprocessed and X, y are defined similarly as before\n",
        "\n",
        "# Define your GRU model\n",
        "model = Sequential()\n",
        "model.add(GRU(units=64, return_sequences=True, input_shape=(X.shape[1], X.shape[2])))\n",
        "model.add(GRU(units=32))  # Adding the second GRU layer\n",
        "model.add(Dense(units=1, activation='sigmoid'))\n",
        "\n",
        "# Compile the model\n",
        "model.compile(loss='binary_crossentropy', optimizer='adam', metrics=['accuracy'])\n",
        "\n",
        "# Initialize evaluation metrics lists\n",
        "accuracies = []\n",
        "precisions = []\n",
        "recalls = []\n",
        "f1_scores = []\n",
        "\n",
        "# Define the number of folds for cross-validation\n",
        "num_folds = 5\n",
        "kf = KFold(n_splits=num_folds, shuffle=True)\n",
        "\n",
        "for train_index, test_index in kf.split(X):\n",
        "    X_train_fold, X_val_fold = X[train_index], X[test_index]\n",
        "    y_train_fold, y_val_fold = y[train_index], y[test_index]\n",
        "\n",
        "    # Train the model on this fold\n",
        "    model.fit(X_train_fold, y_train_fold, epochs=5, batch_size=32, validation_data=(X_val_fold, y_val_fold), verbose=0)\n",
        "\n",
        "    # Evaluate on the test set for this fold\n",
        "    predicted_probs = model.predict(X_val_fold)\n",
        "    predicted_labels = (predicted_probs > 0.5).astype(int)\n",
        "\n",
        "    # Calculate evaluation metrics for this fold\n",
        "    accuracy = accuracy_score(y_val_fold, predicted_labels)\n",
        "    precision = precision_score(y_val_fold, predicted_labels)\n",
        "    recall = recall_score(y_val_fold, predicted_labels)\n",
        "    f1 = f1_score(y_val_fold, predicted_labels)\n",
        "\n",
        "    accuracies.append(accuracy)\n",
        "    precisions.append(precision)\n",
        "    recalls.append(recall)\n",
        "    f1_scores.append(f1)\n",
        "\n",
        "# Calculate mean evaluation metrics over all folds\n",
        "mean_accuracy = np.mean(accuracies)\n",
        "mean_precision = np.mean(precisions)\n",
        "mean_recall = np.mean(recalls)\n",
        "mean_f1 = np.mean(f1_scores)\n",
        "\n",
        "print(f\"Mean Accuracy: {mean_accuracy}, Mean Precision: {mean_precision}, Mean Recall: {mean_recall}, Mean F1 Score: {mean_f1}\")\n"
      ],
      "metadata": {
        "colab": {
          "base_uri": "https://localhost:8080/"
        },
        "id": "39qqRQTuliTg",
        "outputId": "50a256e5-473b-4a75-b826-0749ba40ea7b"
      },
      "execution_count": null,
      "outputs": [
        {
          "output_type": "stream",
          "name": "stdout",
          "text": [
            "38/38 [==============================] - 2s 31ms/step\n",
            "38/38 [==============================] - 1s 31ms/step\n",
            "38/38 [==============================] - 1s 31ms/step\n",
            "38/38 [==============================] - 1s 32ms/step\n",
            "38/38 [==============================] - 1s 31ms/step\n",
            "Mean Accuracy: 0.9250582449604527, Mean Precision: 0.7457154904779106, Mean Recall: 0.6051353517614961, Mean F1 Score: 0.6624024837516859\n"
          ]
        }
      ]
    },
    {
      "cell_type": "code",
      "source": [
        "from sklearn.model_selection import KFold\n",
        "import numpy as np\n",
        "from keras.models import Sequential\n",
        "from keras.layers import LSTM, Dense\n",
        "from sklearn.metrics import accuracy_score, precision_score, recall_score, f1_score\n",
        "\n",
        "# Assuming your preprocessed data is stored in X and y\n",
        "\n",
        "# Initialize evaluation metrics lists\n",
        "accuracies = []\n",
        "precisions = []\n",
        "recalls = []\n",
        "f1_scores = []\n",
        "\n",
        "# Define the number of folds for cross-validation\n",
        "num_folds = 5\n",
        "kf = KFold(n_splits=num_folds, shuffle=True)\n",
        "\n",
        "for train_index, test_index in kf.split(X):\n",
        "    X_train_fold, X_val_fold = X[train_index], X[test_index]\n",
        "    y_train_fold, y_val_fold = y[train_index], y[test_index]\n",
        "\n",
        "    # Define your Peephole LSTM model\n",
        "    model = Sequential()\n",
        "    model.add(LSTM(units=64, input_shape=(X_train_fold.shape[1], X_train_fold.shape[2]), unit_forget_bias=True))\n",
        "    model.add(Dense(units=1, activation='sigmoid'))\n",
        "\n",
        "    # Compile the model\n",
        "    model.compile(loss='binary_crossentropy', optimizer='adam', metrics=['accuracy'])\n",
        "\n",
        "    # Train the model on this fold\n",
        "    history = model.fit(X_train_fold, y_train_fold, epochs=5, batch_size=32, validation_data=(X_val_fold, y_val_fold), verbose=0)\n",
        "\n",
        "    # Evaluate on the test set for this fold\n",
        "    predicted_probs = model.predict(X_val_fold)\n",
        "    predicted_labels = (predicted_probs > 0.5).astype(int)\n",
        "\n",
        "    # Calculate evaluation metrics for this fold\n",
        "    accuracy = accuracy_score(y_val_fold, predicted_labels)\n",
        "    precision = precision_score(y_val_fold, predicted_labels)\n",
        "    recall = recall_score(y_val_fold, predicted_labels)\n",
        "    f1 = f1_score(y_val_fold, predicted_labels)\n",
        "\n",
        "    accuracies.append(accuracy)\n",
        "    precisions.append(precision)\n",
        "    recalls.append(recall)\n",
        "    f1_scores.append(f1)\n",
        "\n",
        "# Calculate mean evaluation metrics over all folds\n",
        "mean_accuracy = np.mean(accuracies)\n",
        "mean_precision = np.mean(precisions)\n",
        "mean_recall = np.mean(recalls)\n",
        "mean_f1 = np.mean(f1_scores)\n",
        "\n",
        "print(f\"Mean Accuracy: {mean_accuracy}, Mean Precision: {mean_precision}, Mean Recall: {mean_recall}, Mean F1 Score: {mean_f1}\")\n"
      ],
      "metadata": {
        "colab": {
          "base_uri": "https://localhost:8080/"
        },
        "id": "bACwIh0GlibA",
        "outputId": "be597497-49ba-4ecc-ca71-dc66a6d5ba8e"
      },
      "execution_count": null,
      "outputs": [
        {
          "output_type": "stream",
          "name": "stdout",
          "text": [
            "38/38 [==============================] - 1s 24ms/step\n",
            "38/38 [==============================] - 1s 30ms/step\n",
            "38/38 [==============================] - 1s 27ms/step\n",
            "38/38 [==============================] - 1s 25ms/step\n",
            "38/38 [==============================] - 1s 22ms/step\n",
            "Mean Accuracy: 0.8912788490711145, Mean Precision: 0.7279783386566611, Mean Recall: 0.2290125280630395, Mean F1 Score: 0.3324715286337538\n"
          ]
        }
      ]
    },
    {
      "cell_type": "code",
      "source": [
        "from sklearn.model_selection import KFold\n",
        "import numpy as np\n",
        "from keras.models import Model\n",
        "from keras.layers import LSTM, Conv1D, MaxPooling1D, Flatten, Dense, Input, concatenate\n",
        "from sklearn.metrics import accuracy_score, precision_score, recall_score, f1_score\n",
        "\n",
        "# Assuming X and y are already defined\n",
        "\n",
        "# Initialize evaluation metrics lists\n",
        "accuracies = []\n",
        "precisions = []\n",
        "recalls = []\n",
        "f1_scores = []\n",
        "\n",
        "# Define the number of folds for cross-validation\n",
        "num_folds = 5\n",
        "kf = KFold(n_splits=num_folds, shuffle=True)\n",
        "\n",
        "for train_index, test_index in kf.split(X):\n",
        "    X_train_fold, X_val_fold = X[train_index], X[test_index]\n",
        "    y_train_fold, y_val_fold = y[train_index], y[test_index]\n",
        "\n",
        "    # Define LSTM Model\n",
        "    input_layer = Input(shape=(X_train_fold.shape[1], X_train_fold.shape[2]))\n",
        "    lstm_layer = LSTM(units=64, return_sequences=True)(input_layer)\n",
        "    lstm_flatten = Flatten()(lstm_layer)\n",
        "\n",
        "    # Define CNN Model\n",
        "    conv1d_layer = Conv1D(filters=32, kernel_size=3, activation='relu')(input_layer)\n",
        "    maxpooling_layer = MaxPooling1D(pool_size=2)(conv1d_layer)\n",
        "    cnn_flatten = Flatten()(maxpooling_layer)\n",
        "\n",
        "    # Merge LSTM and CNN branches\n",
        "    merged = concatenate([lstm_flatten, cnn_flatten])\n",
        "\n",
        "    # Fully connected layers\n",
        "    dense_layer = Dense(units=64, activation='relu')(merged)\n",
        "    output_layer = Dense(units=1, activation='sigmoid')(dense_layer)\n",
        "\n",
        "    # Create the model\n",
        "    model = Model(inputs=input_layer, outputs=output_layer)\n",
        "\n",
        "    # Compile the model\n",
        "    model.compile(loss='binary_crossentropy', optimizer='adam', metrics=['accuracy'])\n",
        "\n",
        "    # Train the model on this fold\n",
        "    history = model.fit(X_train_fold, y_train_fold, epochs=5, batch_size=32, validation_data=(X_val_fold, y_val_fold), verbose=0)\n",
        "\n",
        "    # Evaluate on the test set for this fold\n",
        "    predicted_probs = model.predict(X_val_fold)\n",
        "    predicted_labels = (predicted_probs > 0.5).astype(int)\n",
        "\n",
        "    # Calculate evaluation metrics for this fold\n",
        "    accuracy = accuracy_score(y_val_fold, predicted_labels)\n",
        "    precision = precision_score(y_val_fold, predicted_labels)\n",
        "    recall = recall_score(y_val_fold, predicted_labels)\n",
        "    f1 = f1_score(y_val_fold, predicted_labels)\n",
        "\n",
        "    accuracies.append(accuracy)\n",
        "    precisions.append(precision)\n",
        "    recalls.append(recall)\n",
        "    f1_scores.append(f1)\n",
        "\n",
        "# Calculate mean evaluation metrics over all folds\n",
        "mean_accuracy = np.mean(accuracies)\n",
        "mean_precision = np.mean(precisions)\n",
        "mean_recall = np.mean(recalls)\n",
        "mean_f1 = np.mean(f1_scores)\n",
        "\n",
        "print(f\"Mean Accuracy: {mean_accuracy}, Mean Precision: {mean_precision}, Mean Recall: {mean_recall}, Mean F1 Score: {mean_f1}\")\n"
      ],
      "metadata": {
        "colab": {
          "base_uri": "https://localhost:8080/"
        },
        "id": "ifqAidbWoH2a",
        "outputId": "f73fc0fc-f136-4d22-d3e4-e382b29ca7be"
      },
      "execution_count": null,
      "outputs": [
        {
          "output_type": "stream",
          "name": "stdout",
          "text": [
            "38/38 [==============================] - 1s 27ms/step\n",
            "38/38 [==============================] - 1s 27ms/step\n",
            "38/38 [==============================] - 1s 26ms/step\n",
            "38/38 [==============================] - 1s 28ms/step\n",
            "38/38 [==============================] - 2s 32ms/step\n",
            "Mean Accuracy: 0.9642077485906201, Mean Precision: 0.8787893260882018, Mean Recall: 0.828126896271305, Mean F1 Score: 0.8522137169890842\n"
          ]
        }
      ]
    },
    {
      "cell_type": "code",
      "source": [
        "from sklearn.model_selection import KFold\n",
        "import numpy as np\n",
        "from keras.models import Model\n",
        "from keras.layers import LSTM, Dense, Input, dot, Activation, concatenate, Lambda\n",
        "from sklearn.metrics import accuracy_score, precision_score, recall_score, f1_score\n",
        "from keras import backend as K\n",
        "\n",
        "# Assuming X and y are already defined\n",
        "\n",
        "# Initialize evaluation metrics lists\n",
        "accuracies = []\n",
        "precisions = []\n",
        "recalls = []\n",
        "f1_scores = []\n",
        "\n",
        "# Define the number of folds for cross-validation\n",
        "num_folds = 5\n",
        "kf = KFold(n_splits=num_folds, shuffle=True)\n",
        "\n",
        "\n",
        "\n",
        "# Attention mechanism\n",
        "def attention_layer(inputs):\n",
        "    hidden_states = inputs\n",
        "    hidden_size = int(hidden_states.shape[2])\n",
        "    score_first_part = Dense(hidden_size, use_bias=False)(hidden_states)\n",
        "    h_t = Lambda(lambda x: x[:, -1, :], output_shape=(hidden_size,))(hidden_states)\n",
        "    score = dot([score_first_part, h_t], [2, 1])\n",
        "    attention_weights = Activation('softmax')(score)\n",
        "    context_vector = dot([hidden_states, attention_weights], [1, 1])\n",
        "    return context_vector\n",
        "\n",
        "\n",
        "# Inside your loop\n",
        "for train_index, test_index in kf.split(X):\n",
        "    X_train_fold, X_val_fold = X[train_index], X[test_index]\n",
        "    y_train_fold, y_val_fold = y[train_index], y[test_index]\n",
        "\n",
        "    input_layer = Input(shape=(X_train_fold.shape[1], X_train_fold.shape[2]))\n",
        "    lstm_layer = LSTM(units=64, return_sequences=True)(input_layer)\n",
        "    attention = attention_layer(lstm_layer)  # Ensure this outputs a tensor\n",
        "\n",
        "    # Debugging: print the shape of attention to ensure it's not None\n",
        "    print(\"Attention shape:\", attention.shape)\n",
        "\n",
        "    output_layer = Dense(units=1, activation='sigmoid')(attention)\n",
        "\n",
        "    model = Model(inputs=input_layer, outputs=output_layer)\n",
        "    model.compile(loss='binary_crossentropy', optimizer='adam', metrics=['accuracy'])\n",
        "\n",
        "    history = model.fit(X_train_fold, y_train_fold, epochs=5, batch_size=32, validation_data=(X_val_fold, y_val_fold), verbose=0)\n",
        "\n",
        "    # Evaluate on the test set for this fold\n",
        "    predicted_probs = model.predict(X_val_fold)\n",
        "    predicted_labels = (predicted_probs > 0.5).astype(int)\n",
        "\n",
        "    # Calculate evaluation metrics for this fold\n",
        "    accuracy = accuracy_score(y_val_fold, predicted_labels)\n",
        "    precision = precision_score(y_val_fold, predicted_labels)\n",
        "    recall = recall_score(y_val_fold, predicted_labels)\n",
        "    f1 = f1_score(y_val_fold, predicted_labels)\n",
        "\n",
        "    accuracies.append(accuracy)\n",
        "    precisions.append(precision)\n",
        "    recalls.append(recall)\n",
        "    f1_scores.append(f1)\n",
        "\n",
        "# Calculate mean evaluation metrics over all folds\n",
        "mean_accuracy = np.mean(accuracies)\n",
        "mean_precision = np.mean(precisions)\n",
        "mean_recall = np.mean(recalls)\n",
        "mean_f1 = np.mean(f1_scores)\n",
        "\n",
        "print(f\"Mean Accuracy: {mean_accuracy}, Mean Precision: {mean_precision}, Mean Recall: {mean_recall}, Mean F1 Score: {mean_f1}\")\n"
      ],
      "metadata": {
        "colab": {
          "base_uri": "https://localhost:8080/"
        },
        "id": "opNFWyJ8oIA3",
        "outputId": "3d93550b-6318-4017-ca2c-adb1dcf7742e"
      },
      "execution_count": null,
      "outputs": [
        {
          "output_type": "stream",
          "name": "stdout",
          "text": [
            "Attention shape: (None, 64)\n",
            "38/38 [==============================] - 1s 28ms/step\n",
            "Attention shape: (None, 64)\n",
            "38/38 [==============================] - 1s 26ms/step\n",
            "Attention shape: (None, 64)\n",
            "38/38 [==============================] - 1s 25ms/step\n",
            "Attention shape: (None, 64)\n",
            "38/38 [==============================] - 1s 24ms/step\n",
            "Attention shape: (None, 64)\n",
            "38/38 [==============================] - 1s 24ms/step\n",
            "Mean Accuracy: 0.9100978628227109, Mean Precision: 0.7431398601398602, Mean Recall: 0.4651746138660894, Mean F1 Score: 0.5657770348282682\n"
          ]
        }
      ]
    },
    {
      "cell_type": "code",
      "source": [
        "from sklearn.preprocessing import LabelEncoder\n",
        "\n",
        "# Assuming 'y_train' is your target variable\n",
        "label_encoder = LabelEncoder()\n",
        "y_train_encoded = label_encoder.fit_transform(y_train)\n"
      ],
      "metadata": {
        "id": "nzXzv27uBrYJ"
      },
      "execution_count": null,
      "outputs": []
    },
    {
      "cell_type": "code",
      "source": [
        "from sklearn.model_selection import KFold\n",
        "import numpy as np\n",
        "from sklearn.metrics import accuracy_score, precision_score, recall_score, f1_score\n",
        "from keras.layers import Input, LSTM, Conv1D, MaxPooling1D, Flatten, Dense, Concatenate\n",
        "from keras.models import Model\n",
        "\n",
        "# Assuming X_train, y_train_encoded, X_test, y_test_encoded are defined\n",
        "\n",
        "# Reshape X_train for LSTM-CNN input\n",
        "X_train = X_train.reshape(X_train.shape[0], X_train.shape[1], 1)\n",
        "X_test = X_test.reshape(X_test.shape[0], X_test.shape[1], 1)\n",
        "\n",
        "# Initialize evaluation metrics lists\n",
        "accuracies = []\n",
        "precisions = []\n",
        "recalls = []\n",
        "f1_scores = []\n",
        "\n",
        "# Define the number of folds for cross-validation\n",
        "num_folds = 5\n",
        "kf = KFold(n_splits=num_folds, shuffle=True)\n",
        "\n",
        "# Inside your loop for cross-validation\n",
        "for train_index, test_index in kf.split(X_train):\n",
        "    X_train_fold, X_val_fold = X_train[train_index], X_train[test_index]\n",
        "    y_train_fold, y_val_fold = y_train_encoded[train_index], y_train_encoded[test_index]\n",
        "\n",
        "    # Model architecture\n",
        "    input_layer = Input(shape=(X_train_fold.shape[1], 1))\n",
        "    conv1 = Conv1D(filters=64, kernel_size=3, activation='relu')(input_layer)\n",
        "    pool1 = MaxPooling1D(pool_size=2)(conv1)\n",
        "    lstm1 = LSTM(units=64, return_sequences=True)(pool1)\n",
        "    lstm2 = LSTM(units=64, return_sequences=True)(lstm1)\n",
        "    conv1_padded = Conv1D(filters=64, kernel_size=3, activation='relu', padding='same')(conv1)\n",
        "    skip_connection = Concatenate(axis=-2)([lstm2, conv1_padded])\n",
        "    flat = Flatten()(skip_connection)\n",
        "    output_layer = Dense(units=num_classes, activation='softmax')(flat)\n",
        "    model = Model(inputs=input_layer, outputs=output_layer)\n",
        "    model.compile(loss='sparse_categorical_crossentropy', optimizer='adam', metrics=['accuracy'])\n",
        "\n",
        "    # Train the model\n",
        "    history = model.fit(X_train_fold, y_train_fold, epochs=5, batch_size=32, validation_data=(X_val_fold, y_val_fold), verbose=0)\n",
        "\n",
        "    # Evaluate the model on the validation set for this fold\n",
        "    predicted_probs = model.predict(X_val_fold)\n",
        "    predicted_labels = predicted_probs.argmax(axis=1)\n",
        "\n",
        "    # Calculate evaluation metrics for this fold\n",
        "    accuracy = accuracy_score(y_val_fold, predicted_labels)\n",
        "    precision = precision_score(y_val_fold, predicted_labels, average='weighted')\n",
        "    recall = recall_score(y_val_fold, predicted_labels, average='weighted')\n",
        "    f1 = f1_score(y_val_fold, predicted_labels, average='weighted')\n",
        "\n",
        "    # Append the metrics to the lists\n",
        "    accuracies.append(accuracy)\n",
        "    precisions.append(precision)\n",
        "    recalls.append(recall)\n",
        "    f1_scores.append(f1)\n",
        "\n",
        "# Calculate mean evaluation metrics over all folds\n",
        "mean_accuracy = np.mean(accuracies)\n",
        "mean_precision = np.mean(precisions)\n",
        "mean_recall = np.mean(recalls)\n",
        "mean_f1 = np.mean(f1_scores)\n",
        "\n",
        "print(f\"Mean Accuracy: {mean_accuracy}, Mean Precision: {mean_precision}, Mean Recall: {mean_recall}, Mean F1 Score: {mean_f1}\")\n"
      ],
      "metadata": {
        "colab": {
          "base_uri": "https://localhost:8080/"
        },
        "id": "gkypc5x_oIJw",
        "outputId": "2da9008f-0ca8-4580-eb6e-1508c8c2f08f"
      },
      "execution_count": null,
      "outputs": [
        {
          "output_type": "stream",
          "name": "stdout",
          "text": [
            "30/30 [==============================] - 2s 39ms/step\n",
            "30/30 [==============================] - 2s 34ms/step\n",
            "30/30 [==============================] - 1s 31ms/step\n",
            "30/30 [==============================] - 1s 31ms/step\n",
            "30/30 [==============================] - 1s 28ms/step\n",
            "Mean Accuracy: 0.9592516334970504, Mean Precision: 0.9584592089458781, Mean Recall: 0.9592516334970504, Mean F1 Score: 0.9575217220438417\n"
          ]
        }
      ]
    },
    {
      "cell_type": "code",
      "source": [],
      "metadata": {
        "id": "j2IWDWlQoIS5"
      },
      "execution_count": null,
      "outputs": []
    },
    {
      "cell_type": "code",
      "execution_count": null,
      "metadata": {
        "id": "CKbvlk8E86Wv"
      },
      "outputs": [],
      "source": []
    }
  ],
  "metadata": {
    "accelerator": "GPU",
    "colab": {
      "provenance": [],
      "mount_file_id": "1zR9xgv6TYUlwoqOJnbzQVrOe_JwigcVF",
      "authorship_tag": "ABX9TyOVe1u/7YP9+bJUrTnisvie",
      "include_colab_link": true
    },
    "kernelspec": {
      "display_name": "Python 3",
      "name": "python3"
    },
    "language_info": {
      "name": "python"
    }
  },
  "nbformat": 4,
  "nbformat_minor": 0
}